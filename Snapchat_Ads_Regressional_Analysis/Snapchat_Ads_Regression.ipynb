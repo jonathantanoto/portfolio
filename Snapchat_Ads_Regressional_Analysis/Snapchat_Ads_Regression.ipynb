{
 "cells": [
  {
   "cell_type": "markdown",
   "metadata": {},
   "source": [
    "# Snapchat Political Ads\n",
    "* **See the main project notebook for instructions to be sure you satisfy the rubric!**\n",
    "* See Project 03 for information on the dataset.\n",
    "* A few example prediction questions to pursue are listed below. However, don't limit yourself to them!\n",
    "    * Predict the reach (number of views) of an ad.\n",
    "    * Predict how much was spent on an ad.\n",
    "    * Predict the target group of an ad. (For example, predict the target gender.)\n",
    "    * Predict the (type of) organization/advertiser behind an ad.\n",
    "\n",
    "Be careful to justify what information you would know at the \"time of prediction\" and train your model using only those features."
   ]
  },
  {
   "cell_type": "markdown",
   "metadata": {},
   "source": [
    "# Summary of Findings\n",
    "\n",
    "\n",
    "### Introduction\n",
    "- Prediction Problem: **Regression problem to predict Impressions**. \n",
    "- Features that will be used to predict Impressions would be: 'Currency Code', 'Spend', 'Impressions', 'StartDate','EndDate', 'Gender', 'AgeBracket', 'CountryCode', 'Interests', and 'Language'\n",
    "- The objective of the project is to increase accuracy measured by the R^2 score of the model.\n",
    "- Since it is not a classification problem, we can ignore the Sensitivity and Specificity aspects of the model.\n",
    "\n",
    "### Baseline Model\n",
    "- Features\n",
    "    - Quantitative: Spend\n",
    "    - Ordinal: *None*\n",
    "    - Nominal: CurrencyCode, CountryCode\n",
    "- Notice how there are no ordinal features, for the baseline model.\n",
    "- A lot of the initial features are taken away as they need to be engineered in order to be useful.\n",
    "- Nominal Features will be one-hot encoded.\n",
    "- **The R^2 score of the baseline model floats around 0.3 and 0.6 for the most part.**\n",
    "- I think that the score value looks promising. It looks like most of the regression is done based on Spend, which makes sense since higher spending on the ad correlates directly with impressions observed.\n",
    "- However, I think that the model can be improved by engineering additional features.\n",
    "\n",
    "### Final Model\n",
    "- Engineered Features:\n",
    "    - MultiLabelBinarizer for OHE of Interests and Language: targeted interests of ads might play a role on the impressions it gets. Perhaps certain interests are taken more seriously for some viewers.\n",
    "    - Duration derived from StartDate and EndDate. There should be a direct correlation between duration of the ads airtime and its impressions.\n",
    "- Findings:\n",
    "    - GridSearch on best parameter for categorical features PCA n_components (Currency Code, CountryCode, Interests, Language)\n",
    "    - Discovered that all the categorical features are advised to be taken out.\n",
    "    - Essentially back to baseline model but added imputation strategy for quantitative columns\n",
    "    - Slight imporvement in R^2 score, better accuracy.\n",
    "\n",
    "### Fairness Evaluation\n",
    "- Compared the accuracy of the model for year 2019 and 2020.\n",
    "- It seems to be doing better for the year 2019 than 2020 by quite a margin. \n",
    "- The mean R^2 value for the 2020 model is negative. \n",
    "- One reason to explain this is probably the fact that 2020 is still the current year so there is not sufficient data to model it. \n",
    "- Whereas 2019 data make up for most of the main dataset which created the model so it results in a higher accuracy.\n"
   ]
  },
  {
   "cell_type": "markdown",
   "metadata": {},
   "source": [
    "# Code"
   ]
  },
  {
   "cell_type": "markdown",
   "metadata": {},
   "source": [
    "### Data Cleaning"
   ]
  },
  {
   "cell_type": "code",
   "execution_count": 3,
   "metadata": {},
   "outputs": [],
   "source": [
    "import matplotlib.pyplot as plt\n",
    "import numpy as np\n",
    "import os \n",
    "import pandas as pd\n",
    "import seaborn as sns\n",
    "%matplotlib inline\n",
    "%config InlineBackend.figure_format = 'retina'  # Higher resolution figures"
   ]
  },
  {
   "cell_type": "code",
   "execution_count": 4,
   "metadata": {},
   "outputs": [],
   "source": [
    "ads_19 = pd.read_csv('data/political_ads_19.csv')\n",
    "ads_20 = pd.read_csv('data/political_ads_20.csv')"
   ]
  },
  {
   "cell_type": "markdown",
   "metadata": {},
   "source": [
    "#### Concatenate the two different DataFrames from two different years."
   ]
  },
  {
   "cell_type": "code",
   "execution_count": 6,
   "metadata": {},
   "outputs": [
    {
     "data": {
      "text/html": [
       "<div>\n",
       "<style scoped>\n",
       "    .dataframe tbody tr th:only-of-type {\n",
       "        vertical-align: middle;\n",
       "    }\n",
       "\n",
       "    .dataframe tbody tr th {\n",
       "        vertical-align: top;\n",
       "    }\n",
       "\n",
       "    .dataframe thead th {\n",
       "        text-align: right;\n",
       "    }\n",
       "</style>\n",
       "<table border=\"1\" class=\"dataframe\">\n",
       "  <thead>\n",
       "    <tr style=\"text-align: right;\">\n",
       "      <th></th>\n",
       "      <th>ADID</th>\n",
       "      <th>CreativeUrl</th>\n",
       "      <th>Currency Code</th>\n",
       "      <th>Spend</th>\n",
       "      <th>Impressions</th>\n",
       "      <th>StartDate</th>\n",
       "      <th>EndDate</th>\n",
       "      <th>OrganizationName</th>\n",
       "      <th>BillingAddress</th>\n",
       "      <th>CandidateBallotInformation</th>\n",
       "      <th>...</th>\n",
       "      <th>Location Categories (Included)</th>\n",
       "      <th>Location Categories (Excluded)</th>\n",
       "      <th>Interests</th>\n",
       "      <th>OsType</th>\n",
       "      <th>Segments</th>\n",
       "      <th>Language</th>\n",
       "      <th>AdvancedDemographics</th>\n",
       "      <th>Targeting Connection Type</th>\n",
       "      <th>Targeting Carrier (ISP)</th>\n",
       "      <th>CreativeProperties</th>\n",
       "    </tr>\n",
       "  </thead>\n",
       "  <tbody>\n",
       "    <tr>\n",
       "      <th>0</th>\n",
       "      <td>a18429b490a54c3fe6e9c726f9dc7279ea4d2d51285fc1...</td>\n",
       "      <td>https://www.snap.com/political-ads/asset/94e84...</td>\n",
       "      <td>GBP</td>\n",
       "      <td>8</td>\n",
       "      <td>4167</td>\n",
       "      <td>2019/11/26 00:00:06Z</td>\n",
       "      <td>2019/11/26 23:00:00Z</td>\n",
       "      <td>HOPE not hate Charitable Trust</td>\n",
       "      <td>103-105 Blundell St,London,N7 9BN,GB</td>\n",
       "      <td>NaN</td>\n",
       "      <td>...</td>\n",
       "      <td>NaN</td>\n",
       "      <td>NaN</td>\n",
       "      <td>NaN</td>\n",
       "      <td>NaN</td>\n",
       "      <td>Provided by Advertiser</td>\n",
       "      <td>NaN</td>\n",
       "      <td>NaN</td>\n",
       "      <td>NaN</td>\n",
       "      <td>NaN</td>\n",
       "      <td>web_view_url:https://www.gov.uk/register-to-vote</td>\n",
       "    </tr>\n",
       "    <tr>\n",
       "      <th>1</th>\n",
       "      <td>4f322a3bfda8c0defb40b5880d5c1a1e92955059b201cd...</td>\n",
       "      <td>https://www.snap.com/political-ads/asset/fb0dd...</td>\n",
       "      <td>EUR</td>\n",
       "      <td>505</td>\n",
       "      <td>646878</td>\n",
       "      <td>2019/10/02 16:49:19Z</td>\n",
       "      <td>2019/10/23 21:59:26Z</td>\n",
       "      <td>ORIXA MEDIA</td>\n",
       "      <td>79 Boulevard Richard Lenoir,PARIS,75011,FR</td>\n",
       "      <td>NaN</td>\n",
       "      <td>...</td>\n",
       "      <td>NaN</td>\n",
       "      <td>NaN</td>\n",
       "      <td>Political News Watchers</td>\n",
       "      <td>NaN</td>\n",
       "      <td>Provided by Advertiser</td>\n",
       "      <td>fr</td>\n",
       "      <td>NaN</td>\n",
       "      <td>NaN</td>\n",
       "      <td>NaN</td>\n",
       "      <td>web_view_url:https://reprenonslepouvoir.org?ut...</td>\n",
       "    </tr>\n",
       "    <tr>\n",
       "      <th>2</th>\n",
       "      <td>2f1481be8088238a3c653748920ff56f46061e6d0df74e...</td>\n",
       "      <td>https://www.snap.com/political-ads/asset/7d646...</td>\n",
       "      <td>EUR</td>\n",
       "      <td>186</td>\n",
       "      <td>179036</td>\n",
       "      <td>2019/08/12 08:30:41Z</td>\n",
       "      <td>2019/08/25 21:32:12Z</td>\n",
       "      <td>Reprise Media</td>\n",
       "      <td>Skt. Petri Passage 52 ,København K,1165,DK</td>\n",
       "      <td>NaN</td>\n",
       "      <td>...</td>\n",
       "      <td>NaN</td>\n",
       "      <td>NaN</td>\n",
       "      <td>NaN</td>\n",
       "      <td>NaN</td>\n",
       "      <td>Provided by Advertiser</td>\n",
       "      <td>NaN</td>\n",
       "      <td>NaN</td>\n",
       "      <td>NaN</td>\n",
       "      <td>NaN</td>\n",
       "      <td>NaN</td>\n",
       "    </tr>\n",
       "    <tr>\n",
       "      <th>3</th>\n",
       "      <td>1579898f558416cbb3d7fe840d537cabeabf0e1d4432bf...</td>\n",
       "      <td>https://www.snap.com/political-ads/asset/1ad06...</td>\n",
       "      <td>GBP</td>\n",
       "      <td>4624</td>\n",
       "      <td>2909454</td>\n",
       "      <td>2019/05/21 11:51:56Z</td>\n",
       "      <td>2019/05/23 15:58:14Z</td>\n",
       "      <td>Avaaz Campaigns UK</td>\n",
       "      <td>GB</td>\n",
       "      <td>NaN</td>\n",
       "      <td>...</td>\n",
       "      <td>NaN</td>\n",
       "      <td>NaN</td>\n",
       "      <td>NaN</td>\n",
       "      <td>NaN</td>\n",
       "      <td>Provided by Advertiser</td>\n",
       "      <td>NaN</td>\n",
       "      <td>NaN</td>\n",
       "      <td>NaN</td>\n",
       "      <td>NaN</td>\n",
       "      <td>NaN</td>\n",
       "    </tr>\n",
       "    <tr>\n",
       "      <th>4</th>\n",
       "      <td>90dd24346e85cf696f5ac1573d7176989b844b380bba3c...</td>\n",
       "      <td>https://www.snap.com/political-ads/asset/52f99...</td>\n",
       "      <td>USD</td>\n",
       "      <td>1687</td>\n",
       "      <td>570706</td>\n",
       "      <td>2019/07/02 22:52:36Z</td>\n",
       "      <td>2019/07/31 22:52:36Z</td>\n",
       "      <td>Amélie Company</td>\n",
       "      <td>2601 Blake St, Ste 150,Denver,80205,US</td>\n",
       "      <td>NaN</td>\n",
       "      <td>...</td>\n",
       "      <td>NaN</td>\n",
       "      <td>NaN</td>\n",
       "      <td>NaN</td>\n",
       "      <td>NaN</td>\n",
       "      <td>Provided by Advertiser</td>\n",
       "      <td>NaN</td>\n",
       "      <td>NaN</td>\n",
       "      <td>NaN</td>\n",
       "      <td>NaN</td>\n",
       "      <td>web_view_url:https://responsibilitygrowshere.c...</td>\n",
       "    </tr>\n",
       "  </tbody>\n",
       "</table>\n",
       "<p>5 rows × 34 columns</p>\n",
       "</div>"
      ],
      "text/plain": [
       "                                                ADID  \\\n",
       "0  a18429b490a54c3fe6e9c726f9dc7279ea4d2d51285fc1...   \n",
       "1  4f322a3bfda8c0defb40b5880d5c1a1e92955059b201cd...   \n",
       "2  2f1481be8088238a3c653748920ff56f46061e6d0df74e...   \n",
       "3  1579898f558416cbb3d7fe840d537cabeabf0e1d4432bf...   \n",
       "4  90dd24346e85cf696f5ac1573d7176989b844b380bba3c...   \n",
       "\n",
       "                                         CreativeUrl Currency Code  Spend  \\\n",
       "0  https://www.snap.com/political-ads/asset/94e84...           GBP      8   \n",
       "1  https://www.snap.com/political-ads/asset/fb0dd...           EUR    505   \n",
       "2  https://www.snap.com/political-ads/asset/7d646...           EUR    186   \n",
       "3  https://www.snap.com/political-ads/asset/1ad06...           GBP   4624   \n",
       "4  https://www.snap.com/political-ads/asset/52f99...           USD   1687   \n",
       "\n",
       "   Impressions             StartDate               EndDate  \\\n",
       "0         4167  2019/11/26 00:00:06Z  2019/11/26 23:00:00Z   \n",
       "1       646878  2019/10/02 16:49:19Z  2019/10/23 21:59:26Z   \n",
       "2       179036  2019/08/12 08:30:41Z  2019/08/25 21:32:12Z   \n",
       "3      2909454  2019/05/21 11:51:56Z  2019/05/23 15:58:14Z   \n",
       "4       570706  2019/07/02 22:52:36Z  2019/07/31 22:52:36Z   \n",
       "\n",
       "                 OrganizationName                              BillingAddress  \\\n",
       "0  HOPE not hate Charitable Trust        103-105 Blundell St,London,N7 9BN,GB   \n",
       "1                     ORIXA MEDIA  79 Boulevard Richard Lenoir,PARIS,75011,FR   \n",
       "2                   Reprise Media  Skt. Petri Passage 52 ,København K,1165,DK   \n",
       "3              Avaaz Campaigns UK                                          GB   \n",
       "4                  Amélie Company      2601 Blake St, Ste 150,Denver,80205,US   \n",
       "\n",
       "  CandidateBallotInformation  ... Location Categories (Included)  \\\n",
       "0                        NaN  ...                            NaN   \n",
       "1                        NaN  ...                            NaN   \n",
       "2                        NaN  ...                            NaN   \n",
       "3                        NaN  ...                            NaN   \n",
       "4                        NaN  ...                            NaN   \n",
       "\n",
       "  Location Categories (Excluded)                Interests OsType  \\\n",
       "0                            NaN                      NaN    NaN   \n",
       "1                            NaN  Political News Watchers    NaN   \n",
       "2                            NaN                      NaN    NaN   \n",
       "3                            NaN                      NaN    NaN   \n",
       "4                            NaN                      NaN    NaN   \n",
       "\n",
       "                 Segments Language AdvancedDemographics  \\\n",
       "0  Provided by Advertiser      NaN                  NaN   \n",
       "1  Provided by Advertiser       fr                  NaN   \n",
       "2  Provided by Advertiser      NaN                  NaN   \n",
       "3  Provided by Advertiser      NaN                  NaN   \n",
       "4  Provided by Advertiser      NaN                  NaN   \n",
       "\n",
       "   Targeting Connection Type Targeting Carrier (ISP)  \\\n",
       "0                        NaN                     NaN   \n",
       "1                        NaN                     NaN   \n",
       "2                        NaN                     NaN   \n",
       "3                        NaN                     NaN   \n",
       "4                        NaN                     NaN   \n",
       "\n",
       "                                  CreativeProperties  \n",
       "0   web_view_url:https://www.gov.uk/register-to-vote  \n",
       "1  web_view_url:https://reprenonslepouvoir.org?ut...  \n",
       "2                                                NaN  \n",
       "3                                                NaN  \n",
       "4  web_view_url:https://responsibilitygrowshere.c...  \n",
       "\n",
       "[5 rows x 34 columns]"
      ]
     },
     "execution_count": 6,
     "metadata": {},
     "output_type": "execute_result"
    }
   ],
   "source": [
    "data = pd.concat([ads_19, ads_20], ignore_index=True)\n",
    "data.head()"
   ]
  },
  {
   "cell_type": "markdown",
   "metadata": {},
   "source": [
    "#### Convert StartDate and EndDate to datetime"
   ]
  },
  {
   "cell_type": "code",
   "execution_count": 8,
   "metadata": {},
   "outputs": [
    {
     "data": {
      "text/plain": [
       "[1.0, 1.0]"
      ]
     },
     "execution_count": 8,
     "metadata": {},
     "output_type": "execute_result"
    }
   ],
   "source": [
    "# equals 1 means all values of 'StartDate' and 'EndDate' ends with 'Z'\n",
    "[np.mean(data['StartDate'].apply(lambda x: str(x)[-1])=='Z'), \\\n",
    " np.mean(data['StartDate'].apply(lambda x: str(x)[-1])=='Z')]"
   ]
  },
  {
   "cell_type": "markdown",
   "metadata": {},
   "source": [
    "The tailing 'Z' stands for Zulu Time, or GMT/UTC"
   ]
  },
  {
   "cell_type": "code",
   "execution_count": 9,
   "metadata": {},
   "outputs": [
    {
     "data": {
      "text/html": [
       "<div>\n",
       "<style scoped>\n",
       "    .dataframe tbody tr th:only-of-type {\n",
       "        vertical-align: middle;\n",
       "    }\n",
       "\n",
       "    .dataframe tbody tr th {\n",
       "        vertical-align: top;\n",
       "    }\n",
       "\n",
       "    .dataframe thead th {\n",
       "        text-align: right;\n",
       "    }\n",
       "</style>\n",
       "<table border=\"1\" class=\"dataframe\">\n",
       "  <thead>\n",
       "    <tr style=\"text-align: right;\">\n",
       "      <th></th>\n",
       "      <th>ADID</th>\n",
       "      <th>CreativeUrl</th>\n",
       "      <th>Currency Code</th>\n",
       "      <th>Spend</th>\n",
       "      <th>Impressions</th>\n",
       "      <th>StartDate</th>\n",
       "      <th>EndDate</th>\n",
       "      <th>OrganizationName</th>\n",
       "      <th>BillingAddress</th>\n",
       "      <th>CandidateBallotInformation</th>\n",
       "      <th>...</th>\n",
       "      <th>Location Categories (Included)</th>\n",
       "      <th>Location Categories (Excluded)</th>\n",
       "      <th>Interests</th>\n",
       "      <th>OsType</th>\n",
       "      <th>Segments</th>\n",
       "      <th>Language</th>\n",
       "      <th>AdvancedDemographics</th>\n",
       "      <th>Targeting Connection Type</th>\n",
       "      <th>Targeting Carrier (ISP)</th>\n",
       "      <th>CreativeProperties</th>\n",
       "    </tr>\n",
       "  </thead>\n",
       "  <tbody>\n",
       "    <tr>\n",
       "      <th>0</th>\n",
       "      <td>a18429b490a54c3fe6e9c726f9dc7279ea4d2d51285fc1...</td>\n",
       "      <td>https://www.snap.com/political-ads/asset/94e84...</td>\n",
       "      <td>GBP</td>\n",
       "      <td>8</td>\n",
       "      <td>4167</td>\n",
       "      <td>2019-11-26 00:00:06+00:00</td>\n",
       "      <td>2019-11-26 23:00:00+00:00</td>\n",
       "      <td>HOPE not hate Charitable Trust</td>\n",
       "      <td>103-105 Blundell St,London,N7 9BN,GB</td>\n",
       "      <td>NaN</td>\n",
       "      <td>...</td>\n",
       "      <td>NaN</td>\n",
       "      <td>NaN</td>\n",
       "      <td>NaN</td>\n",
       "      <td>NaN</td>\n",
       "      <td>Provided by Advertiser</td>\n",
       "      <td>NaN</td>\n",
       "      <td>NaN</td>\n",
       "      <td>NaN</td>\n",
       "      <td>NaN</td>\n",
       "      <td>web_view_url:https://www.gov.uk/register-to-vote</td>\n",
       "    </tr>\n",
       "    <tr>\n",
       "      <th>1</th>\n",
       "      <td>4f322a3bfda8c0defb40b5880d5c1a1e92955059b201cd...</td>\n",
       "      <td>https://www.snap.com/political-ads/asset/fb0dd...</td>\n",
       "      <td>EUR</td>\n",
       "      <td>505</td>\n",
       "      <td>646878</td>\n",
       "      <td>2019-10-02 16:49:19+00:00</td>\n",
       "      <td>2019-10-23 21:59:26+00:00</td>\n",
       "      <td>ORIXA MEDIA</td>\n",
       "      <td>79 Boulevard Richard Lenoir,PARIS,75011,FR</td>\n",
       "      <td>NaN</td>\n",
       "      <td>...</td>\n",
       "      <td>NaN</td>\n",
       "      <td>NaN</td>\n",
       "      <td>Political News Watchers</td>\n",
       "      <td>NaN</td>\n",
       "      <td>Provided by Advertiser</td>\n",
       "      <td>fr</td>\n",
       "      <td>NaN</td>\n",
       "      <td>NaN</td>\n",
       "      <td>NaN</td>\n",
       "      <td>web_view_url:https://reprenonslepouvoir.org?ut...</td>\n",
       "    </tr>\n",
       "    <tr>\n",
       "      <th>2</th>\n",
       "      <td>2f1481be8088238a3c653748920ff56f46061e6d0df74e...</td>\n",
       "      <td>https://www.snap.com/political-ads/asset/7d646...</td>\n",
       "      <td>EUR</td>\n",
       "      <td>186</td>\n",
       "      <td>179036</td>\n",
       "      <td>2019-08-12 08:30:41+00:00</td>\n",
       "      <td>2019-08-25 21:32:12+00:00</td>\n",
       "      <td>Reprise Media</td>\n",
       "      <td>Skt. Petri Passage 52 ,København K,1165,DK</td>\n",
       "      <td>NaN</td>\n",
       "      <td>...</td>\n",
       "      <td>NaN</td>\n",
       "      <td>NaN</td>\n",
       "      <td>NaN</td>\n",
       "      <td>NaN</td>\n",
       "      <td>Provided by Advertiser</td>\n",
       "      <td>NaN</td>\n",
       "      <td>NaN</td>\n",
       "      <td>NaN</td>\n",
       "      <td>NaN</td>\n",
       "      <td>NaN</td>\n",
       "    </tr>\n",
       "    <tr>\n",
       "      <th>3</th>\n",
       "      <td>1579898f558416cbb3d7fe840d537cabeabf0e1d4432bf...</td>\n",
       "      <td>https://www.snap.com/political-ads/asset/1ad06...</td>\n",
       "      <td>GBP</td>\n",
       "      <td>4624</td>\n",
       "      <td>2909454</td>\n",
       "      <td>2019-05-21 11:51:56+00:00</td>\n",
       "      <td>2019-05-23 15:58:14+00:00</td>\n",
       "      <td>Avaaz Campaigns UK</td>\n",
       "      <td>GB</td>\n",
       "      <td>NaN</td>\n",
       "      <td>...</td>\n",
       "      <td>NaN</td>\n",
       "      <td>NaN</td>\n",
       "      <td>NaN</td>\n",
       "      <td>NaN</td>\n",
       "      <td>Provided by Advertiser</td>\n",
       "      <td>NaN</td>\n",
       "      <td>NaN</td>\n",
       "      <td>NaN</td>\n",
       "      <td>NaN</td>\n",
       "      <td>NaN</td>\n",
       "    </tr>\n",
       "    <tr>\n",
       "      <th>4</th>\n",
       "      <td>90dd24346e85cf696f5ac1573d7176989b844b380bba3c...</td>\n",
       "      <td>https://www.snap.com/political-ads/asset/52f99...</td>\n",
       "      <td>USD</td>\n",
       "      <td>1687</td>\n",
       "      <td>570706</td>\n",
       "      <td>2019-07-02 22:52:36+00:00</td>\n",
       "      <td>2019-07-31 22:52:36+00:00</td>\n",
       "      <td>Amélie Company</td>\n",
       "      <td>2601 Blake St, Ste 150,Denver,80205,US</td>\n",
       "      <td>NaN</td>\n",
       "      <td>...</td>\n",
       "      <td>NaN</td>\n",
       "      <td>NaN</td>\n",
       "      <td>NaN</td>\n",
       "      <td>NaN</td>\n",
       "      <td>Provided by Advertiser</td>\n",
       "      <td>NaN</td>\n",
       "      <td>NaN</td>\n",
       "      <td>NaN</td>\n",
       "      <td>NaN</td>\n",
       "      <td>web_view_url:https://responsibilitygrowshere.c...</td>\n",
       "    </tr>\n",
       "  </tbody>\n",
       "</table>\n",
       "<p>5 rows × 34 columns</p>\n",
       "</div>"
      ],
      "text/plain": [
       "                                                ADID  \\\n",
       "0  a18429b490a54c3fe6e9c726f9dc7279ea4d2d51285fc1...   \n",
       "1  4f322a3bfda8c0defb40b5880d5c1a1e92955059b201cd...   \n",
       "2  2f1481be8088238a3c653748920ff56f46061e6d0df74e...   \n",
       "3  1579898f558416cbb3d7fe840d537cabeabf0e1d4432bf...   \n",
       "4  90dd24346e85cf696f5ac1573d7176989b844b380bba3c...   \n",
       "\n",
       "                                         CreativeUrl Currency Code  Spend  \\\n",
       "0  https://www.snap.com/political-ads/asset/94e84...           GBP      8   \n",
       "1  https://www.snap.com/political-ads/asset/fb0dd...           EUR    505   \n",
       "2  https://www.snap.com/political-ads/asset/7d646...           EUR    186   \n",
       "3  https://www.snap.com/political-ads/asset/1ad06...           GBP   4624   \n",
       "4  https://www.snap.com/political-ads/asset/52f99...           USD   1687   \n",
       "\n",
       "   Impressions                 StartDate                   EndDate  \\\n",
       "0         4167 2019-11-26 00:00:06+00:00 2019-11-26 23:00:00+00:00   \n",
       "1       646878 2019-10-02 16:49:19+00:00 2019-10-23 21:59:26+00:00   \n",
       "2       179036 2019-08-12 08:30:41+00:00 2019-08-25 21:32:12+00:00   \n",
       "3      2909454 2019-05-21 11:51:56+00:00 2019-05-23 15:58:14+00:00   \n",
       "4       570706 2019-07-02 22:52:36+00:00 2019-07-31 22:52:36+00:00   \n",
       "\n",
       "                 OrganizationName                              BillingAddress  \\\n",
       "0  HOPE not hate Charitable Trust        103-105 Blundell St,London,N7 9BN,GB   \n",
       "1                     ORIXA MEDIA  79 Boulevard Richard Lenoir,PARIS,75011,FR   \n",
       "2                   Reprise Media  Skt. Petri Passage 52 ,København K,1165,DK   \n",
       "3              Avaaz Campaigns UK                                          GB   \n",
       "4                  Amélie Company      2601 Blake St, Ste 150,Denver,80205,US   \n",
       "\n",
       "  CandidateBallotInformation  ... Location Categories (Included)  \\\n",
       "0                        NaN  ...                            NaN   \n",
       "1                        NaN  ...                            NaN   \n",
       "2                        NaN  ...                            NaN   \n",
       "3                        NaN  ...                            NaN   \n",
       "4                        NaN  ...                            NaN   \n",
       "\n",
       "  Location Categories (Excluded)                Interests OsType  \\\n",
       "0                            NaN                      NaN    NaN   \n",
       "1                            NaN  Political News Watchers    NaN   \n",
       "2                            NaN                      NaN    NaN   \n",
       "3                            NaN                      NaN    NaN   \n",
       "4                            NaN                      NaN    NaN   \n",
       "\n",
       "                 Segments Language AdvancedDemographics  \\\n",
       "0  Provided by Advertiser      NaN                  NaN   \n",
       "1  Provided by Advertiser       fr                  NaN   \n",
       "2  Provided by Advertiser      NaN                  NaN   \n",
       "3  Provided by Advertiser      NaN                  NaN   \n",
       "4  Provided by Advertiser      NaN                  NaN   \n",
       "\n",
       "   Targeting Connection Type Targeting Carrier (ISP)  \\\n",
       "0                        NaN                     NaN   \n",
       "1                        NaN                     NaN   \n",
       "2                        NaN                     NaN   \n",
       "3                        NaN                     NaN   \n",
       "4                        NaN                     NaN   \n",
       "\n",
       "                                  CreativeProperties  \n",
       "0   web_view_url:https://www.gov.uk/register-to-vote  \n",
       "1  web_view_url:https://reprenonslepouvoir.org?ut...  \n",
       "2                                                NaN  \n",
       "3                                                NaN  \n",
       "4  web_view_url:https://responsibilitygrowshere.c...  \n",
       "\n",
       "[5 rows x 34 columns]"
      ]
     },
     "execution_count": 9,
     "metadata": {},
     "output_type": "execute_result"
    }
   ],
   "source": [
    "data['StartDate'] = pd.to_datetime(data['StartDate'])\n",
    "data['EndDate'] = pd.to_datetime(data['EndDate'])\n",
    "data.head()"
   ]
  },
  {
   "cell_type": "code",
   "execution_count": 15,
   "metadata": {},
   "outputs": [
    {
     "data": {
      "text/plain": [
       "Index(['ADID', 'CreativeUrl', 'Currency Code', 'Spend', 'Impressions',\n",
       "       'StartDate', 'EndDate', 'OrganizationName', 'BillingAddress',\n",
       "       'CandidateBallotInformation', 'PayingAdvertiserName', 'Gender',\n",
       "       'AgeBracket', 'CountryCode', 'Regions (Included)', 'Regions (Excluded)',\n",
       "       'Electoral Districts (Included)', 'Electoral Districts (Excluded)',\n",
       "       'Radius Targeting (Included)', 'Radius Targeting (Excluded)',\n",
       "       'Metros (Included)', 'Metros (Excluded)', 'Postal Codes (Included)',\n",
       "       'Postal Codes (Excluded)', 'Location Categories (Included)',\n",
       "       'Location Categories (Excluded)', 'Interests', 'OsType', 'Segments',\n",
       "       'Language', 'AdvancedDemographics', 'Targeting Connection Type',\n",
       "       'Targeting Carrier (ISP)', 'CreativeProperties'],\n",
       "      dtype='object')"
      ]
     },
     "execution_count": 15,
     "metadata": {},
     "output_type": "execute_result"
    }
   ],
   "source": [
    "# get columns (possible features)\n",
    "data.columns"
   ]
  },
  {
   "cell_type": "code",
   "execution_count": 16,
   "metadata": {
    "collapsed": true
   },
   "outputs": [
    {
     "data": {
      "text/plain": [
       "ADID                              a18429b490a54c3fe6e9c726f9dc7279ea4d2d51285fc1...\n",
       "CreativeUrl                       https://www.snap.com/political-ads/asset/94e84...\n",
       "Currency Code                                                                   GBP\n",
       "Spend                                                                             8\n",
       "Impressions                                                                    4167\n",
       "StartDate                                                 2019-11-26 00:00:06+00:00\n",
       "EndDate                                                   2019-11-26 23:00:00+00:00\n",
       "OrganizationName                                     HOPE not hate Charitable Trust\n",
       "BillingAddress                                 103-105 Blundell St,London,N7 9BN,GB\n",
       "CandidateBallotInformation                                                      NaN\n",
       "PayingAdvertiserName                                 HOPE not hate Charitable Trust\n",
       "Gender                                                                          NaN\n",
       "AgeBracket                                                                    18-40\n",
       "CountryCode                                                          united kingdom\n",
       "Regions (Included)                                                              NaN\n",
       "Regions (Excluded)                                                              NaN\n",
       "Electoral Districts (Included)                                                  NaN\n",
       "Electoral Districts (Excluded)                                                  NaN\n",
       "Radius Targeting (Included)                                                     NaN\n",
       "Radius Targeting (Excluded)                                                     NaN\n",
       "Metros (Included)                                                               NaN\n",
       "Metros (Excluded)                                                               NaN\n",
       "Postal Codes (Included)           bd20 0,bd20 5,bd20 6,bd20 9,bd21 1,bd21 2,bd21...\n",
       "Postal Codes (Excluded)                                                         NaN\n",
       "Location Categories (Included)                                                  NaN\n",
       "Location Categories (Excluded)                                                  NaN\n",
       "Interests                                                                       NaN\n",
       "OsType                                                                          NaN\n",
       "Segments                                                     Provided by Advertiser\n",
       "Language                                                                        NaN\n",
       "AdvancedDemographics                                                            NaN\n",
       "Targeting Connection Type                                                       NaN\n",
       "Targeting Carrier (ISP)                                                         NaN\n",
       "CreativeProperties                 web_view_url:https://www.gov.uk/register-to-vote\n",
       "Name: 0, dtype: object"
      ]
     },
     "execution_count": 16,
     "metadata": {},
     "output_type": "execute_result"
    }
   ],
   "source": [
    "# get first row for sample entry\n",
    "data.iloc[0,:]"
   ]
  },
  {
   "cell_type": "code",
   "execution_count": 17,
   "metadata": {},
   "outputs": [
    {
     "name": "stdout",
     "output_type": "stream",
     "text": [
      "ADID 0.0 object\n",
      "CreativeUrl 0.0 object\n",
      "Currency Code 0.0 object\n",
      "Spend 0.0 int64\n",
      "Impressions 0.0 int64\n",
      "StartDate 0.0 datetime64[ns, UTC]\n",
      "EndDate 0.22954128440366972 datetime64[ns, UTC]\n",
      "OrganizationName 0.0 object\n",
      "BillingAddress 0.0 object\n",
      "CandidateBallotInformation 0.7770642201834862 object\n",
      "PayingAdvertiserName 0.0 object\n",
      "Gender 0.9233027522935779 object\n",
      "AgeBracket 0.07834862385321101 object\n",
      "CountryCode 0.0 object\n",
      "Regions (Included) 0.7080733944954128 object\n",
      "Regions (Excluded) 0.9710091743119266 object\n",
      "Electoral Districts (Included) 0.9880733944954129 object\n",
      "Electoral Districts (Excluded) 1.0 float64\n",
      "Radius Targeting (Included) 0.9412844036697248 object\n",
      "Radius Targeting (Excluded) 0.998165137614679 object\n",
      "Metros (Included) 0.9609174311926606 object\n",
      "Metros (Excluded) 0.996697247706422 object\n",
      "Postal Codes (Included) 0.8434862385321101 object\n",
      "Postal Codes (Excluded) 0.9737614678899082 object\n",
      "Location Categories (Included) 0.9979816513761468 object\n",
      "Location Categories (Excluded) 1.0 float64\n",
      "Interests 0.7638532110091744 object\n",
      "OsType 0.9972477064220183 object\n",
      "Segments 0.33908256880733945 object\n",
      "Language 0.7335779816513761 object\n",
      "AdvancedDemographics 0.9680733944954129 object\n",
      "Targeting Connection Type 0.9961467889908256 object\n",
      "Targeting Carrier (ISP) 1.0 float64\n",
      "CreativeProperties 0.14605504587155962 object\n"
     ]
    }
   ],
   "source": [
    "# get proportion that is NaN and dtype of each column\n",
    "for col in data.columns:\n",
    "    print(col, data[col].isna().mean(), data[col].dtype)"
   ]
  },
  {
   "cell_type": "markdown",
   "metadata": {},
   "source": [
    "Picking potential columns to be used as features for baseline model. Some columns cannot be used since it is mostly NaN or irrelevant with modeling (e.g. OrganizationName or BillingAddress)."
   ]
  },
  {
   "cell_type": "code",
   "execution_count": 45,
   "metadata": {},
   "outputs": [],
   "source": [
    "feasible_feat_columns = ['Currency Code', 'Spend', 'Impressions', 'StartDate', \n",
    "                         'EndDate', 'Gender', 'AgeBracket', \n",
    "                         'CountryCode','Interests', 'Language']"
   ]
  },
  {
   "cell_type": "code",
   "execution_count": 47,
   "metadata": {},
   "outputs": [
    {
     "data": {
      "text/html": [
       "<div>\n",
       "<style scoped>\n",
       "    .dataframe tbody tr th:only-of-type {\n",
       "        vertical-align: middle;\n",
       "    }\n",
       "\n",
       "    .dataframe tbody tr th {\n",
       "        vertical-align: top;\n",
       "    }\n",
       "\n",
       "    .dataframe thead th {\n",
       "        text-align: right;\n",
       "    }\n",
       "</style>\n",
       "<table border=\"1\" class=\"dataframe\">\n",
       "  <thead>\n",
       "    <tr style=\"text-align: right;\">\n",
       "      <th></th>\n",
       "      <th>Currency Code</th>\n",
       "      <th>Spend</th>\n",
       "      <th>Impressions</th>\n",
       "      <th>StartDate</th>\n",
       "      <th>EndDate</th>\n",
       "      <th>Gender</th>\n",
       "      <th>AgeBracket</th>\n",
       "      <th>CountryCode</th>\n",
       "      <th>Interests</th>\n",
       "      <th>Language</th>\n",
       "    </tr>\n",
       "  </thead>\n",
       "  <tbody>\n",
       "    <tr>\n",
       "      <th>0</th>\n",
       "      <td>GBP</td>\n",
       "      <td>8</td>\n",
       "      <td>4167</td>\n",
       "      <td>2019-11-26 00:00:06+00:00</td>\n",
       "      <td>2019-11-26 23:00:00+00:00</td>\n",
       "      <td>NaN</td>\n",
       "      <td>18-40</td>\n",
       "      <td>united kingdom</td>\n",
       "      <td>NaN</td>\n",
       "      <td>NaN</td>\n",
       "    </tr>\n",
       "    <tr>\n",
       "      <th>1</th>\n",
       "      <td>EUR</td>\n",
       "      <td>505</td>\n",
       "      <td>646878</td>\n",
       "      <td>2019-10-02 16:49:19+00:00</td>\n",
       "      <td>2019-10-23 21:59:26+00:00</td>\n",
       "      <td>NaN</td>\n",
       "      <td>17+</td>\n",
       "      <td>france</td>\n",
       "      <td>Political News Watchers</td>\n",
       "      <td>fr</td>\n",
       "    </tr>\n",
       "    <tr>\n",
       "      <th>2</th>\n",
       "      <td>EUR</td>\n",
       "      <td>186</td>\n",
       "      <td>179036</td>\n",
       "      <td>2019-08-12 08:30:41+00:00</td>\n",
       "      <td>2019-08-25 21:32:12+00:00</td>\n",
       "      <td>FEMALE</td>\n",
       "      <td>14-19</td>\n",
       "      <td>denmark</td>\n",
       "      <td>NaN</td>\n",
       "      <td>NaN</td>\n",
       "    </tr>\n",
       "    <tr>\n",
       "      <th>3</th>\n",
       "      <td>GBP</td>\n",
       "      <td>4624</td>\n",
       "      <td>2909454</td>\n",
       "      <td>2019-05-21 11:51:56+00:00</td>\n",
       "      <td>2019-05-23 15:58:14+00:00</td>\n",
       "      <td>NaN</td>\n",
       "      <td>18+</td>\n",
       "      <td>united kingdom</td>\n",
       "      <td>NaN</td>\n",
       "      <td>NaN</td>\n",
       "    </tr>\n",
       "    <tr>\n",
       "      <th>4</th>\n",
       "      <td>USD</td>\n",
       "      <td>1687</td>\n",
       "      <td>570706</td>\n",
       "      <td>2019-07-02 22:52:36+00:00</td>\n",
       "      <td>2019-07-31 22:52:36+00:00</td>\n",
       "      <td>NaN</td>\n",
       "      <td>18+</td>\n",
       "      <td>united states</td>\n",
       "      <td>NaN</td>\n",
       "      <td>NaN</td>\n",
       "    </tr>\n",
       "  </tbody>\n",
       "</table>\n",
       "</div>"
      ],
      "text/plain": [
       "  Currency Code  Spend  Impressions                 StartDate  \\\n",
       "0           GBP      8         4167 2019-11-26 00:00:06+00:00   \n",
       "1           EUR    505       646878 2019-10-02 16:49:19+00:00   \n",
       "2           EUR    186       179036 2019-08-12 08:30:41+00:00   \n",
       "3           GBP   4624      2909454 2019-05-21 11:51:56+00:00   \n",
       "4           USD   1687       570706 2019-07-02 22:52:36+00:00   \n",
       "\n",
       "                    EndDate  Gender AgeBracket     CountryCode  \\\n",
       "0 2019-11-26 23:00:00+00:00     NaN      18-40  united kingdom   \n",
       "1 2019-10-23 21:59:26+00:00     NaN        17+          france   \n",
       "2 2019-08-25 21:32:12+00:00  FEMALE      14-19         denmark   \n",
       "3 2019-05-23 15:58:14+00:00     NaN        18+  united kingdom   \n",
       "4 2019-07-31 22:52:36+00:00     NaN        18+   united states   \n",
       "\n",
       "                 Interests Language  \n",
       "0                      NaN      NaN  \n",
       "1  Political News Watchers       fr  \n",
       "2                      NaN      NaN  \n",
       "3                      NaN      NaN  \n",
       "4                      NaN      NaN  "
      ]
     },
     "execution_count": 47,
     "metadata": {},
     "output_type": "execute_result"
    }
   ],
   "source": [
    "data_filt = data[feasible_feat_columns]\n",
    "data_filt.head()"
   ]
  },
  {
   "cell_type": "markdown",
   "metadata": {},
   "source": [
    "Above is the DataFrame containing the baseline model features and the given Impressions."
   ]
  },
  {
   "cell_type": "markdown",
   "metadata": {},
   "source": [
    "### Baseline Model"
   ]
  },
  {
   "cell_type": "code",
   "execution_count": 146,
   "metadata": {},
   "outputs": [],
   "source": [
    "from sklearn.linear_model import LinearRegression\n",
    "from sklearn.preprocessing import FunctionTransformer\n",
    "from sklearn.preprocessing import OneHotEncoder\n",
    "from sklearn.preprocessing import MultiLabelBinarizer\n",
    "\n",
    "from sklearn.pipeline import Pipeline\n",
    "from sklearn.compose import ColumnTransformer\n",
    "from sklearn.model_selection import train_test_split\n",
    "from sklearn.impute import SimpleImputer\n",
    "from sklearn.decomposition import PCA"
   ]
  },
  {
   "cell_type": "markdown",
   "metadata": {},
   "source": [
    "Configuring Pipeline and applying OHE to categorical columns."
   ]
  },
  {
   "cell_type": "code",
   "execution_count": 412,
   "metadata": {},
   "outputs": [],
   "source": [
    "cats = Pipeline([\n",
    "    ('ohe', OneHotEncoder(sparse=False, handle_unknown='ignore'))\n",
    "])\n",
    "catcols = ['Currency Code', 'CountryCode']\n",
    "\n",
    "nums = FunctionTransformer(lambda x:x)   \n",
    "numcols = ['Spend']\n",
    "\n",
    "ct = ColumnTransformer([('cat', cats, catcols), ('num', nums, numcols)])\n",
    "\n",
    "baseline_pl = Pipeline([('feats', ct), ('lr', LinearRegression())])\n"
   ]
  },
  {
   "cell_type": "markdown",
   "metadata": {},
   "source": [
    "Initializing X and y columns and splitting train and test data. Training on train data, then test on test data."
   ]
  },
  {
   "cell_type": "code",
   "execution_count": 413,
   "metadata": {},
   "outputs": [
    {
     "name": "stdout",
     "output_type": "stream",
     "text": [
      "R^2: 0.6728413730990455\n",
      "RMSE: 1867746.8356924905\n"
     ]
    }
   ],
   "source": [
    "X = data_filt.drop(['Impressions'], axis=1)\n",
    "y = data_filt.Impressions\n",
    "\n",
    "X_train, X_test, y_train, y_test = train_test_split(X, y)\n",
    "\n",
    "baseline_pl.fit(X_train, y_train)\n",
    "\n",
    "r2 = baseline_pl.score(X_test, y_test)\n",
    "print(\"R^2: %s\" % r2)\n",
    "\n",
    "preds = baseline_pl.predict(X_test)\n",
    "rmse = np.sqrt(np.mean((preds - y_test)**2))\n",
    "print(\"RMSE: %s\" % rmse)"
   ]
  },
  {
   "cell_type": "markdown",
   "metadata": {},
   "source": [
    "The R^2 score above looks promising b ut it looks like it can be improved with additional engineered features. Below is the process repeated 100 times to see the distribution of the fit score over 100 trials."
   ]
  },
  {
   "cell_type": "code",
   "execution_count": 414,
   "metadata": {},
   "outputs": [
    {
     "name": "stdout",
     "output_type": "stream",
     "text": [
      "Mean R^2 across 100 reps: 0.5615195530471999\n"
     ]
    }
   ],
   "source": [
    "out = []\n",
    "for _ in range(100):\n",
    "    X_tr, X_ts, y_tr, y_ts = train_test_split(X, y)\n",
    "    baseline_pl.fit(X_tr, y_tr)\n",
    "    out.append(baseline_pl.score(X_ts, y_ts))\n",
    "mean_r2 = np.mean(out)\n",
    "print(\"Mean R^2 across 100 reps: %s\" % mean_r2)"
   ]
  },
  {
   "cell_type": "code",
   "execution_count": 415,
   "metadata": {},
   "outputs": [
    {
     "data": {
      "text/plain": [
       "<matplotlib.axes._subplots.AxesSubplot at 0x1a1dd49290>"
      ]
     },
     "execution_count": 415,
     "metadata": {},
     "output_type": "execute_result"
    },
    {
     "data": {
      "image/png": "[encoded data removed]",
      "text/plain": [
       "<Figure size 432x288 with 1 Axes>"
      ]
     },
     "metadata": {
      "image/png": {
       "height": 263,
       "width": 382
      },
      "needs_background": "light"
     },
     "output_type": "display_data"
    }
   ],
   "source": [
    "pd.Series(out).plot(kind='hist', title='scores in 100 model builds')"
   ]
  },
  {
   "cell_type": "markdown",
   "metadata": {},
   "source": [
    "### Final Model"
   ]
  },
  {
   "cell_type": "markdown",
   "metadata": {},
   "source": [
    "Below is a function to use the StartDate and EndDate features to generate a **Duration** feature of how long (in hours) the ad is up."
   ]
  },
  {
   "cell_type": "code",
   "execution_count": 416,
   "metadata": {},
   "outputs": [],
   "source": [
    "def get_duration_hours(df):\n",
    "    duration = df['EndDate'] - df['StartDate']\n",
    "    hours = duration.apply(lambda x: x.seconds//3600)\n",
    "    return pd.DataFrame(hours)"
   ]
  },
  {
   "cell_type": "markdown",
   "metadata": {},
   "source": [
    "Below is a function to use the Interests feature to set it up for the MultiLabelBinarizer by splitting interests on comma and performing a one-hot encoding later on."
   ]
  },
  {
   "cell_type": "code",
   "execution_count": 417,
   "metadata": {},
   "outputs": [],
   "source": [
    "def split_array(df): # of one column\n",
    "    colname = df.columns[0]\n",
    "    col = df[colname]\n",
    "    ret = col.apply(lambda x: x.split(',') if pd.isnull(x)==False else [])\n",
    "    return np.array(ret)"
   ]
  },
  {
   "cell_type": "markdown",
   "metadata": {},
   "source": [
    "The class below is a custom transformer class I made because I encountered some error with implementing JultiLabelBinarizer directly to the pipeline. To be more specific, the fit_transform method requires 3 arguments, but only two are passed. Hence, this class fixes the issue by passing an empty argument everytime fit_transform is called on the Pipeline/ColumnTransformer."
   ]
  },
  {
   "cell_type": "code",
   "execution_count": 418,
   "metadata": {},
   "outputs": [],
   "source": [
    "from sklearn.base import TransformerMixin \n",
    "class MyMultiLabelBinarizer(TransformerMixin):\n",
    "    def __init__(self, *args, **kwargs):\n",
    "        self.encoder = MultiLabelBinarizer(*args, **kwargs)\n",
    "    def fit(self, x, y=0):\n",
    "        self.encoder.fit(x)\n",
    "        return self\n",
    "    def transform(self, x, y=0):\n",
    "        return self.encoder.transform(x)"
   ]
  },
  {
   "cell_type": "markdown",
   "metadata": {},
   "source": [
    "#### First Trial Model"
   ]
  },
  {
   "cell_type": "code",
   "execution_count": 419,
   "metadata": {},
   "outputs": [],
   "source": [
    "# Interests and Language\n",
    "split = FunctionTransformer(split_array)\n",
    "mlb_pl = Pipeline([\n",
    "    ('split', split),\n",
    "    ('mlb', MyLabelBinarizer()),\n",
    "    ('pca', PCA(svd_solver='full'))  # later do gridsearch\n",
    "])\n",
    "mlbcols = ['Interests', 'Language']\n",
    "\n",
    "\n",
    "# Currency Code and CountryCode\n",
    "simple_cats = Pipeline([\n",
    "    ('imp', SimpleImputer(strategy='constant', fill_value='NULL')),\n",
    "    ('ohe', OneHotEncoder(sparse=False, handle_unknown='ignore')),\n",
    "    ('pca', PCA(svd_solver='full'))  # later do gridsearch\n",
    "])\n",
    "simple_catcols = ['Currency Code', 'CountryCode']\n",
    "\n",
    "\n",
    "# StartDate and EndDate\n",
    "duration = FunctionTransformer(get_duration_hours)\n",
    "duration_pl = Pipeline([\n",
    "    ('get_hours', duration),\n",
    "    ('imp', SimpleImputer(strategy='mean'))\n",
    "])\n",
    "durationcols = ['StartDate', 'EndDate']\n",
    "\n",
    "\n",
    "# Spend\n",
    "nums = FunctionTransformer(lambda x:x)   \n",
    "numcols = ['Spend']\n",
    "\n",
    "ct = ColumnTransformer([('mlb_cat', mlb_pl, mlbcols),\n",
    "                        ('simple_cat', simple_cats, simple_catcols), \n",
    "                        ('duration', duration_pl, durationcols),\n",
    "                        ('num', nums, numcols)\n",
    "                       ])\n",
    "\n",
    "trial_pl1 = Pipeline([('feats', ct), ('lr', LinearRegression())])"
   ]
  },
  {
   "cell_type": "markdown",
   "metadata": {},
   "source": [
    "We will split the data set (75%, 25%) for train and test datasets."
   ]
  },
  {
   "cell_type": "code",
   "execution_count": 420,
   "metadata": {},
   "outputs": [],
   "source": [
    "X = data_filt.drop(['Impressions'], axis=1)\n",
    "y = data_filt.Impressions\n",
    "\n",
    "X_train, X_test, y_train, y_test = train_test_split(X, y)"
   ]
  },
  {
   "cell_type": "markdown",
   "metadata": {},
   "source": [
    "GridSearch on n_components for simple_cat_pca"
   ]
  },
  {
   "cell_type": "code",
   "execution_count": 421,
   "metadata": {},
   "outputs": [
    {
     "data": {
      "text/plain": [
       "dict_keys(['memory', 'steps', 'verbose', 'feats', 'lr', 'feats__n_jobs', 'feats__remainder', 'feats__sparse_threshold', 'feats__transformer_weights', 'feats__transformers', 'feats__verbose', 'feats__mlb_cat', 'feats__simple_cat', 'feats__duration', 'feats__num', 'feats__mlb_cat__memory', 'feats__mlb_cat__steps', 'feats__mlb_cat__verbose', 'feats__mlb_cat__split', 'feats__mlb_cat__mlb', 'feats__mlb_cat__pca', 'feats__mlb_cat__split__accept_sparse', 'feats__mlb_cat__split__check_inverse', 'feats__mlb_cat__split__func', 'feats__mlb_cat__split__inv_kw_args', 'feats__mlb_cat__split__inverse_func', 'feats__mlb_cat__split__kw_args', 'feats__mlb_cat__split__validate', 'feats__mlb_cat__pca__copy', 'feats__mlb_cat__pca__iterated_power', 'feats__mlb_cat__pca__n_components', 'feats__mlb_cat__pca__random_state', 'feats__mlb_cat__pca__svd_solver', 'feats__mlb_cat__pca__tol', 'feats__mlb_cat__pca__whiten', 'feats__simple_cat__memory', 'feats__simple_cat__steps', 'feats__simple_cat__verbose', 'feats__simple_cat__imp', 'feats__simple_cat__ohe', 'feats__simple_cat__pca', 'feats__simple_cat__imp__add_indicator', 'feats__simple_cat__imp__copy', 'feats__simple_cat__imp__fill_value', 'feats__simple_cat__imp__missing_values', 'feats__simple_cat__imp__strategy', 'feats__simple_cat__imp__verbose', 'feats__simple_cat__ohe__categories', 'feats__simple_cat__ohe__drop', 'feats__simple_cat__ohe__dtype', 'feats__simple_cat__ohe__handle_unknown', 'feats__simple_cat__ohe__sparse', 'feats__simple_cat__pca__copy', 'feats__simple_cat__pca__iterated_power', 'feats__simple_cat__pca__n_components', 'feats__simple_cat__pca__random_state', 'feats__simple_cat__pca__svd_solver', 'feats__simple_cat__pca__tol', 'feats__simple_cat__pca__whiten', 'feats__duration__memory', 'feats__duration__steps', 'feats__duration__verbose', 'feats__duration__get_hours', 'feats__duration__imp', 'feats__duration__get_hours__accept_sparse', 'feats__duration__get_hours__check_inverse', 'feats__duration__get_hours__func', 'feats__duration__get_hours__inv_kw_args', 'feats__duration__get_hours__inverse_func', 'feats__duration__get_hours__kw_args', 'feats__duration__get_hours__validate', 'feats__duration__imp__add_indicator', 'feats__duration__imp__copy', 'feats__duration__imp__fill_value', 'feats__duration__imp__missing_values', 'feats__duration__imp__strategy', 'feats__duration__imp__verbose', 'feats__num__accept_sparse', 'feats__num__check_inverse', 'feats__num__func', 'feats__num__inv_kw_args', 'feats__num__inverse_func', 'feats__num__kw_args', 'feats__num__validate', 'lr__copy_X', 'lr__fit_intercept', 'lr__n_jobs', 'lr__normalize'])"
      ]
     },
     "execution_count": 421,
     "metadata": {},
     "output_type": "execute_result"
    }
   ],
   "source": [
    "trial_pl1.get_params().keys()"
   ]
  },
  {
   "cell_type": "code",
   "execution_count": 422,
   "metadata": {},
   "outputs": [],
   "source": [
    "from sklearn.model_selection import GridSearchCV\n",
    "\n",
    "params = {'feats__simple_cat__pca__n_components':[0.70, 0.75, 0.80, 0.85, 0.90, 0.99, None]}\n",
    "\n",
    "# train using cross validation\n",
    "grids1 = GridSearchCV(trial_pl1, param_grid=params, cv=5, iid = False)"
   ]
  },
  {
   "cell_type": "code",
   "execution_count": 423,
   "metadata": {
    "scrolled": true
   },
   "outputs": [
    {
     "name": "stderr",
     "output_type": "stream",
     "text": [
      "/Users/jonathant/anaconda3/lib/python3.7/site-packages/sklearn/preprocessing/_label.py:987: UserWarning: unknown class(es) ['Frequent International Travelers', 'Gift Shoppers', 'Holiday Online Buyers - Apparel', 'Holiday Online Shoppers', 'Home Movie Viewers (Science Fiction)', 'nln_8059'] will be ignored\n",
      "  .format(sorted(unknown, key=str)))\n",
      "/Users/jonathant/anaconda3/lib/python3.7/site-packages/sklearn/preprocessing/_label.py:987: UserWarning: unknown class(es) ['Apparel Store Buyers - Charlotte Russe', 'Apparel Store Buyers - Express', 'Apparel Store Buyers - Guess', 'Apparel Store Buyers - H & M', 'Apparel Store Buyers - Michael Kors', 'Apparel Store Buyers - TJ Maxx', 'Apparel Store Buyers - Victorias Secret', 'Beauty and Fragrance Shoppers', \"Women's Apparel Shoppers\"] will be ignored\n",
      "  .format(sorted(unknown, key=str)))\n",
      "/Users/jonathant/anaconda3/lib/python3.7/site-packages/sklearn/preprocessing/_label.py:987: UserWarning: unknown class(es) ['Baby & Toddler - Baby Food Buyers', 'Baby & Toddler - Baby Formula Buyers', 'Baby & Toddler - Baby HBC Buyers', 'Baby & Toddler - Baby HBC Buyers - Huggies Brands', 'Baby & Toddler - Disposable Diaper & Training Pant Buyers', 'Baby & Toddler - Disposable Diaper & Training Pant Buyers - Huggies Brands', 'Baby & Toddler - Disposable Diaper & Training Pant Buyers - Pampers Brands', 'Baby Product Buyers', 'Baby Store Buyers', 'Baby Store Buyers - Buy Buy Baby', 'Baby Store Buyers - Carters', 'Baby Store Buyers - Diapers.com', 'Big Box Shoppers', \"Children's Product Buyers\", \"Children's Product Shoppers\", 'Department Store Shoppers', 'Food Buyers', 'Independence Day Buyers - Furnishing Stores', 'Independence Day Buyers - Grocery', 'Labor Day Buyers - Clothing Stores', 'Last 12 Months Buyers - Buybuy Baby', 'Recent Buyers', 'Romance & Rom-Com Fans', 'Theme Park Visitors', 'Toy Shoppers', 'nln_7168'] will be ignored\n",
      "  .format(sorted(unknown, key=str)))\n",
      "/Users/jonathant/anaconda3/lib/python3.7/site-packages/sklearn/preprocessing/_label.py:987: UserWarning: unknown class(es) ['TV Viewers (Educational)', 'Yoga Enthusiasts'] will be ignored\n",
      "  .format(sorted(unknown, key=str)))\n",
      "/Users/jonathant/anaconda3/lib/python3.7/site-packages/sklearn/preprocessing/_label.py:987: UserWarning: unknown class(es) ['Big Box Store Buyers - Walmart', 'Black Friday & Cyber Monday Shoppers', 'Cyber Monday Online Buyers - Amazon', 'Dallas Cowboys Fans', 'Heavy Holiday Buyers - Amazon', 'Houston Texans Fans', 'Last 12 Months Buyers - Walmart', 'Mexican Food Shoppers', 'New Chevrolet Truck Shoppers', 'New Ford Truck Shoppers', 'New Orleans Saints Fans', 'New RAM Truck Shoppers', 'New Years Day Buyers - Charitable Organizations', 'Olympics Enthusiasts', 'Post-Holiday Bargain Shoppers', 'TV Network Viewers (FX)', 'Talent & Competition Show Fans', 'Tampa Bay Buccaneers Fans', 'Tennessee Titans Fans', 'Walmart Stores', 'eCommerce Buyers - Amazon - Heavy Buyers'] will be ignored\n",
      "  .format(sorted(unknown, key=str)))\n",
      "/Users/jonathant/anaconda3/lib/python3.7/site-packages/sklearn/preprocessing/_label.py:987: UserWarning: unknown class(es) ['Frequent International Travelers', 'Gift Shoppers', 'Holiday Online Buyers - Apparel', 'Holiday Online Shoppers', 'Home Movie Viewers (Science Fiction)', 'nln_8059'] will be ignored\n",
      "  .format(sorted(unknown, key=str)))\n",
      "/Users/jonathant/anaconda3/lib/python3.7/site-packages/sklearn/preprocessing/_label.py:987: UserWarning: unknown class(es) ['Apparel Store Buyers - Charlotte Russe', 'Apparel Store Buyers - Express', 'Apparel Store Buyers - Guess', 'Apparel Store Buyers - H & M', 'Apparel Store Buyers - Michael Kors', 'Apparel Store Buyers - TJ Maxx', 'Apparel Store Buyers - Victorias Secret', 'Beauty and Fragrance Shoppers', \"Women's Apparel Shoppers\"] will be ignored\n",
      "  .format(sorted(unknown, key=str)))\n",
      "/Users/jonathant/anaconda3/lib/python3.7/site-packages/sklearn/preprocessing/_label.py:987: UserWarning: unknown class(es) ['Baby & Toddler - Baby Food Buyers', 'Baby & Toddler - Baby Formula Buyers', 'Baby & Toddler - Baby HBC Buyers', 'Baby & Toddler - Baby HBC Buyers - Huggies Brands', 'Baby & Toddler - Disposable Diaper & Training Pant Buyers', 'Baby & Toddler - Disposable Diaper & Training Pant Buyers - Huggies Brands', 'Baby & Toddler - Disposable Diaper & Training Pant Buyers - Pampers Brands', 'Baby Product Buyers', 'Baby Store Buyers', 'Baby Store Buyers - Buy Buy Baby', 'Baby Store Buyers - Carters', 'Baby Store Buyers - Diapers.com', 'Big Box Shoppers', \"Children's Product Buyers\", \"Children's Product Shoppers\", 'Department Store Shoppers', 'Food Buyers', 'Independence Day Buyers - Furnishing Stores', 'Independence Day Buyers - Grocery', 'Labor Day Buyers - Clothing Stores', 'Last 12 Months Buyers - Buybuy Baby', 'Recent Buyers', 'Romance & Rom-Com Fans', 'Theme Park Visitors', 'Toy Shoppers', 'nln_7168'] will be ignored\n",
      "  .format(sorted(unknown, key=str)))\n",
      "/Users/jonathant/anaconda3/lib/python3.7/site-packages/sklearn/preprocessing/_label.py:987: UserWarning: unknown class(es) ['TV Viewers (Educational)', 'Yoga Enthusiasts'] will be ignored\n",
      "  .format(sorted(unknown, key=str)))\n",
      "/Users/jonathant/anaconda3/lib/python3.7/site-packages/sklearn/preprocessing/_label.py:987: UserWarning: unknown class(es) ['Big Box Store Buyers - Walmart', 'Black Friday & Cyber Monday Shoppers', 'Cyber Monday Online Buyers - Amazon', 'Dallas Cowboys Fans', 'Heavy Holiday Buyers - Amazon', 'Houston Texans Fans', 'Last 12 Months Buyers - Walmart', 'Mexican Food Shoppers', 'New Chevrolet Truck Shoppers', 'New Ford Truck Shoppers', 'New Orleans Saints Fans', 'New RAM Truck Shoppers', 'New Years Day Buyers - Charitable Organizations', 'Olympics Enthusiasts', 'Post-Holiday Bargain Shoppers', 'TV Network Viewers (FX)', 'Talent & Competition Show Fans', 'Tampa Bay Buccaneers Fans', 'Tennessee Titans Fans', 'Walmart Stores', 'eCommerce Buyers - Amazon - Heavy Buyers'] will be ignored\n",
      "  .format(sorted(unknown, key=str)))\n",
      "/Users/jonathant/anaconda3/lib/python3.7/site-packages/sklearn/preprocessing/_label.py:987: UserWarning: unknown class(es) ['Frequent International Travelers', 'Gift Shoppers', 'Holiday Online Buyers - Apparel', 'Holiday Online Shoppers', 'Home Movie Viewers (Science Fiction)', 'nln_8059'] will be ignored\n",
      "  .format(sorted(unknown, key=str)))\n",
      "/Users/jonathant/anaconda3/lib/python3.7/site-packages/sklearn/preprocessing/_label.py:987: UserWarning: unknown class(es) ['Apparel Store Buyers - Charlotte Russe', 'Apparel Store Buyers - Express', 'Apparel Store Buyers - Guess', 'Apparel Store Buyers - H & M', 'Apparel Store Buyers - Michael Kors', 'Apparel Store Buyers - TJ Maxx', 'Apparel Store Buyers - Victorias Secret', 'Beauty and Fragrance Shoppers', \"Women's Apparel Shoppers\"] will be ignored\n",
      "  .format(sorted(unknown, key=str)))\n",
      "/Users/jonathant/anaconda3/lib/python3.7/site-packages/sklearn/preprocessing/_label.py:987: UserWarning: unknown class(es) ['Baby & Toddler - Baby Food Buyers', 'Baby & Toddler - Baby Formula Buyers', 'Baby & Toddler - Baby HBC Buyers', 'Baby & Toddler - Baby HBC Buyers - Huggies Brands', 'Baby & Toddler - Disposable Diaper & Training Pant Buyers', 'Baby & Toddler - Disposable Diaper & Training Pant Buyers - Huggies Brands', 'Baby & Toddler - Disposable Diaper & Training Pant Buyers - Pampers Brands', 'Baby Product Buyers', 'Baby Store Buyers', 'Baby Store Buyers - Buy Buy Baby', 'Baby Store Buyers - Carters', 'Baby Store Buyers - Diapers.com', 'Big Box Shoppers', \"Children's Product Buyers\", \"Children's Product Shoppers\", 'Department Store Shoppers', 'Food Buyers', 'Independence Day Buyers - Furnishing Stores', 'Independence Day Buyers - Grocery', 'Labor Day Buyers - Clothing Stores', 'Last 12 Months Buyers - Buybuy Baby', 'Recent Buyers', 'Romance & Rom-Com Fans', 'Theme Park Visitors', 'Toy Shoppers', 'nln_7168'] will be ignored\n",
      "  .format(sorted(unknown, key=str)))\n",
      "/Users/jonathant/anaconda3/lib/python3.7/site-packages/sklearn/preprocessing/_label.py:987: UserWarning: unknown class(es) ['TV Viewers (Educational)', 'Yoga Enthusiasts'] will be ignored\n",
      "  .format(sorted(unknown, key=str)))\n",
      "/Users/jonathant/anaconda3/lib/python3.7/site-packages/sklearn/preprocessing/_label.py:987: UserWarning: unknown class(es) ['Big Box Store Buyers - Walmart', 'Black Friday & Cyber Monday Shoppers', 'Cyber Monday Online Buyers - Amazon', 'Dallas Cowboys Fans', 'Heavy Holiday Buyers - Amazon', 'Houston Texans Fans', 'Last 12 Months Buyers - Walmart', 'Mexican Food Shoppers', 'New Chevrolet Truck Shoppers', 'New Ford Truck Shoppers', 'New Orleans Saints Fans', 'New RAM Truck Shoppers', 'New Years Day Buyers - Charitable Organizations', 'Olympics Enthusiasts', 'Post-Holiday Bargain Shoppers', 'TV Network Viewers (FX)', 'Talent & Competition Show Fans', 'Tampa Bay Buccaneers Fans', 'Tennessee Titans Fans', 'Walmart Stores', 'eCommerce Buyers - Amazon - Heavy Buyers'] will be ignored\n",
      "  .format(sorted(unknown, key=str)))\n"
     ]
    },
    {
     "name": "stderr",
     "output_type": "stream",
     "text": [
      "/Users/jonathant/anaconda3/lib/python3.7/site-packages/sklearn/preprocessing/_label.py:987: UserWarning: unknown class(es) ['Frequent International Travelers', 'Gift Shoppers', 'Holiday Online Buyers - Apparel', 'Holiday Online Shoppers', 'Home Movie Viewers (Science Fiction)', 'nln_8059'] will be ignored\n",
      "  .format(sorted(unknown, key=str)))\n",
      "/Users/jonathant/anaconda3/lib/python3.7/site-packages/sklearn/preprocessing/_label.py:987: UserWarning: unknown class(es) ['Apparel Store Buyers - Charlotte Russe', 'Apparel Store Buyers - Express', 'Apparel Store Buyers - Guess', 'Apparel Store Buyers - H & M', 'Apparel Store Buyers - Michael Kors', 'Apparel Store Buyers - TJ Maxx', 'Apparel Store Buyers - Victorias Secret', 'Beauty and Fragrance Shoppers', \"Women's Apparel Shoppers\"] will be ignored\n",
      "  .format(sorted(unknown, key=str)))\n",
      "/Users/jonathant/anaconda3/lib/python3.7/site-packages/sklearn/preprocessing/_label.py:987: UserWarning: unknown class(es) ['Baby & Toddler - Baby Food Buyers', 'Baby & Toddler - Baby Formula Buyers', 'Baby & Toddler - Baby HBC Buyers', 'Baby & Toddler - Baby HBC Buyers - Huggies Brands', 'Baby & Toddler - Disposable Diaper & Training Pant Buyers', 'Baby & Toddler - Disposable Diaper & Training Pant Buyers - Huggies Brands', 'Baby & Toddler - Disposable Diaper & Training Pant Buyers - Pampers Brands', 'Baby Product Buyers', 'Baby Store Buyers', 'Baby Store Buyers - Buy Buy Baby', 'Baby Store Buyers - Carters', 'Baby Store Buyers - Diapers.com', 'Big Box Shoppers', \"Children's Product Buyers\", \"Children's Product Shoppers\", 'Department Store Shoppers', 'Food Buyers', 'Independence Day Buyers - Furnishing Stores', 'Independence Day Buyers - Grocery', 'Labor Day Buyers - Clothing Stores', 'Last 12 Months Buyers - Buybuy Baby', 'Recent Buyers', 'Romance & Rom-Com Fans', 'Theme Park Visitors', 'Toy Shoppers', 'nln_7168'] will be ignored\n",
      "  .format(sorted(unknown, key=str)))\n",
      "/Users/jonathant/anaconda3/lib/python3.7/site-packages/sklearn/preprocessing/_label.py:987: UserWarning: unknown class(es) ['TV Viewers (Educational)', 'Yoga Enthusiasts'] will be ignored\n",
      "  .format(sorted(unknown, key=str)))\n",
      "/Users/jonathant/anaconda3/lib/python3.7/site-packages/sklearn/preprocessing/_label.py:987: UserWarning: unknown class(es) ['Big Box Store Buyers - Walmart', 'Black Friday & Cyber Monday Shoppers', 'Cyber Monday Online Buyers - Amazon', 'Dallas Cowboys Fans', 'Heavy Holiday Buyers - Amazon', 'Houston Texans Fans', 'Last 12 Months Buyers - Walmart', 'Mexican Food Shoppers', 'New Chevrolet Truck Shoppers', 'New Ford Truck Shoppers', 'New Orleans Saints Fans', 'New RAM Truck Shoppers', 'New Years Day Buyers - Charitable Organizations', 'Olympics Enthusiasts', 'Post-Holiday Bargain Shoppers', 'TV Network Viewers (FX)', 'Talent & Competition Show Fans', 'Tampa Bay Buccaneers Fans', 'Tennessee Titans Fans', 'Walmart Stores', 'eCommerce Buyers - Amazon - Heavy Buyers'] will be ignored\n",
      "  .format(sorted(unknown, key=str)))\n",
      "/Users/jonathant/anaconda3/lib/python3.7/site-packages/sklearn/preprocessing/_label.py:987: UserWarning: unknown class(es) ['Frequent International Travelers', 'Gift Shoppers', 'Holiday Online Buyers - Apparel', 'Holiday Online Shoppers', 'Home Movie Viewers (Science Fiction)', 'nln_8059'] will be ignored\n",
      "  .format(sorted(unknown, key=str)))\n",
      "/Users/jonathant/anaconda3/lib/python3.7/site-packages/sklearn/preprocessing/_label.py:987: UserWarning: unknown class(es) ['Apparel Store Buyers - Charlotte Russe', 'Apparel Store Buyers - Express', 'Apparel Store Buyers - Guess', 'Apparel Store Buyers - H & M', 'Apparel Store Buyers - Michael Kors', 'Apparel Store Buyers - TJ Maxx', 'Apparel Store Buyers - Victorias Secret', 'Beauty and Fragrance Shoppers', \"Women's Apparel Shoppers\"] will be ignored\n",
      "  .format(sorted(unknown, key=str)))\n",
      "/Users/jonathant/anaconda3/lib/python3.7/site-packages/sklearn/preprocessing/_label.py:987: UserWarning: unknown class(es) ['Baby & Toddler - Baby Food Buyers', 'Baby & Toddler - Baby Formula Buyers', 'Baby & Toddler - Baby HBC Buyers', 'Baby & Toddler - Baby HBC Buyers - Huggies Brands', 'Baby & Toddler - Disposable Diaper & Training Pant Buyers', 'Baby & Toddler - Disposable Diaper & Training Pant Buyers - Huggies Brands', 'Baby & Toddler - Disposable Diaper & Training Pant Buyers - Pampers Brands', 'Baby Product Buyers', 'Baby Store Buyers', 'Baby Store Buyers - Buy Buy Baby', 'Baby Store Buyers - Carters', 'Baby Store Buyers - Diapers.com', 'Big Box Shoppers', \"Children's Product Buyers\", \"Children's Product Shoppers\", 'Department Store Shoppers', 'Food Buyers', 'Independence Day Buyers - Furnishing Stores', 'Independence Day Buyers - Grocery', 'Labor Day Buyers - Clothing Stores', 'Last 12 Months Buyers - Buybuy Baby', 'Recent Buyers', 'Romance & Rom-Com Fans', 'Theme Park Visitors', 'Toy Shoppers', 'nln_7168'] will be ignored\n",
      "  .format(sorted(unknown, key=str)))\n",
      "/Users/jonathant/anaconda3/lib/python3.7/site-packages/sklearn/preprocessing/_label.py:987: UserWarning: unknown class(es) ['TV Viewers (Educational)', 'Yoga Enthusiasts'] will be ignored\n",
      "  .format(sorted(unknown, key=str)))\n",
      "/Users/jonathant/anaconda3/lib/python3.7/site-packages/sklearn/preprocessing/_label.py:987: UserWarning: unknown class(es) ['Big Box Store Buyers - Walmart', 'Black Friday & Cyber Monday Shoppers', 'Cyber Monday Online Buyers - Amazon', 'Dallas Cowboys Fans', 'Heavy Holiday Buyers - Amazon', 'Houston Texans Fans', 'Last 12 Months Buyers - Walmart', 'Mexican Food Shoppers', 'New Chevrolet Truck Shoppers', 'New Ford Truck Shoppers', 'New Orleans Saints Fans', 'New RAM Truck Shoppers', 'New Years Day Buyers - Charitable Organizations', 'Olympics Enthusiasts', 'Post-Holiday Bargain Shoppers', 'TV Network Viewers (FX)', 'Talent & Competition Show Fans', 'Tampa Bay Buccaneers Fans', 'Tennessee Titans Fans', 'Walmart Stores', 'eCommerce Buyers - Amazon - Heavy Buyers'] will be ignored\n",
      "  .format(sorted(unknown, key=str)))\n",
      "/Users/jonathant/anaconda3/lib/python3.7/site-packages/sklearn/preprocessing/_label.py:987: UserWarning: unknown class(es) ['Frequent International Travelers', 'Gift Shoppers', 'Holiday Online Buyers - Apparel', 'Holiday Online Shoppers', 'Home Movie Viewers (Science Fiction)', 'nln_8059'] will be ignored\n",
      "  .format(sorted(unknown, key=str)))\n",
      "/Users/jonathant/anaconda3/lib/python3.7/site-packages/sklearn/preprocessing/_label.py:987: UserWarning: unknown class(es) ['Apparel Store Buyers - Charlotte Russe', 'Apparel Store Buyers - Express', 'Apparel Store Buyers - Guess', 'Apparel Store Buyers - H & M', 'Apparel Store Buyers - Michael Kors', 'Apparel Store Buyers - TJ Maxx', 'Apparel Store Buyers - Victorias Secret', 'Beauty and Fragrance Shoppers', \"Women's Apparel Shoppers\"] will be ignored\n",
      "  .format(sorted(unknown, key=str)))\n",
      "/Users/jonathant/anaconda3/lib/python3.7/site-packages/sklearn/preprocessing/_label.py:987: UserWarning: unknown class(es) ['Baby & Toddler - Baby Food Buyers', 'Baby & Toddler - Baby Formula Buyers', 'Baby & Toddler - Baby HBC Buyers', 'Baby & Toddler - Baby HBC Buyers - Huggies Brands', 'Baby & Toddler - Disposable Diaper & Training Pant Buyers', 'Baby & Toddler - Disposable Diaper & Training Pant Buyers - Huggies Brands', 'Baby & Toddler - Disposable Diaper & Training Pant Buyers - Pampers Brands', 'Baby Product Buyers', 'Baby Store Buyers', 'Baby Store Buyers - Buy Buy Baby', 'Baby Store Buyers - Carters', 'Baby Store Buyers - Diapers.com', 'Big Box Shoppers', \"Children's Product Buyers\", \"Children's Product Shoppers\", 'Department Store Shoppers', 'Food Buyers', 'Independence Day Buyers - Furnishing Stores', 'Independence Day Buyers - Grocery', 'Labor Day Buyers - Clothing Stores', 'Last 12 Months Buyers - Buybuy Baby', 'Recent Buyers', 'Romance & Rom-Com Fans', 'Theme Park Visitors', 'Toy Shoppers', 'nln_7168'] will be ignored\n",
      "  .format(sorted(unknown, key=str)))\n",
      "/Users/jonathant/anaconda3/lib/python3.7/site-packages/sklearn/preprocessing/_label.py:987: UserWarning: unknown class(es) ['TV Viewers (Educational)', 'Yoga Enthusiasts'] will be ignored\n",
      "  .format(sorted(unknown, key=str)))\n",
      "/Users/jonathant/anaconda3/lib/python3.7/site-packages/sklearn/preprocessing/_label.py:987: UserWarning: unknown class(es) ['Big Box Store Buyers - Walmart', 'Black Friday & Cyber Monday Shoppers', 'Cyber Monday Online Buyers - Amazon', 'Dallas Cowboys Fans', 'Heavy Holiday Buyers - Amazon', 'Houston Texans Fans', 'Last 12 Months Buyers - Walmart', 'Mexican Food Shoppers', 'New Chevrolet Truck Shoppers', 'New Ford Truck Shoppers', 'New Orleans Saints Fans', 'New RAM Truck Shoppers', 'New Years Day Buyers - Charitable Organizations', 'Olympics Enthusiasts', 'Post-Holiday Bargain Shoppers', 'TV Network Viewers (FX)', 'Talent & Competition Show Fans', 'Tampa Bay Buccaneers Fans', 'Tennessee Titans Fans', 'Walmart Stores', 'eCommerce Buyers - Amazon - Heavy Buyers'] will be ignored\n",
      "  .format(sorted(unknown, key=str)))\n",
      "/Users/jonathant/anaconda3/lib/python3.7/site-packages/sklearn/preprocessing/_label.py:987: UserWarning: unknown class(es) ['Frequent International Travelers', 'Gift Shoppers', 'Holiday Online Buyers - Apparel', 'Holiday Online Shoppers', 'Home Movie Viewers (Science Fiction)', 'nln_8059'] will be ignored\n",
      "  .format(sorted(unknown, key=str)))\n"
     ]
    },
    {
     "name": "stderr",
     "output_type": "stream",
     "text": [
      "/Users/jonathant/anaconda3/lib/python3.7/site-packages/sklearn/preprocessing/_label.py:987: UserWarning: unknown class(es) ['Apparel Store Buyers - Charlotte Russe', 'Apparel Store Buyers - Express', 'Apparel Store Buyers - Guess', 'Apparel Store Buyers - H & M', 'Apparel Store Buyers - Michael Kors', 'Apparel Store Buyers - TJ Maxx', 'Apparel Store Buyers - Victorias Secret', 'Beauty and Fragrance Shoppers', \"Women's Apparel Shoppers\"] will be ignored\n",
      "  .format(sorted(unknown, key=str)))\n",
      "/Users/jonathant/anaconda3/lib/python3.7/site-packages/sklearn/preprocessing/_label.py:987: UserWarning: unknown class(es) ['Baby & Toddler - Baby Food Buyers', 'Baby & Toddler - Baby Formula Buyers', 'Baby & Toddler - Baby HBC Buyers', 'Baby & Toddler - Baby HBC Buyers - Huggies Brands', 'Baby & Toddler - Disposable Diaper & Training Pant Buyers', 'Baby & Toddler - Disposable Diaper & Training Pant Buyers - Huggies Brands', 'Baby & Toddler - Disposable Diaper & Training Pant Buyers - Pampers Brands', 'Baby Product Buyers', 'Baby Store Buyers', 'Baby Store Buyers - Buy Buy Baby', 'Baby Store Buyers - Carters', 'Baby Store Buyers - Diapers.com', 'Big Box Shoppers', \"Children's Product Buyers\", \"Children's Product Shoppers\", 'Department Store Shoppers', 'Food Buyers', 'Independence Day Buyers - Furnishing Stores', 'Independence Day Buyers - Grocery', 'Labor Day Buyers - Clothing Stores', 'Last 12 Months Buyers - Buybuy Baby', 'Recent Buyers', 'Romance & Rom-Com Fans', 'Theme Park Visitors', 'Toy Shoppers', 'nln_7168'] will be ignored\n",
      "  .format(sorted(unknown, key=str)))\n",
      "/Users/jonathant/anaconda3/lib/python3.7/site-packages/sklearn/preprocessing/_label.py:987: UserWarning: unknown class(es) ['TV Viewers (Educational)', 'Yoga Enthusiasts'] will be ignored\n",
      "  .format(sorted(unknown, key=str)))\n",
      "/Users/jonathant/anaconda3/lib/python3.7/site-packages/sklearn/preprocessing/_label.py:987: UserWarning: unknown class(es) ['Big Box Store Buyers - Walmart', 'Black Friday & Cyber Monday Shoppers', 'Cyber Monday Online Buyers - Amazon', 'Dallas Cowboys Fans', 'Heavy Holiday Buyers - Amazon', 'Houston Texans Fans', 'Last 12 Months Buyers - Walmart', 'Mexican Food Shoppers', 'New Chevrolet Truck Shoppers', 'New Ford Truck Shoppers', 'New Orleans Saints Fans', 'New RAM Truck Shoppers', 'New Years Day Buyers - Charitable Organizations', 'Olympics Enthusiasts', 'Post-Holiday Bargain Shoppers', 'TV Network Viewers (FX)', 'Talent & Competition Show Fans', 'Tampa Bay Buccaneers Fans', 'Tennessee Titans Fans', 'Walmart Stores', 'eCommerce Buyers - Amazon - Heavy Buyers'] will be ignored\n",
      "  .format(sorted(unknown, key=str)))\n",
      "/Users/jonathant/anaconda3/lib/python3.7/site-packages/sklearn/model_selection/_search.py:823: FutureWarning: The parameter 'iid' is deprecated in 0.22 and will be removed in 0.24.\n",
      "  \"removed in 0.24.\", FutureWarning\n"
     ]
    },
    {
     "data": {
      "text/plain": [
       "GridSearchCV(cv=5, error_score=nan,\n",
       "             estimator=Pipeline(memory=None,\n",
       "                                steps=[('feats',\n",
       "                                        ColumnTransformer(n_jobs=None,\n",
       "                                                          remainder='drop',\n",
       "                                                          sparse_threshold=0.3,\n",
       "                                                          transformer_weights=None,\n",
       "                                                          transformers=[('mlb_cat',\n",
       "                                                                         Pipeline(memory=None,\n",
       "                                                                                  steps=[('split',\n",
       "                                                                                          FunctionTransformer(accept_sparse=False,\n",
       "                                                                                                              check_inverse=True,\n",
       "                                                                                                              func=<function split_array at 0x1a1ef49170>,\n",
       "                                                                                                              inv_kw_args=No...\n",
       "                                                                                             inverse_func=None,\n",
       "                                                                                             kw_args=None,\n",
       "                                                                                             validate=False),\n",
       "                                                                         ['Spend'])],\n",
       "                                                          verbose=False)),\n",
       "                                       ('lr',\n",
       "                                        LinearRegression(copy_X=True,\n",
       "                                                         fit_intercept=True,\n",
       "                                                         n_jobs=None,\n",
       "                                                         normalize=False))],\n",
       "                                verbose=False),\n",
       "             iid=False, n_jobs=None,\n",
       "             param_grid={'feats__simple_cat__pca__n_components': [0.7, 0.75,\n",
       "                                                                  0.8, 0.85,\n",
       "                                                                  0.9, 0.99,\n",
       "                                                                  None]},\n",
       "             pre_dispatch='2*n_jobs', refit=True, return_train_score=False,\n",
       "             scoring=None, verbose=0)"
      ]
     },
     "execution_count": 423,
     "metadata": {},
     "output_type": "execute_result"
    }
   ],
   "source": [
    "grids1.fit(X_train, y_train)"
   ]
  },
  {
   "cell_type": "code",
   "execution_count": 424,
   "metadata": {},
   "outputs": [
    {
     "data": {
      "text/plain": [
       "{'feats__simple_cat__pca__n_components': None}"
      ]
     },
     "execution_count": 424,
     "metadata": {},
     "output_type": "execute_result"
    }
   ],
   "source": [
    "grids1.best_params_"
   ]
  },
  {
   "cell_type": "markdown",
   "metadata": {},
   "source": [
    "This is interesting since the GridSearch tells us that the regression model will be better of if we drop the simple_cat features (Currency Code and CountryCode). So we will do so."
   ]
  },
  {
   "cell_type": "markdown",
   "metadata": {},
   "source": [
    "#### Second trial model"
   ]
  },
  {
   "cell_type": "code",
   "execution_count": 425,
   "metadata": {},
   "outputs": [],
   "source": [
    "# Interests and Language\n",
    "split = FunctionTransformer(split_array)\n",
    "mlb_pl = Pipeline([\n",
    "    ('split', split),\n",
    "    ('mlb', MyLabelBinarizer()),\n",
    "    ('pca', PCA(svd_solver='full'))  # later do gridsearch\n",
    "])\n",
    "mlbcols = ['Interests', 'Language']\n",
    "\n",
    "\n",
    "# Currency Code and CountryCode\n",
    "simple_cats = Pipeline([\n",
    "    ('imp', SimpleImputer(strategy='constant', fill_value='NULL')),\n",
    "    ('ohe', OneHotEncoder(sparse=False, handle_unknown='ignore')),\n",
    "    ('pca', PCA(svd_solver='full', n_components=None))  \n",
    "])\n",
    "simple_catcols = ['Currency Code', 'CountryCode']\n",
    "\n",
    "\n",
    "# StartDate and EndDate\n",
    "duration = FunctionTransformer(get_duration_hours)\n",
    "duration_pl = Pipeline([\n",
    "    ('get_hours', duration),\n",
    "    ('imp', SimpleImputer(strategy='mean'))\n",
    "])\n",
    "durationcols = ['StartDate', 'EndDate']\n",
    "\n",
    "\n",
    "# Spend\n",
    "nums = FunctionTransformer(lambda x:x)   \n",
    "numcols = ['Spend']\n",
    "\n",
    "ct = ColumnTransformer([('mlb_cat', mlb_pl, mlbcols),\n",
    "                        ('simple_cat', simple_cats, simple_catcols),\n",
    "                        ('duration', duration_pl, durationcols),\n",
    "                        ('num', nums, numcols)\n",
    "                       ])\n",
    "\n",
    "trial_pl2 = Pipeline([('feats', ct), ('lr', LinearRegression())])"
   ]
  },
  {
   "cell_type": "markdown",
   "metadata": {},
   "source": [
    "GridSearch on n_components of mlb_cat_pca"
   ]
  },
  {
   "cell_type": "code",
   "execution_count": 426,
   "metadata": {},
   "outputs": [
    {
     "data": {
      "text/plain": [
       "dict_keys(['memory', 'steps', 'verbose', 'feats', 'lr', 'feats__n_jobs', 'feats__remainder', 'feats__sparse_threshold', 'feats__transformer_weights', 'feats__transformers', 'feats__verbose', 'feats__mlb_cat', 'feats__simple_cat', 'feats__duration', 'feats__num', 'feats__mlb_cat__memory', 'feats__mlb_cat__steps', 'feats__mlb_cat__verbose', 'feats__mlb_cat__split', 'feats__mlb_cat__mlb', 'feats__mlb_cat__pca', 'feats__mlb_cat__split__accept_sparse', 'feats__mlb_cat__split__check_inverse', 'feats__mlb_cat__split__func', 'feats__mlb_cat__split__inv_kw_args', 'feats__mlb_cat__split__inverse_func', 'feats__mlb_cat__split__kw_args', 'feats__mlb_cat__split__validate', 'feats__mlb_cat__pca__copy', 'feats__mlb_cat__pca__iterated_power', 'feats__mlb_cat__pca__n_components', 'feats__mlb_cat__pca__random_state', 'feats__mlb_cat__pca__svd_solver', 'feats__mlb_cat__pca__tol', 'feats__mlb_cat__pca__whiten', 'feats__simple_cat__memory', 'feats__simple_cat__steps', 'feats__simple_cat__verbose', 'feats__simple_cat__imp', 'feats__simple_cat__ohe', 'feats__simple_cat__pca', 'feats__simple_cat__imp__add_indicator', 'feats__simple_cat__imp__copy', 'feats__simple_cat__imp__fill_value', 'feats__simple_cat__imp__missing_values', 'feats__simple_cat__imp__strategy', 'feats__simple_cat__imp__verbose', 'feats__simple_cat__ohe__categories', 'feats__simple_cat__ohe__drop', 'feats__simple_cat__ohe__dtype', 'feats__simple_cat__ohe__handle_unknown', 'feats__simple_cat__ohe__sparse', 'feats__simple_cat__pca__copy', 'feats__simple_cat__pca__iterated_power', 'feats__simple_cat__pca__n_components', 'feats__simple_cat__pca__random_state', 'feats__simple_cat__pca__svd_solver', 'feats__simple_cat__pca__tol', 'feats__simple_cat__pca__whiten', 'feats__duration__memory', 'feats__duration__steps', 'feats__duration__verbose', 'feats__duration__get_hours', 'feats__duration__imp', 'feats__duration__get_hours__accept_sparse', 'feats__duration__get_hours__check_inverse', 'feats__duration__get_hours__func', 'feats__duration__get_hours__inv_kw_args', 'feats__duration__get_hours__inverse_func', 'feats__duration__get_hours__kw_args', 'feats__duration__get_hours__validate', 'feats__duration__imp__add_indicator', 'feats__duration__imp__copy', 'feats__duration__imp__fill_value', 'feats__duration__imp__missing_values', 'feats__duration__imp__strategy', 'feats__duration__imp__verbose', 'feats__num__accept_sparse', 'feats__num__check_inverse', 'feats__num__func', 'feats__num__inv_kw_args', 'feats__num__inverse_func', 'feats__num__kw_args', 'feats__num__validate', 'lr__copy_X', 'lr__fit_intercept', 'lr__n_jobs', 'lr__normalize'])"
      ]
     },
     "execution_count": 426,
     "metadata": {},
     "output_type": "execute_result"
    }
   ],
   "source": [
    "trial_pl2.get_params().keys()"
   ]
  },
  {
   "cell_type": "code",
   "execution_count": 427,
   "metadata": {},
   "outputs": [],
   "source": [
    "params = {'feats__mlb_cat__pca__n_components':[0.70, 0.75, 0.80, 0.85, 0.90, 0.99, None]}\n",
    "\n",
    "# train using cross validation\n",
    "grids2 = GridSearchCV(trial_pl2, param_grid=params, cv=5, iid = False)"
   ]
  },
  {
   "cell_type": "code",
   "execution_count": 428,
   "metadata": {},
   "outputs": [
    {
     "name": "stderr",
     "output_type": "stream",
     "text": [
      "/Users/jonathant/anaconda3/lib/python3.7/site-packages/sklearn/preprocessing/_label.py:987: UserWarning: unknown class(es) ['Frequent International Travelers', 'Gift Shoppers', 'Holiday Online Buyers - Apparel', 'Holiday Online Shoppers', 'Home Movie Viewers (Science Fiction)', 'nln_8059'] will be ignored\n",
      "  .format(sorted(unknown, key=str)))\n",
      "/Users/jonathant/anaconda3/lib/python3.7/site-packages/sklearn/preprocessing/_label.py:987: UserWarning: unknown class(es) ['Apparel Store Buyers - Charlotte Russe', 'Apparel Store Buyers - Express', 'Apparel Store Buyers - Guess', 'Apparel Store Buyers - H & M', 'Apparel Store Buyers - Michael Kors', 'Apparel Store Buyers - TJ Maxx', 'Apparel Store Buyers - Victorias Secret', 'Beauty and Fragrance Shoppers', \"Women's Apparel Shoppers\"] will be ignored\n",
      "  .format(sorted(unknown, key=str)))\n",
      "/Users/jonathant/anaconda3/lib/python3.7/site-packages/sklearn/preprocessing/_label.py:987: UserWarning: unknown class(es) ['Baby & Toddler - Baby Food Buyers', 'Baby & Toddler - Baby Formula Buyers', 'Baby & Toddler - Baby HBC Buyers', 'Baby & Toddler - Baby HBC Buyers - Huggies Brands', 'Baby & Toddler - Disposable Diaper & Training Pant Buyers', 'Baby & Toddler - Disposable Diaper & Training Pant Buyers - Huggies Brands', 'Baby & Toddler - Disposable Diaper & Training Pant Buyers - Pampers Brands', 'Baby Product Buyers', 'Baby Store Buyers', 'Baby Store Buyers - Buy Buy Baby', 'Baby Store Buyers - Carters', 'Baby Store Buyers - Diapers.com', 'Big Box Shoppers', \"Children's Product Buyers\", \"Children's Product Shoppers\", 'Department Store Shoppers', 'Food Buyers', 'Independence Day Buyers - Furnishing Stores', 'Independence Day Buyers - Grocery', 'Labor Day Buyers - Clothing Stores', 'Last 12 Months Buyers - Buybuy Baby', 'Recent Buyers', 'Romance & Rom-Com Fans', 'Theme Park Visitors', 'Toy Shoppers', 'nln_7168'] will be ignored\n",
      "  .format(sorted(unknown, key=str)))\n",
      "/Users/jonathant/anaconda3/lib/python3.7/site-packages/sklearn/preprocessing/_label.py:987: UserWarning: unknown class(es) ['TV Viewers (Educational)', 'Yoga Enthusiasts'] will be ignored\n",
      "  .format(sorted(unknown, key=str)))\n",
      "/Users/jonathant/anaconda3/lib/python3.7/site-packages/sklearn/preprocessing/_label.py:987: UserWarning: unknown class(es) ['Big Box Store Buyers - Walmart', 'Black Friday & Cyber Monday Shoppers', 'Cyber Monday Online Buyers - Amazon', 'Dallas Cowboys Fans', 'Heavy Holiday Buyers - Amazon', 'Houston Texans Fans', 'Last 12 Months Buyers - Walmart', 'Mexican Food Shoppers', 'New Chevrolet Truck Shoppers', 'New Ford Truck Shoppers', 'New Orleans Saints Fans', 'New RAM Truck Shoppers', 'New Years Day Buyers - Charitable Organizations', 'Olympics Enthusiasts', 'Post-Holiday Bargain Shoppers', 'TV Network Viewers (FX)', 'Talent & Competition Show Fans', 'Tampa Bay Buccaneers Fans', 'Tennessee Titans Fans', 'Walmart Stores', 'eCommerce Buyers - Amazon - Heavy Buyers'] will be ignored\n",
      "  .format(sorted(unknown, key=str)))\n",
      "/Users/jonathant/anaconda3/lib/python3.7/site-packages/sklearn/preprocessing/_label.py:987: UserWarning: unknown class(es) ['Frequent International Travelers', 'Gift Shoppers', 'Holiday Online Buyers - Apparel', 'Holiday Online Shoppers', 'Home Movie Viewers (Science Fiction)', 'nln_8059'] will be ignored\n",
      "  .format(sorted(unknown, key=str)))\n",
      "/Users/jonathant/anaconda3/lib/python3.7/site-packages/sklearn/preprocessing/_label.py:987: UserWarning: unknown class(es) ['Apparel Store Buyers - Charlotte Russe', 'Apparel Store Buyers - Express', 'Apparel Store Buyers - Guess', 'Apparel Store Buyers - H & M', 'Apparel Store Buyers - Michael Kors', 'Apparel Store Buyers - TJ Maxx', 'Apparel Store Buyers - Victorias Secret', 'Beauty and Fragrance Shoppers', \"Women's Apparel Shoppers\"] will be ignored\n",
      "  .format(sorted(unknown, key=str)))\n",
      "/Users/jonathant/anaconda3/lib/python3.7/site-packages/sklearn/preprocessing/_label.py:987: UserWarning: unknown class(es) ['Baby & Toddler - Baby Food Buyers', 'Baby & Toddler - Baby Formula Buyers', 'Baby & Toddler - Baby HBC Buyers', 'Baby & Toddler - Baby HBC Buyers - Huggies Brands', 'Baby & Toddler - Disposable Diaper & Training Pant Buyers', 'Baby & Toddler - Disposable Diaper & Training Pant Buyers - Huggies Brands', 'Baby & Toddler - Disposable Diaper & Training Pant Buyers - Pampers Brands', 'Baby Product Buyers', 'Baby Store Buyers', 'Baby Store Buyers - Buy Buy Baby', 'Baby Store Buyers - Carters', 'Baby Store Buyers - Diapers.com', 'Big Box Shoppers', \"Children's Product Buyers\", \"Children's Product Shoppers\", 'Department Store Shoppers', 'Food Buyers', 'Independence Day Buyers - Furnishing Stores', 'Independence Day Buyers - Grocery', 'Labor Day Buyers - Clothing Stores', 'Last 12 Months Buyers - Buybuy Baby', 'Recent Buyers', 'Romance & Rom-Com Fans', 'Theme Park Visitors', 'Toy Shoppers', 'nln_7168'] will be ignored\n",
      "  .format(sorted(unknown, key=str)))\n",
      "/Users/jonathant/anaconda3/lib/python3.7/site-packages/sklearn/preprocessing/_label.py:987: UserWarning: unknown class(es) ['TV Viewers (Educational)', 'Yoga Enthusiasts'] will be ignored\n",
      "  .format(sorted(unknown, key=str)))\n",
      "/Users/jonathant/anaconda3/lib/python3.7/site-packages/sklearn/preprocessing/_label.py:987: UserWarning: unknown class(es) ['Big Box Store Buyers - Walmart', 'Black Friday & Cyber Monday Shoppers', 'Cyber Monday Online Buyers - Amazon', 'Dallas Cowboys Fans', 'Heavy Holiday Buyers - Amazon', 'Houston Texans Fans', 'Last 12 Months Buyers - Walmart', 'Mexican Food Shoppers', 'New Chevrolet Truck Shoppers', 'New Ford Truck Shoppers', 'New Orleans Saints Fans', 'New RAM Truck Shoppers', 'New Years Day Buyers - Charitable Organizations', 'Olympics Enthusiasts', 'Post-Holiday Bargain Shoppers', 'TV Network Viewers (FX)', 'Talent & Competition Show Fans', 'Tampa Bay Buccaneers Fans', 'Tennessee Titans Fans', 'Walmart Stores', 'eCommerce Buyers - Amazon - Heavy Buyers'] will be ignored\n",
      "  .format(sorted(unknown, key=str)))\n",
      "/Users/jonathant/anaconda3/lib/python3.7/site-packages/sklearn/preprocessing/_label.py:987: UserWarning: unknown class(es) ['Frequent International Travelers', 'Gift Shoppers', 'Holiday Online Buyers - Apparel', 'Holiday Online Shoppers', 'Home Movie Viewers (Science Fiction)', 'nln_8059'] will be ignored\n",
      "  .format(sorted(unknown, key=str)))\n",
      "/Users/jonathant/anaconda3/lib/python3.7/site-packages/sklearn/preprocessing/_label.py:987: UserWarning: unknown class(es) ['Apparel Store Buyers - Charlotte Russe', 'Apparel Store Buyers - Express', 'Apparel Store Buyers - Guess', 'Apparel Store Buyers - H & M', 'Apparel Store Buyers - Michael Kors', 'Apparel Store Buyers - TJ Maxx', 'Apparel Store Buyers - Victorias Secret', 'Beauty and Fragrance Shoppers', \"Women's Apparel Shoppers\"] will be ignored\n",
      "  .format(sorted(unknown, key=str)))\n",
      "/Users/jonathant/anaconda3/lib/python3.7/site-packages/sklearn/preprocessing/_label.py:987: UserWarning: unknown class(es) ['Baby & Toddler - Baby Food Buyers', 'Baby & Toddler - Baby Formula Buyers', 'Baby & Toddler - Baby HBC Buyers', 'Baby & Toddler - Baby HBC Buyers - Huggies Brands', 'Baby & Toddler - Disposable Diaper & Training Pant Buyers', 'Baby & Toddler - Disposable Diaper & Training Pant Buyers - Huggies Brands', 'Baby & Toddler - Disposable Diaper & Training Pant Buyers - Pampers Brands', 'Baby Product Buyers', 'Baby Store Buyers', 'Baby Store Buyers - Buy Buy Baby', 'Baby Store Buyers - Carters', 'Baby Store Buyers - Diapers.com', 'Big Box Shoppers', \"Children's Product Buyers\", \"Children's Product Shoppers\", 'Department Store Shoppers', 'Food Buyers', 'Independence Day Buyers - Furnishing Stores', 'Independence Day Buyers - Grocery', 'Labor Day Buyers - Clothing Stores', 'Last 12 Months Buyers - Buybuy Baby', 'Recent Buyers', 'Romance & Rom-Com Fans', 'Theme Park Visitors', 'Toy Shoppers', 'nln_7168'] will be ignored\n",
      "  .format(sorted(unknown, key=str)))\n",
      "/Users/jonathant/anaconda3/lib/python3.7/site-packages/sklearn/preprocessing/_label.py:987: UserWarning: unknown class(es) ['TV Viewers (Educational)', 'Yoga Enthusiasts'] will be ignored\n",
      "  .format(sorted(unknown, key=str)))\n",
      "/Users/jonathant/anaconda3/lib/python3.7/site-packages/sklearn/preprocessing/_label.py:987: UserWarning: unknown class(es) ['Big Box Store Buyers - Walmart', 'Black Friday & Cyber Monday Shoppers', 'Cyber Monday Online Buyers - Amazon', 'Dallas Cowboys Fans', 'Heavy Holiday Buyers - Amazon', 'Houston Texans Fans', 'Last 12 Months Buyers - Walmart', 'Mexican Food Shoppers', 'New Chevrolet Truck Shoppers', 'New Ford Truck Shoppers', 'New Orleans Saints Fans', 'New RAM Truck Shoppers', 'New Years Day Buyers - Charitable Organizations', 'Olympics Enthusiasts', 'Post-Holiday Bargain Shoppers', 'TV Network Viewers (FX)', 'Talent & Competition Show Fans', 'Tampa Bay Buccaneers Fans', 'Tennessee Titans Fans', 'Walmart Stores', 'eCommerce Buyers - Amazon - Heavy Buyers'] will be ignored\n",
      "  .format(sorted(unknown, key=str)))\n"
     ]
    },
    {
     "name": "stderr",
     "output_type": "stream",
     "text": [
      "/Users/jonathant/anaconda3/lib/python3.7/site-packages/sklearn/preprocessing/_label.py:987: UserWarning: unknown class(es) ['Frequent International Travelers', 'Gift Shoppers', 'Holiday Online Buyers - Apparel', 'Holiday Online Shoppers', 'Home Movie Viewers (Science Fiction)', 'nln_8059'] will be ignored\n",
      "  .format(sorted(unknown, key=str)))\n",
      "/Users/jonathant/anaconda3/lib/python3.7/site-packages/sklearn/preprocessing/_label.py:987: UserWarning: unknown class(es) ['Apparel Store Buyers - Charlotte Russe', 'Apparel Store Buyers - Express', 'Apparel Store Buyers - Guess', 'Apparel Store Buyers - H & M', 'Apparel Store Buyers - Michael Kors', 'Apparel Store Buyers - TJ Maxx', 'Apparel Store Buyers - Victorias Secret', 'Beauty and Fragrance Shoppers', \"Women's Apparel Shoppers\"] will be ignored\n",
      "  .format(sorted(unknown, key=str)))\n",
      "/Users/jonathant/anaconda3/lib/python3.7/site-packages/sklearn/preprocessing/_label.py:987: UserWarning: unknown class(es) ['Baby & Toddler - Baby Food Buyers', 'Baby & Toddler - Baby Formula Buyers', 'Baby & Toddler - Baby HBC Buyers', 'Baby & Toddler - Baby HBC Buyers - Huggies Brands', 'Baby & Toddler - Disposable Diaper & Training Pant Buyers', 'Baby & Toddler - Disposable Diaper & Training Pant Buyers - Huggies Brands', 'Baby & Toddler - Disposable Diaper & Training Pant Buyers - Pampers Brands', 'Baby Product Buyers', 'Baby Store Buyers', 'Baby Store Buyers - Buy Buy Baby', 'Baby Store Buyers - Carters', 'Baby Store Buyers - Diapers.com', 'Big Box Shoppers', \"Children's Product Buyers\", \"Children's Product Shoppers\", 'Department Store Shoppers', 'Food Buyers', 'Independence Day Buyers - Furnishing Stores', 'Independence Day Buyers - Grocery', 'Labor Day Buyers - Clothing Stores', 'Last 12 Months Buyers - Buybuy Baby', 'Recent Buyers', 'Romance & Rom-Com Fans', 'Theme Park Visitors', 'Toy Shoppers', 'nln_7168'] will be ignored\n",
      "  .format(sorted(unknown, key=str)))\n",
      "/Users/jonathant/anaconda3/lib/python3.7/site-packages/sklearn/preprocessing/_label.py:987: UserWarning: unknown class(es) ['TV Viewers (Educational)', 'Yoga Enthusiasts'] will be ignored\n",
      "  .format(sorted(unknown, key=str)))\n",
      "/Users/jonathant/anaconda3/lib/python3.7/site-packages/sklearn/preprocessing/_label.py:987: UserWarning: unknown class(es) ['Big Box Store Buyers - Walmart', 'Black Friday & Cyber Monday Shoppers', 'Cyber Monday Online Buyers - Amazon', 'Dallas Cowboys Fans', 'Heavy Holiday Buyers - Amazon', 'Houston Texans Fans', 'Last 12 Months Buyers - Walmart', 'Mexican Food Shoppers', 'New Chevrolet Truck Shoppers', 'New Ford Truck Shoppers', 'New Orleans Saints Fans', 'New RAM Truck Shoppers', 'New Years Day Buyers - Charitable Organizations', 'Olympics Enthusiasts', 'Post-Holiday Bargain Shoppers', 'TV Network Viewers (FX)', 'Talent & Competition Show Fans', 'Tampa Bay Buccaneers Fans', 'Tennessee Titans Fans', 'Walmart Stores', 'eCommerce Buyers - Amazon - Heavy Buyers'] will be ignored\n",
      "  .format(sorted(unknown, key=str)))\n",
      "/Users/jonathant/anaconda3/lib/python3.7/site-packages/sklearn/preprocessing/_label.py:987: UserWarning: unknown class(es) ['Frequent International Travelers', 'Gift Shoppers', 'Holiday Online Buyers - Apparel', 'Holiday Online Shoppers', 'Home Movie Viewers (Science Fiction)', 'nln_8059'] will be ignored\n",
      "  .format(sorted(unknown, key=str)))\n",
      "/Users/jonathant/anaconda3/lib/python3.7/site-packages/sklearn/preprocessing/_label.py:987: UserWarning: unknown class(es) ['Apparel Store Buyers - Charlotte Russe', 'Apparel Store Buyers - Express', 'Apparel Store Buyers - Guess', 'Apparel Store Buyers - H & M', 'Apparel Store Buyers - Michael Kors', 'Apparel Store Buyers - TJ Maxx', 'Apparel Store Buyers - Victorias Secret', 'Beauty and Fragrance Shoppers', \"Women's Apparel Shoppers\"] will be ignored\n",
      "  .format(sorted(unknown, key=str)))\n",
      "/Users/jonathant/anaconda3/lib/python3.7/site-packages/sklearn/preprocessing/_label.py:987: UserWarning: unknown class(es) ['Baby & Toddler - Baby Food Buyers', 'Baby & Toddler - Baby Formula Buyers', 'Baby & Toddler - Baby HBC Buyers', 'Baby & Toddler - Baby HBC Buyers - Huggies Brands', 'Baby & Toddler - Disposable Diaper & Training Pant Buyers', 'Baby & Toddler - Disposable Diaper & Training Pant Buyers - Huggies Brands', 'Baby & Toddler - Disposable Diaper & Training Pant Buyers - Pampers Brands', 'Baby Product Buyers', 'Baby Store Buyers', 'Baby Store Buyers - Buy Buy Baby', 'Baby Store Buyers - Carters', 'Baby Store Buyers - Diapers.com', 'Big Box Shoppers', \"Children's Product Buyers\", \"Children's Product Shoppers\", 'Department Store Shoppers', 'Food Buyers', 'Independence Day Buyers - Furnishing Stores', 'Independence Day Buyers - Grocery', 'Labor Day Buyers - Clothing Stores', 'Last 12 Months Buyers - Buybuy Baby', 'Recent Buyers', 'Romance & Rom-Com Fans', 'Theme Park Visitors', 'Toy Shoppers', 'nln_7168'] will be ignored\n",
      "  .format(sorted(unknown, key=str)))\n",
      "/Users/jonathant/anaconda3/lib/python3.7/site-packages/sklearn/preprocessing/_label.py:987: UserWarning: unknown class(es) ['TV Viewers (Educational)', 'Yoga Enthusiasts'] will be ignored\n",
      "  .format(sorted(unknown, key=str)))\n",
      "/Users/jonathant/anaconda3/lib/python3.7/site-packages/sklearn/preprocessing/_label.py:987: UserWarning: unknown class(es) ['Big Box Store Buyers - Walmart', 'Black Friday & Cyber Monday Shoppers', 'Cyber Monday Online Buyers - Amazon', 'Dallas Cowboys Fans', 'Heavy Holiday Buyers - Amazon', 'Houston Texans Fans', 'Last 12 Months Buyers - Walmart', 'Mexican Food Shoppers', 'New Chevrolet Truck Shoppers', 'New Ford Truck Shoppers', 'New Orleans Saints Fans', 'New RAM Truck Shoppers', 'New Years Day Buyers - Charitable Organizations', 'Olympics Enthusiasts', 'Post-Holiday Bargain Shoppers', 'TV Network Viewers (FX)', 'Talent & Competition Show Fans', 'Tampa Bay Buccaneers Fans', 'Tennessee Titans Fans', 'Walmart Stores', 'eCommerce Buyers - Amazon - Heavy Buyers'] will be ignored\n",
      "  .format(sorted(unknown, key=str)))\n",
      "/Users/jonathant/anaconda3/lib/python3.7/site-packages/sklearn/preprocessing/_label.py:987: UserWarning: unknown class(es) ['Frequent International Travelers', 'Gift Shoppers', 'Holiday Online Buyers - Apparel', 'Holiday Online Shoppers', 'Home Movie Viewers (Science Fiction)', 'nln_8059'] will be ignored\n",
      "  .format(sorted(unknown, key=str)))\n",
      "/Users/jonathant/anaconda3/lib/python3.7/site-packages/sklearn/preprocessing/_label.py:987: UserWarning: unknown class(es) ['Apparel Store Buyers - Charlotte Russe', 'Apparel Store Buyers - Express', 'Apparel Store Buyers - Guess', 'Apparel Store Buyers - H & M', 'Apparel Store Buyers - Michael Kors', 'Apparel Store Buyers - TJ Maxx', 'Apparel Store Buyers - Victorias Secret', 'Beauty and Fragrance Shoppers', \"Women's Apparel Shoppers\"] will be ignored\n",
      "  .format(sorted(unknown, key=str)))\n",
      "/Users/jonathant/anaconda3/lib/python3.7/site-packages/sklearn/preprocessing/_label.py:987: UserWarning: unknown class(es) ['Baby & Toddler - Baby Food Buyers', 'Baby & Toddler - Baby Formula Buyers', 'Baby & Toddler - Baby HBC Buyers', 'Baby & Toddler - Baby HBC Buyers - Huggies Brands', 'Baby & Toddler - Disposable Diaper & Training Pant Buyers', 'Baby & Toddler - Disposable Diaper & Training Pant Buyers - Huggies Brands', 'Baby & Toddler - Disposable Diaper & Training Pant Buyers - Pampers Brands', 'Baby Product Buyers', 'Baby Store Buyers', 'Baby Store Buyers - Buy Buy Baby', 'Baby Store Buyers - Carters', 'Baby Store Buyers - Diapers.com', 'Big Box Shoppers', \"Children's Product Buyers\", \"Children's Product Shoppers\", 'Department Store Shoppers', 'Food Buyers', 'Independence Day Buyers - Furnishing Stores', 'Independence Day Buyers - Grocery', 'Labor Day Buyers - Clothing Stores', 'Last 12 Months Buyers - Buybuy Baby', 'Recent Buyers', 'Romance & Rom-Com Fans', 'Theme Park Visitors', 'Toy Shoppers', 'nln_7168'] will be ignored\n",
      "  .format(sorted(unknown, key=str)))\n",
      "/Users/jonathant/anaconda3/lib/python3.7/site-packages/sklearn/preprocessing/_label.py:987: UserWarning: unknown class(es) ['TV Viewers (Educational)', 'Yoga Enthusiasts'] will be ignored\n",
      "  .format(sorted(unknown, key=str)))\n",
      "/Users/jonathant/anaconda3/lib/python3.7/site-packages/sklearn/preprocessing/_label.py:987: UserWarning: unknown class(es) ['Big Box Store Buyers - Walmart', 'Black Friday & Cyber Monday Shoppers', 'Cyber Monday Online Buyers - Amazon', 'Dallas Cowboys Fans', 'Heavy Holiday Buyers - Amazon', 'Houston Texans Fans', 'Last 12 Months Buyers - Walmart', 'Mexican Food Shoppers', 'New Chevrolet Truck Shoppers', 'New Ford Truck Shoppers', 'New Orleans Saints Fans', 'New RAM Truck Shoppers', 'New Years Day Buyers - Charitable Organizations', 'Olympics Enthusiasts', 'Post-Holiday Bargain Shoppers', 'TV Network Viewers (FX)', 'Talent & Competition Show Fans', 'Tampa Bay Buccaneers Fans', 'Tennessee Titans Fans', 'Walmart Stores', 'eCommerce Buyers - Amazon - Heavy Buyers'] will be ignored\n",
      "  .format(sorted(unknown, key=str)))\n",
      "/Users/jonathant/anaconda3/lib/python3.7/site-packages/sklearn/preprocessing/_label.py:987: UserWarning: unknown class(es) ['Frequent International Travelers', 'Gift Shoppers', 'Holiday Online Buyers - Apparel', 'Holiday Online Shoppers', 'Home Movie Viewers (Science Fiction)', 'nln_8059'] will be ignored\n",
      "  .format(sorted(unknown, key=str)))\n"
     ]
    },
    {
     "name": "stderr",
     "output_type": "stream",
     "text": [
      "/Users/jonathant/anaconda3/lib/python3.7/site-packages/sklearn/preprocessing/_label.py:987: UserWarning: unknown class(es) ['Apparel Store Buyers - Charlotte Russe', 'Apparel Store Buyers - Express', 'Apparel Store Buyers - Guess', 'Apparel Store Buyers - H & M', 'Apparel Store Buyers - Michael Kors', 'Apparel Store Buyers - TJ Maxx', 'Apparel Store Buyers - Victorias Secret', 'Beauty and Fragrance Shoppers', \"Women's Apparel Shoppers\"] will be ignored\n",
      "  .format(sorted(unknown, key=str)))\n",
      "/Users/jonathant/anaconda3/lib/python3.7/site-packages/sklearn/preprocessing/_label.py:987: UserWarning: unknown class(es) ['Baby & Toddler - Baby Food Buyers', 'Baby & Toddler - Baby Formula Buyers', 'Baby & Toddler - Baby HBC Buyers', 'Baby & Toddler - Baby HBC Buyers - Huggies Brands', 'Baby & Toddler - Disposable Diaper & Training Pant Buyers', 'Baby & Toddler - Disposable Diaper & Training Pant Buyers - Huggies Brands', 'Baby & Toddler - Disposable Diaper & Training Pant Buyers - Pampers Brands', 'Baby Product Buyers', 'Baby Store Buyers', 'Baby Store Buyers - Buy Buy Baby', 'Baby Store Buyers - Carters', 'Baby Store Buyers - Diapers.com', 'Big Box Shoppers', \"Children's Product Buyers\", \"Children's Product Shoppers\", 'Department Store Shoppers', 'Food Buyers', 'Independence Day Buyers - Furnishing Stores', 'Independence Day Buyers - Grocery', 'Labor Day Buyers - Clothing Stores', 'Last 12 Months Buyers - Buybuy Baby', 'Recent Buyers', 'Romance & Rom-Com Fans', 'Theme Park Visitors', 'Toy Shoppers', 'nln_7168'] will be ignored\n",
      "  .format(sorted(unknown, key=str)))\n",
      "/Users/jonathant/anaconda3/lib/python3.7/site-packages/sklearn/preprocessing/_label.py:987: UserWarning: unknown class(es) ['TV Viewers (Educational)', 'Yoga Enthusiasts'] will be ignored\n",
      "  .format(sorted(unknown, key=str)))\n",
      "/Users/jonathant/anaconda3/lib/python3.7/site-packages/sklearn/preprocessing/_label.py:987: UserWarning: unknown class(es) ['Big Box Store Buyers - Walmart', 'Black Friday & Cyber Monday Shoppers', 'Cyber Monday Online Buyers - Amazon', 'Dallas Cowboys Fans', 'Heavy Holiday Buyers - Amazon', 'Houston Texans Fans', 'Last 12 Months Buyers - Walmart', 'Mexican Food Shoppers', 'New Chevrolet Truck Shoppers', 'New Ford Truck Shoppers', 'New Orleans Saints Fans', 'New RAM Truck Shoppers', 'New Years Day Buyers - Charitable Organizations', 'Olympics Enthusiasts', 'Post-Holiday Bargain Shoppers', 'TV Network Viewers (FX)', 'Talent & Competition Show Fans', 'Tampa Bay Buccaneers Fans', 'Tennessee Titans Fans', 'Walmart Stores', 'eCommerce Buyers - Amazon - Heavy Buyers'] will be ignored\n",
      "  .format(sorted(unknown, key=str)))\n",
      "/Users/jonathant/anaconda3/lib/python3.7/site-packages/sklearn/model_selection/_search.py:823: FutureWarning: The parameter 'iid' is deprecated in 0.22 and will be removed in 0.24.\n",
      "  \"removed in 0.24.\", FutureWarning\n"
     ]
    },
    {
     "data": {
      "text/plain": [
       "GridSearchCV(cv=5, error_score=nan,\n",
       "             estimator=Pipeline(memory=None,\n",
       "                                steps=[('feats',\n",
       "                                        ColumnTransformer(n_jobs=None,\n",
       "                                                          remainder='drop',\n",
       "                                                          sparse_threshold=0.3,\n",
       "                                                          transformer_weights=None,\n",
       "                                                          transformers=[('mlb_cat',\n",
       "                                                                         Pipeline(memory=None,\n",
       "                                                                                  steps=[('split',\n",
       "                                                                                          FunctionTransformer(accept_sparse=False,\n",
       "                                                                                                              check_inverse=True,\n",
       "                                                                                                              func=<function split_array at 0x1a1ef49170>,\n",
       "                                                                                                              inv_kw_args=No...\n",
       "                                                                                             inverse_func=None,\n",
       "                                                                                             kw_args=None,\n",
       "                                                                                             validate=False),\n",
       "                                                                         ['Spend'])],\n",
       "                                                          verbose=False)),\n",
       "                                       ('lr',\n",
       "                                        LinearRegression(copy_X=True,\n",
       "                                                         fit_intercept=True,\n",
       "                                                         n_jobs=None,\n",
       "                                                         normalize=False))],\n",
       "                                verbose=False),\n",
       "             iid=False, n_jobs=None,\n",
       "             param_grid={'feats__mlb_cat__pca__n_components': [0.7, 0.75, 0.8,\n",
       "                                                               0.85, 0.9, 0.99,\n",
       "                                                               None]},\n",
       "             pre_dispatch='2*n_jobs', refit=True, return_train_score=False,\n",
       "             scoring=None, verbose=0)"
      ]
     },
     "execution_count": 428,
     "metadata": {},
     "output_type": "execute_result"
    }
   ],
   "source": [
    "grids2.fit(X_train, y_train)"
   ]
  },
  {
   "cell_type": "code",
   "execution_count": 429,
   "metadata": {},
   "outputs": [
    {
     "data": {
      "text/plain": [
       "{'feats__mlb_cat__pca__n_components': 0.75}"
      ]
     },
     "execution_count": 429,
     "metadata": {},
     "output_type": "execute_result"
    }
   ],
   "source": [
    "grids2.best_params_"
   ]
  },
  {
   "cell_type": "markdown",
   "metadata": {},
   "source": [
    "With the Interests and Language features, we are also advised to take it out."
   ]
  },
  {
   "cell_type": "code",
   "execution_count": 430,
   "metadata": {},
   "outputs": [],
   "source": [
    "# Interests and Language\n",
    "split = FunctionTransformer(split_array)\n",
    "mlb_pl = Pipeline([\n",
    "    ('split', split),\n",
    "    ('mlb', MyLabelBinarizer()),\n",
    "    ('pca', PCA(svd_solver='full', n_components=None))  \n",
    "])\n",
    "mlbcols = ['Interests', 'Language']\n",
    "\n",
    "\n",
    "# Currency Code and CountryCode\n",
    "simple_cats = Pipeline([\n",
    "    ('imp', SimpleImputer(strategy='constant', fill_value='NULL')),\n",
    "    ('ohe', OneHotEncoder(sparse=False, handle_unknown='ignore')),\n",
    "    ('pca', PCA(svd_solver='full', n_components=None))  \n",
    "])\n",
    "simple_catcols = ['Currency Code', 'CountryCode']\n",
    "\n",
    "\n",
    "# StartDate and EndDate\n",
    "duration = FunctionTransformer(get_duration_hours)\n",
    "duration_pl = Pipeline([\n",
    "    ('get_hours', duration),\n",
    "    ('imp', SimpleImputer(strategy='median'))\n",
    "])\n",
    "durationcols = ['StartDate', 'EndDate']\n",
    "\n",
    "\n",
    "# Spend\n",
    "nums = FunctionTransformer(lambda x:x)   \n",
    "numcols = ['Spend']\n",
    "\n",
    "ct = ColumnTransformer([('mlb_cat', mlb_pl, mlbcols),\n",
    "                        ('simple_cat', simple_cats, simple_catcols),\n",
    "                        ('duration', duration_pl, durationcols),\n",
    "                        ('num', nums, numcols)\n",
    "                       ])\n",
    "\n",
    "final_pl = Pipeline([('feats', ct), ('lr', LinearRegression())])"
   ]
  },
  {
   "cell_type": "markdown",
   "metadata": {},
   "source": [
    "We will now train the model and predict."
   ]
  },
  {
   "cell_type": "code",
   "execution_count": 434,
   "metadata": {},
   "outputs": [
    {
     "name": "stdout",
     "output_type": "stream",
     "text": [
      "R^2: 0.6937881160154702\n",
      "RMSE: 4357424.355017208\n"
     ]
    },
    {
     "name": "stderr",
     "output_type": "stream",
     "text": [
      "/Users/jonathant/anaconda3/lib/python3.7/site-packages/sklearn/preprocessing/_label.py:987: UserWarning: unknown class(es) ['Apparel Store Buyers - Charlotte Russe', 'Apparel Store Buyers - Express', 'Apparel Store Buyers - Guess', 'Apparel Store Buyers - H & M', 'Apparel Store Buyers - Michael Kors', 'Apparel Store Buyers - TJ Maxx', 'Apparel Store Buyers - Victorias Secret', 'Beauty and Fragrance Shoppers', 'Drama Genre Fans', 'Home Movie Viewers (Science Fiction)', 'Indie & Alternative Music Fans', 'Mexican Food Shoppers', 'Rock Music Fans', 'Soul & R&B Fans', 'TV Viewers (Educational)', \"Women's Apparel Shoppers\"] will be ignored\n",
      "  .format(sorted(unknown, key=str)))\n",
      "/Users/jonathant/anaconda3/lib/python3.7/site-packages/sklearn/preprocessing/_label.py:987: UserWarning: unknown class(es) ['Apparel Store Buyers - Charlotte Russe', 'Apparel Store Buyers - Express', 'Apparel Store Buyers - Guess', 'Apparel Store Buyers - H & M', 'Apparel Store Buyers - Michael Kors', 'Apparel Store Buyers - TJ Maxx', 'Apparel Store Buyers - Victorias Secret', 'Beauty and Fragrance Shoppers', 'Drama Genre Fans', 'Home Movie Viewers (Science Fiction)', 'Indie & Alternative Music Fans', 'Mexican Food Shoppers', 'Rock Music Fans', 'Soul & R&B Fans', 'TV Viewers (Educational)', \"Women's Apparel Shoppers\"] will be ignored\n",
      "  .format(sorted(unknown, key=str)))\n"
     ]
    }
   ],
   "source": [
    "X = data_filt.drop(['Impressions'], axis=1)\n",
    "y = data_filt.Impressions\n",
    "\n",
    "X_train, X_test, y_train, y_test = train_test_split(X, y, test_size=.25)\n",
    "\n",
    "final_pl.fit(X_train, y_train)\n",
    "\n",
    "r2 = final_pl.score(X_test, y_test)\n",
    "print(\"R^2: %s\" % r2)\n",
    "\n",
    "final_preds = final_pl.predict(X_test)\n",
    "rmse = np.sqrt(np.mean((final_preds - y_test)**2))\n",
    "print(\"RMSE: %s\" % rmse)"
   ]
  },
  {
   "cell_type": "code",
   "execution_count": 432,
   "metadata": {},
   "outputs": [
    {
     "name": "stderr",
     "output_type": "stream",
     "text": [
      "/Users/jonathant/anaconda3/lib/python3.7/site-packages/sklearn/preprocessing/_label.py:987: UserWarning: unknown class(es) [\"Men's Apparel Shoppers\", 'Sporting Goods Buyers - Bass Pro Shop', 'Sporting Goods Buyers - Cabelas', 'TV Light Viewers'] will be ignored\n",
      "  .format(sorted(unknown, key=str)))\n",
      "/Users/jonathant/anaconda3/lib/python3.7/site-packages/sklearn/preprocessing/_label.py:987: UserWarning: unknown class(es) ['Apparel Buyers', 'Baby & Toddler - Baby Food Buyers', 'Baby & Toddler - Baby Formula Buyers', 'Baby & Toddler - Baby HBC Buyers', 'Baby & Toddler - Baby HBC Buyers - Huggies Brands', 'Baby & Toddler - Disposable Diaper & Training Pant Buyers', 'Baby & Toddler - Disposable Diaper & Training Pant Buyers - Huggies Brands', 'Baby & Toddler - Disposable Diaper & Training Pant Buyers - Pampers Brands', 'Baby Product Buyers', 'Baby Store Buyers', 'Baby Store Buyers - Buy Buy Baby', 'Baby Store Buyers - Carters', 'Baby Store Buyers - Diapers.com', 'Black Friday & Cyber Monday Shoppers', 'Black Friday Buyers', 'Black Friday Buyers - Apparel', 'Black Friday Online Buyers - Amazon', \"Children's Product Buyers\", \"Children's Product Shoppers\", 'Deal & Value Shoppers', 'Discount Buyers', 'Discount Store Shoppers', 'Food Buyers', 'Home Movie Viewers (Science Fiction)', 'Independence Day Buyers', 'Independence Day Buyers - Clothing Stores', 'Independence Day Buyers - Furnishing Stores', 'Independence Day Buyers - Grocery', 'Indie & Alternative Music Fans', 'Labor Day Buyers - Clothing Stores', 'Last 12 Months Buyers - Buybuy Baby', \"Men's Apparel Shoppers\", 'Money Minders', 'New Years Day Buyers - Charitable Organizations', 'Post-Holiday Bargain Shoppers', 'Recent Buyers', 'Rock Music Fans', 'Soul & R&B Fans', 'Sporting Goods Buyers - Bass Pro Shop', 'Sporting Goods Buyers - Cabelas', 'TV Network Viewers (CMT)', 'TV Network Viewers (FX)', 'TV Viewers (Educational)', 'nln_7168'] will be ignored\n",
      "  .format(sorted(unknown, key=str)))\n",
      "/Users/jonathant/anaconda3/lib/python3.7/site-packages/sklearn/preprocessing/_label.py:987: UserWarning: unknown class(es) ['Holiday Online Buyers - Apparel', 'Home Movie Viewers (Science Fiction)', 'Hybrid & Alternative Vehicle Shoppers', \"Men's Apparel Shoppers\", 'New Years Day Buyers - Charitable Organizations', 'Pet Owners', 'Sporting Goods Buyers - Bass Pro Shop', 'Sporting Goods Buyers - Cabelas', 'Supermarket Buyers - Whole Foods Market'] will be ignored\n",
      "  .format(sorted(unknown, key=str)))\n",
      "/Users/jonathant/anaconda3/lib/python3.7/site-packages/sklearn/preprocessing/_label.py:987: UserWarning: unknown class(es) ['Big Box Store Buyers - Walmart', 'Last 12 Months Buyers - Walmart', \"Men's Apparel Shoppers\", 'Sporting Goods Buyers - Bass Pro Shop', 'Sporting Goods Buyers - Cabelas', 'TV Light Viewers', 'TV Viewers (Educational)', 'TV Viewers (Science Fiction & Fantasy)'] will be ignored\n",
      "  .format(sorted(unknown, key=str)))\n",
      "/Users/jonathant/anaconda3/lib/python3.7/site-packages/sklearn/preprocessing/_label.py:987: UserWarning: unknown class(es) ['Independence Day Buyers - Furnishing Stores', 'Independence Day Buyers - Grocery', 'Labor Day Buyers - Clothing Stores', 'TV Viewers (Science Fiction & Fantasy)'] will be ignored\n",
      "  .format(sorted(unknown, key=str)))\n",
      "/Users/jonathant/anaconda3/lib/python3.7/site-packages/sklearn/preprocessing/_label.py:987: UserWarning: unknown class(es) ['Apparel Store Buyers - Charlotte Russe', 'Apparel Store Buyers - Express', 'Apparel Store Buyers - Guess', 'Apparel Store Buyers - H & M', 'Apparel Store Buyers - Michael Kors', 'Apparel Store Buyers - TJ Maxx', 'Apparel Store Buyers - Victorias Secret', 'Baby & Toddler - Baby Food Buyers', 'Baby & Toddler - Baby Formula Buyers', 'Baby & Toddler - Baby HBC Buyers', 'Baby & Toddler - Baby HBC Buyers - Huggies Brands', 'Baby & Toddler - Disposable Diaper & Training Pant Buyers', 'Baby & Toddler - Disposable Diaper & Training Pant Buyers - Huggies Brands', 'Baby & Toddler - Disposable Diaper & Training Pant Buyers - Pampers Brands', 'Baby Product Buyers', 'Baby Store Buyers', 'Baby Store Buyers - Buy Buy Baby', 'Baby Store Buyers - Carters', 'Baby Store Buyers - Diapers.com', 'Beauty and Fragrance Shoppers', \"Children's Product Buyers\", \"Children's Product Shoppers\", 'Food Buyers', 'Last 12 Months Buyers - Buybuy Baby', 'Last 12 Months Buyers - Urban Outfitters', 'Mexican Food Shoppers', 'Recent Buyers', 'TV Light Viewers', 'TV Viewers (Educational)', \"Women's Apparel Shoppers\", 'nln_7168'] will be ignored\n",
      "  .format(sorted(unknown, key=str)))\n",
      "/Users/jonathant/anaconda3/lib/python3.7/site-packages/sklearn/preprocessing/_label.py:987: UserWarning: unknown class(es) ['Baby & Toddler - Baby Food Buyers', 'Baby & Toddler - Baby Formula Buyers', 'Baby & Toddler - Baby HBC Buyers', 'Baby & Toddler - Baby HBC Buyers - Huggies Brands', 'Baby & Toddler - Disposable Diaper & Training Pant Buyers', 'Baby & Toddler - Disposable Diaper & Training Pant Buyers - Huggies Brands', 'Baby & Toddler - Disposable Diaper & Training Pant Buyers - Pampers Brands', 'Baby Product Buyers', 'Baby Store Buyers', 'Baby Store Buyers - Buy Buy Baby', 'Baby Store Buyers - Carters', 'Baby Store Buyers - Diapers.com', \"Children's Product Buyers\", \"Children's Product Shoppers\", 'Drama Genre Fans', 'Food Buyers', 'Last 12 Months Buyers - Buybuy Baby', 'New Years Day Buyers - Charitable Organizations', 'Recent Buyers', 'TV Light Viewers', 'TV Viewers (Science Fiction & Fantasy)', 'nln_7168'] will be ignored\n",
      "  .format(sorted(unknown, key=str)))\n",
      "/Users/jonathant/anaconda3/lib/python3.7/site-packages/sklearn/preprocessing/_label.py:987: UserWarning: unknown class(es) ['Black Friday & Cyber Monday Shoppers', 'Home Movie Viewers (Science Fiction)', 'Pet Owners', 'Post-Holiday Bargain Shoppers', 'TV Network Viewers (FX)', 'TV Viewers (Science Fiction & Fantasy)', 'nln_8059'] will be ignored\n",
      "  .format(sorted(unknown, key=str)))\n",
      "/Users/jonathant/anaconda3/lib/python3.7/site-packages/sklearn/preprocessing/_label.py:987: UserWarning: unknown class(es) ['Big Box Store Buyers - Walmart', 'Home Movie Viewers (Science Fiction)', 'Last 12 Months Buyers - Walmart', 'Pet Owners', 'TV Viewers (Science Fiction & Fantasy)', 'nln_8059'] will be ignored\n",
      "  .format(sorted(unknown, key=str)))\n",
      "/Users/jonathant/anaconda3/lib/python3.7/site-packages/sklearn/preprocessing/_label.py:987: UserWarning: unknown class(es) ['Drama Genre Fans'] will be ignored\n",
      "  .format(sorted(unknown, key=str)))\n",
      "/Users/jonathant/anaconda3/lib/python3.7/site-packages/sklearn/preprocessing/_label.py:987: UserWarning: unknown class(es) ['Big Box Store Buyers - Walmart', 'Home Movie Viewers (Science Fiction)', 'Last 12 Months Buyers - Walmart', 'Mexican Food Shoppers'] will be ignored\n",
      "  .format(sorted(unknown, key=str)))\n",
      "/Users/jonathant/anaconda3/lib/python3.7/site-packages/sklearn/preprocessing/_label.py:987: UserWarning: unknown class(es) ['Apparel Buyers', 'Apparel Shoppers', 'Apparel Store Buyers - Charlotte Russe', 'Apparel Store Buyers - Express', 'Apparel Store Buyers - Guess', 'Apparel Store Buyers - H & M', 'Apparel Store Buyers - Michael Kors', 'Apparel Store Buyers - TJ Maxx', 'Apparel Store Buyers - Victorias Secret', 'Beauty and Fragrance Shoppers', 'Black Friday & Cyber Monday Shoppers', 'Black Friday Buyers', 'Black Friday Buyers - Apparel', 'Deal & Value Shoppers', 'Discount Buyers', 'Discount Store Shoppers', 'Drama Genre Fans', 'Independence Day Buyers', 'Independence Day Buyers - Clothing Stores', 'Independence Day Buyers - Furnishing Stores', 'Independence Day Buyers - Grocery', 'Indie & Alternative Music Fans', 'Labor Day Buyers - Clothing Stores', 'Mexican Food Shoppers', 'Money Minders', 'Post-Holiday Bargain Shoppers', 'Rock Music Fans', 'TV Network Viewers (CMT)', 'TV Network Viewers (FX)', \"Women's Apparel Shoppers\", 'nln_8059'] will be ignored\n",
      "  .format(sorted(unknown, key=str)))\n",
      "/Users/jonathant/anaconda3/lib/python3.7/site-packages/sklearn/preprocessing/_label.py:987: UserWarning: unknown class(es) ['Independence Day Buyers - Furnishing Stores', 'Independence Day Buyers - Grocery', 'Labor Day Buyers - Clothing Stores', 'TV Viewers (Educational)', 'nln_8059'] will be ignored\n",
      "  .format(sorted(unknown, key=str)))\n"
     ]
    },
    {
     "name": "stderr",
     "output_type": "stream",
     "text": [
      "/Users/jonathant/anaconda3/lib/python3.7/site-packages/sklearn/preprocessing/_label.py:987: UserWarning: unknown class(es) ['Black Friday & Cyber Monday Shoppers', 'Drama Genre Fans', 'Indie & Alternative Music Fans', 'Mexican Food Shoppers', 'Post-Holiday Bargain Shoppers', 'Rock Music Fans', 'TV Network Viewers (FX)'] will be ignored\n",
      "  .format(sorted(unknown, key=str)))\n",
      "/Users/jonathant/anaconda3/lib/python3.7/site-packages/sklearn/preprocessing/_label.py:987: UserWarning: unknown class(es) ['Home Movie Viewers (Science Fiction)', \"Men's Apparel Shoppers\", 'Mexican Food Shoppers', 'Soul & R&B Fans', 'Sporting Goods Buyers - Bass Pro Shop', 'Sporting Goods Buyers - Cabelas', 'Supermarket Buyers - Whole Foods Market', 'TV Light Viewers'] will be ignored\n",
      "  .format(sorted(unknown, key=str)))\n",
      "/Users/jonathant/anaconda3/lib/python3.7/site-packages/sklearn/preprocessing/_label.py:987: UserWarning: unknown class(es) ['Apparel Store Buyers - Charlotte Russe', 'Apparel Store Buyers - Express', 'Apparel Store Buyers - Guess', 'Apparel Store Buyers - H & M', 'Apparel Store Buyers - Michael Kors', 'Apparel Store Buyers - TJ Maxx', 'Apparel Store Buyers - Victorias Secret', 'Beauty and Fragrance Shoppers', 'Drama Genre Fans', 'Holiday Online Buyers - Apparel', 'Soul & R&B Fans', 'Supermarket Buyers - Whole Foods Market', 'TV Viewers (Science Fiction & Fantasy)', \"Women's Apparel Shoppers\"] will be ignored\n",
      "  .format(sorted(unknown, key=str)))\n",
      "/Users/jonathant/anaconda3/lib/python3.7/site-packages/sklearn/preprocessing/_label.py:987: UserWarning: unknown class(es) ['Apparel Store Buyers - Charlotte Russe', 'Apparel Store Buyers - Express', 'Apparel Store Buyers - Guess', 'Apparel Store Buyers - H & M', 'Apparel Store Buyers - Michael Kors', 'Apparel Store Buyers - TJ Maxx', 'Apparel Store Buyers - Victorias Secret', 'Beauty and Fragrance Shoppers', 'Soul & R&B Fans', \"Women's Apparel Shoppers\", 'nln_8059'] will be ignored\n",
      "  .format(sorted(unknown, key=str)))\n",
      "/Users/jonathant/anaconda3/lib/python3.7/site-packages/sklearn/preprocessing/_label.py:987: UserWarning: unknown class(es) ['Big Box Store Buyers - Walmart', 'Last 12 Months Buyers - Walmart', 'Mexican Food Shoppers', 'Pet Owners', 'Soul & R&B Fans', 'TV Viewers (Educational)'] will be ignored\n",
      "  .format(sorted(unknown, key=str)))\n",
      "/Users/jonathant/anaconda3/lib/python3.7/site-packages/sklearn/preprocessing/_label.py:987: UserWarning: unknown class(es) ['Apparel Store Buyers - Charlotte Russe', 'Apparel Store Buyers - Express', 'Apparel Store Buyers - Guess', 'Apparel Store Buyers - H & M', 'Apparel Store Buyers - Michael Kors', 'Apparel Store Buyers - TJ Maxx', 'Apparel Store Buyers - Victorias Secret', 'Baby & Toddler - Baby Food Buyers', 'Baby & Toddler - Baby Formula Buyers', 'Baby & Toddler - Baby HBC Buyers', 'Baby & Toddler - Baby HBC Buyers - Huggies Brands', 'Baby & Toddler - Disposable Diaper & Training Pant Buyers', 'Baby & Toddler - Disposable Diaper & Training Pant Buyers - Huggies Brands', 'Baby & Toddler - Disposable Diaper & Training Pant Buyers - Pampers Brands', 'Baby Product Buyers', 'Baby Store Buyers', 'Baby Store Buyers - Buy Buy Baby', 'Baby Store Buyers - Carters', 'Baby Store Buyers - Diapers.com', 'Beauty and Fragrance Shoppers', 'Big Box Store Buyers - Walmart', \"Children's Product Buyers\", \"Children's Product Shoppers\", 'Food Buyers', 'Home Movie Viewers (Science Fiction)', 'Last 12 Months Buyers - Buybuy Baby', 'Last 12 Months Buyers - Urban Outfitters', 'Last 12 Months Buyers - Walmart', \"Men's Apparel Shoppers\", 'Recent Buyers', 'Sporting Goods Buyers - Bass Pro Shop', 'Sporting Goods Buyers - Cabelas', \"Women's Apparel Shoppers\", 'nln_7168'] will be ignored\n",
      "  .format(sorted(unknown, key=str)))\n",
      "/Users/jonathant/anaconda3/lib/python3.7/site-packages/sklearn/preprocessing/_label.py:987: UserWarning: unknown class(es) ['Apparel Store Buyers - Charlotte Russe', 'Apparel Store Buyers - Express', 'Apparel Store Buyers - Guess', 'Apparel Store Buyers - H & M', 'Apparel Store Buyers - Michael Kors', 'Apparel Store Buyers - TJ Maxx', 'Apparel Store Buyers - Victorias Secret', 'Baby & Toddler - Baby Food Buyers', 'Baby & Toddler - Baby Formula Buyers', 'Baby & Toddler - Baby HBC Buyers', 'Baby & Toddler - Baby HBC Buyers - Huggies Brands', 'Baby & Toddler - Disposable Diaper & Training Pant Buyers', 'Baby & Toddler - Disposable Diaper & Training Pant Buyers - Huggies Brands', 'Baby & Toddler - Disposable Diaper & Training Pant Buyers - Pampers Brands', 'Baby Product Buyers', 'Baby Store Buyers', 'Baby Store Buyers - Buy Buy Baby', 'Baby Store Buyers - Carters', 'Baby Store Buyers - Diapers.com', 'Beauty and Fragrance Shoppers', \"Children's Product Buyers\", \"Children's Product Shoppers\", 'Food Buyers', 'Last 12 Months Buyers - Buybuy Baby', 'New Years Day Buyers - Charitable Organizations', 'Recent Buyers', 'Supermarket Buyers - Whole Foods Market', 'TV Viewers (Educational)', \"Women's Apparel Shoppers\", 'nln_7168'] will be ignored\n",
      "  .format(sorted(unknown, key=str)))\n",
      "/Users/jonathant/anaconda3/lib/python3.7/site-packages/sklearn/preprocessing/_label.py:987: UserWarning: unknown class(es) ['Apparel Store Buyers - Charlotte Russe', 'Apparel Store Buyers - Express', 'Apparel Store Buyers - Guess', 'Apparel Store Buyers - H & M', 'Apparel Store Buyers - Michael Kors', 'Apparel Store Buyers - TJ Maxx', 'Apparel Store Buyers - Victorias Secret', 'Beauty and Fragrance Shoppers', 'Big Box Store Buyers - Walmart', 'Black Friday & Cyber Monday Shoppers', 'Last 12 Months Buyers - Walmart', \"Men's Apparel Shoppers\", 'Mexican Food Shoppers', 'Post-Holiday Bargain Shoppers', 'Sporting Goods Buyers - Bass Pro Shop', 'Sporting Goods Buyers - Cabelas', 'TV Light Viewers', 'TV Network Viewers (FX)', 'TV Viewers (Educational)', \"Women's Apparel Shoppers\"] will be ignored\n",
      "  .format(sorted(unknown, key=str)))\n",
      "/Users/jonathant/anaconda3/lib/python3.7/site-packages/sklearn/preprocessing/_label.py:987: UserWarning: unknown class(es) ['Big Box Shoppers', 'Department Store Shoppers', 'Mexican Food Shoppers', 'Theme Park Visitors', 'Toy Shoppers'] will be ignored\n",
      "  .format(sorted(unknown, key=str)))\n",
      "/Users/jonathant/anaconda3/lib/python3.7/site-packages/sklearn/preprocessing/_label.py:987: UserWarning: unknown class(es) ['Baby & Toddler - Baby Food Buyers', 'Baby & Toddler - Baby Formula Buyers', 'Baby & Toddler - Baby HBC Buyers', 'Baby & Toddler - Baby HBC Buyers - Huggies Brands', 'Baby & Toddler - Disposable Diaper & Training Pant Buyers', 'Baby & Toddler - Disposable Diaper & Training Pant Buyers - Huggies Brands', 'Baby & Toddler - Disposable Diaper & Training Pant Buyers - Pampers Brands', 'Baby Product Buyers', 'Baby Store Buyers', 'Baby Store Buyers - Buy Buy Baby', 'Baby Store Buyers - Carters', 'Baby Store Buyers - Diapers.com', 'Big Box Store Buyers - Walmart', 'Black Friday & Cyber Monday Shoppers', 'Black Friday Online Buyers - Amazon', \"Children's Product Buyers\", \"Children's Product Shoppers\", 'Cyber Monday Online Buyers - Amazon', 'Dallas Cowboys Fans', 'Drama Genre Fans', 'Food Buyers', 'Heavy Holiday Buyers - Amazon', 'Houston Texans Fans', 'Last 12 Months Buyers - Buybuy Baby', 'Last 12 Months Buyers - Walmart', 'New Chevrolet Truck Shoppers', 'New Ford Truck Shoppers', 'New Orleans Saints Fans', 'New RAM Truck Shoppers', 'Post-Holiday Bargain Shoppers', 'Recent Buyers', 'Supermarket Buyers - Whole Foods Market', 'TV Network Viewers (FX)', 'Tampa Bay Buccaneers Fans', 'Tennessee Titans Fans', 'Walmart Stores', 'eCommerce Buyers - Amazon - Heavy Buyers', 'nln_7168'] will be ignored\n",
      "  .format(sorted(unknown, key=str)))\n",
      "/Users/jonathant/anaconda3/lib/python3.7/site-packages/sklearn/preprocessing/_label.py:987: UserWarning: unknown class(es) ['Apparel Buyers', 'Black Friday & Cyber Monday Shoppers', 'Black Friday Buyers', 'Black Friday Buyers - Apparel', 'Deal & Value Shoppers', 'Discount Buyers', 'Discount Store Shoppers', 'Drama Genre Fans', 'Independence Day Buyers', 'Independence Day Buyers - Clothing Stores', 'Independence Day Buyers - Furnishing Stores', 'Independence Day Buyers - Grocery', 'Labor Day Buyers - Clothing Stores', 'Money Minders', 'Pet Owners', 'Post-Holiday Bargain Shoppers', 'Soul & R&B Fans', 'Supermarket Buyers - Whole Foods Market', 'TV Network Viewers (CMT)', 'TV Network Viewers (FX)'] will be ignored\n",
      "  .format(sorted(unknown, key=str)))\n",
      "/Users/jonathant/anaconda3/lib/python3.7/site-packages/sklearn/preprocessing/_label.py:987: UserWarning: unknown class(es) ['Black Friday Online Buyers - Amazon', 'Soul & R&B Fans', 'TV Viewers (Science Fiction & Fantasy)'] will be ignored\n",
      "  .format(sorted(unknown, key=str)))\n"
     ]
    },
    {
     "name": "stderr",
     "output_type": "stream",
     "text": [
      "/Users/jonathant/anaconda3/lib/python3.7/site-packages/sklearn/preprocessing/_label.py:987: UserWarning: unknown class(es) ['Apparel Store Buyers - Charlotte Russe', 'Apparel Store Buyers - Express', 'Apparel Store Buyers - Guess', 'Apparel Store Buyers - H & M', 'Apparel Store Buyers - Michael Kors', 'Apparel Store Buyers - TJ Maxx', 'Apparel Store Buyers - Victorias Secret', 'Beauty and Fragrance Shoppers', 'Big Box Store Buyers - Walmart', 'Independence Day Buyers - Furnishing Stores', 'Independence Day Buyers - Grocery', 'Labor Day Buyers - Clothing Stores', 'Last 12 Months Buyers - Walmart', \"Women's Apparel Shoppers\"] will be ignored\n",
      "  .format(sorted(unknown, key=str)))\n",
      "/Users/jonathant/anaconda3/lib/python3.7/site-packages/sklearn/preprocessing/_label.py:987: UserWarning: unknown class(es) ['Apparel Buyers', 'Apparel Store Buyers - Charlotte Russe', 'Apparel Store Buyers - Express', 'Apparel Store Buyers - Guess', 'Apparel Store Buyers - H & M', 'Apparel Store Buyers - Michael Kors', 'Apparel Store Buyers - TJ Maxx', 'Apparel Store Buyers - Victorias Secret', 'Beauty and Fragrance Shoppers', 'Black Friday & Cyber Monday Shoppers', 'Black Friday Buyers', 'Black Friday Buyers - Apparel', 'Deal & Value Shoppers', 'Discount Buyers', 'Discount Store Shoppers', 'Drama Genre Fans', 'Electronics Buyers - Apple Store', 'Independence Day Buyers', 'Independence Day Buyers - Clothing Stores', 'Independence Day Buyers - Furnishing Stores', 'Independence Day Buyers - Grocery', 'Labor Day Buyers - Clothing Stores', 'Last 12 Months Buyers - Apple', \"Men's Apparel Shoppers\", 'Money Minders', 'Post-Holiday Bargain Shoppers', 'Sporting Goods Buyers - Bass Pro Shop', 'Sporting Goods Buyers - Cabelas', 'TV Network Viewers (CMT)', 'TV Network Viewers (FX)', 'TV Viewers (Educational)', 'TV Viewers (Science Fiction & Fantasy)', \"Women's Apparel Shoppers\"] will be ignored\n",
      "  .format(sorted(unknown, key=str)))\n",
      "/Users/jonathant/anaconda3/lib/python3.7/site-packages/sklearn/preprocessing/_label.py:987: UserWarning: unknown class(es) ['Apparel Buyers', 'Black Friday & Cyber Monday Shoppers', 'Black Friday Buyers', 'Black Friday Buyers - Apparel', 'Deal & Value Shoppers', 'Discount Buyers', 'Discount Store Shoppers', 'Drama Genre Fans', 'Independence Day Buyers', 'Independence Day Buyers - Clothing Stores', 'Independence Day Buyers - Furnishing Stores', 'Independence Day Buyers - Grocery', 'Labor Day Buyers - Clothing Stores', 'Money Minders', 'Post-Holiday Bargain Shoppers', 'TV Network Viewers (CMT)', 'TV Network Viewers (FX)', 'TV Viewers (Educational)'] will be ignored\n",
      "  .format(sorted(unknown, key=str)))\n",
      "/Users/jonathant/anaconda3/lib/python3.7/site-packages/sklearn/preprocessing/_label.py:987: UserWarning: unknown class(es) ['Big Box Store Buyers - Walmart', 'Independence Day Buyers - Furnishing Stores', 'Independence Day Buyers - Grocery', 'Labor Day Buyers - Clothing Stores', 'Last 12 Months Buyers - Walmart', 'Mexican Food Shoppers', 'New Years Day Buyers - Charitable Organizations', 'Supermarket Buyers - Whole Foods Market', 'TV Viewers (Educational)'] will be ignored\n",
      "  .format(sorted(unknown, key=str)))\n",
      "/Users/jonathant/anaconda3/lib/python3.7/site-packages/sklearn/preprocessing/_label.py:987: UserWarning: unknown class(es) ['Big Box Store Buyers - Walmart', 'Indie & Alternative Music Fans', 'Last 12 Months Buyers - Walmart', 'Rock Music Fans', 'Soul & R&B Fans', 'Supermarket Buyers - Whole Foods Market', 'TV Light Viewers'] will be ignored\n",
      "  .format(sorted(unknown, key=str)))\n",
      "/Users/jonathant/anaconda3/lib/python3.7/site-packages/sklearn/preprocessing/_label.py:987: UserWarning: unknown class(es) ['Apparel Buyers', 'Apparel Store Buyers - Charlotte Russe', 'Apparel Store Buyers - Express', 'Apparel Store Buyers - Guess', 'Apparel Store Buyers - H & M', 'Apparel Store Buyers - Michael Kors', 'Apparel Store Buyers - TJ Maxx', 'Apparel Store Buyers - Victorias Secret', 'Beauty and Fragrance Shoppers', 'Big Box Store Buyers - Walmart', 'Black Friday & Cyber Monday Shoppers', 'Black Friday Buyers', 'Black Friday Buyers - Apparel', 'Black Friday Online Buyers - Amazon', 'Cyber Monday Online Buyers - Amazon', 'Dallas Cowboys Fans', 'Deal & Value Shoppers', 'Discount Buyers', 'Discount Store Shoppers', 'Drama Genre Fans', 'Heavy Holiday Buyers - Amazon', 'Houston Texans Fans', 'Independence Day Buyers', 'Independence Day Buyers - Clothing Stores', 'Independence Day Buyers - Furnishing Stores', 'Independence Day Buyers - Grocery', 'Labor Day Buyers - Clothing Stores', 'Last 12 Months Buyers - Walmart', 'Money Minders', 'New Chevrolet Truck Shoppers', 'New Ford Truck Shoppers', 'New Orleans Saints Fans', 'New RAM Truck Shoppers', 'Post-Holiday Bargain Shoppers', 'Soul & R&B Fans', 'TV Light Viewers', 'TV Network Viewers (CMT)', 'TV Network Viewers (FX)', 'TV Viewers (Science Fiction & Fantasy)', 'Tampa Bay Buccaneers Fans', 'Tennessee Titans Fans', 'Walmart Stores', \"Women's Apparel Shoppers\", 'eCommerce Buyers - Amazon - Heavy Buyers'] will be ignored\n",
      "  .format(sorted(unknown, key=str)))\n",
      "/Users/jonathant/anaconda3/lib/python3.7/site-packages/sklearn/preprocessing/_label.py:987: UserWarning: unknown class(es) ['Drama Genre Fans', \"Men's Apparel Shoppers\", 'New Years Day Buyers - Charitable Organizations', 'Sporting Goods Buyers - Bass Pro Shop', 'Sporting Goods Buyers - Cabelas', 'TV Viewers (Science Fiction & Fantasy)'] will be ignored\n",
      "  .format(sorted(unknown, key=str)))\n",
      "/Users/jonathant/anaconda3/lib/python3.7/site-packages/sklearn/preprocessing/_label.py:987: UserWarning: unknown class(es) ['Big Box Store Buyers - Walmart', 'Home Movie Viewers (Science Fiction)', 'Last 12 Months Buyers - Walmart', 'New Years Day Buyers - Charitable Organizations', 'Pet Owners', 'TV Light Viewers', 'TV Viewers (Science Fiction & Fantasy)'] will be ignored\n",
      "  .format(sorted(unknown, key=str)))\n",
      "/Users/jonathant/anaconda3/lib/python3.7/site-packages/sklearn/preprocessing/_label.py:987: UserWarning: unknown class(es) ['Baby & Toddler - Baby Food Buyers', 'Baby & Toddler - Baby Formula Buyers', 'Baby & Toddler - Baby HBC Buyers', 'Baby & Toddler - Baby HBC Buyers - Huggies Brands', 'Baby & Toddler - Disposable Diaper & Training Pant Buyers', 'Baby & Toddler - Disposable Diaper & Training Pant Buyers - Huggies Brands', 'Baby & Toddler - Disposable Diaper & Training Pant Buyers - Pampers Brands', 'Baby Product Buyers', 'Baby Store Buyers', 'Baby Store Buyers - Buy Buy Baby', 'Baby Store Buyers - Carters', 'Baby Store Buyers - Diapers.com', 'Black Friday & Cyber Monday Shoppers', \"Children's Product Buyers\", \"Children's Product Shoppers\", 'Food Buyers', 'Last 12 Months Buyers - Buybuy Baby', \"Men's Apparel Shoppers\", 'Mexican Food Shoppers', 'Post-Holiday Bargain Shoppers', 'Recent Buyers', 'Soul & R&B Fans', 'Sporting Goods Buyers - Bass Pro Shop', 'Sporting Goods Buyers - Cabelas', 'TV Network Viewers (FX)', 'nln_7168'] will be ignored\n",
      "  .format(sorted(unknown, key=str)))\n",
      "/Users/jonathant/anaconda3/lib/python3.7/site-packages/sklearn/preprocessing/_label.py:987: UserWarning: unknown class(es) ['Apparel Store Buyers - Charlotte Russe', 'Apparel Store Buyers - Express', 'Apparel Store Buyers - Guess', 'Apparel Store Buyers - H & M', 'Apparel Store Buyers - Michael Kors', 'Apparel Store Buyers - TJ Maxx', 'Apparel Store Buyers - Victorias Secret', 'Beauty and Fragrance Shoppers', \"Men's Apparel Shoppers\", 'Sporting Goods Buyers - Bass Pro Shop', 'Sporting Goods Buyers - Cabelas', 'Supermarket Buyers - Whole Foods Market', 'TV Viewers (Educational)', \"Women's Apparel Shoppers\"] will be ignored\n",
      "  .format(sorted(unknown, key=str)))\n",
      "/Users/jonathant/anaconda3/lib/python3.7/site-packages/sklearn/preprocessing/_label.py:987: UserWarning: unknown class(es) ['Apparel Store Buyers - Charlotte Russe', 'Apparel Store Buyers - Express', 'Apparel Store Buyers - Guess', 'Apparel Store Buyers - H & M', 'Apparel Store Buyers - Michael Kors', 'Apparel Store Buyers - TJ Maxx', 'Apparel Store Buyers - Victorias Secret', 'Beauty and Fragrance Shoppers', 'Black Friday & Cyber Monday Shoppers', 'Black Friday Online Buyers - Amazon', 'Indie & Alternative Music Fans', 'New Years Day Buyers - Charitable Organizations', 'Post-Holiday Bargain Shoppers', 'Rock Music Fans', 'TV Light Viewers', 'TV Network Viewers (FX)', \"Women's Apparel Shoppers\"] will be ignored\n",
      "  .format(sorted(unknown, key=str)))\n",
      "/Users/jonathant/anaconda3/lib/python3.7/site-packages/sklearn/preprocessing/_label.py:987: UserWarning: unknown class(es) ['Big Box Store Buyers - Walmart', 'Independence Day Buyers - Furnishing Stores', 'Independence Day Buyers - Grocery', 'Labor Day Buyers - Clothing Stores', 'Last 12 Months Buyers - Walmart', \"Men's Apparel Shoppers\", 'Sporting Goods Buyers - Bass Pro Shop', 'Sporting Goods Buyers - Cabelas', 'TV Viewers (Science Fiction & Fantasy)'] will be ignored\n",
      "  .format(sorted(unknown, key=str)))\n"
     ]
    },
    {
     "name": "stderr",
     "output_type": "stream",
     "text": [
      "/Users/jonathant/anaconda3/lib/python3.7/site-packages/sklearn/preprocessing/_label.py:987: UserWarning: unknown class(es) ['Apparel Store Buyers - Charlotte Russe', 'Apparel Store Buyers - Express', 'Apparel Store Buyers - Guess', 'Apparel Store Buyers - H & M', 'Apparel Store Buyers - Michael Kors', 'Apparel Store Buyers - TJ Maxx', 'Apparel Store Buyers - Victorias Secret', 'Beauty and Fragrance Shoppers', 'Big Box Store Buyers - Walmart', 'Last 12 Months Buyers - Walmart', \"Men's Apparel Shoppers\", 'Pet Owners', 'Sporting Goods Buyers - Bass Pro Shop', 'Sporting Goods Buyers - Cabelas', 'TV Light Viewers', 'TV Viewers (Science Fiction & Fantasy)', \"Women's Apparel Shoppers\", 'nln_8059'] will be ignored\n",
      "  .format(sorted(unknown, key=str)))\n",
      "/Users/jonathant/anaconda3/lib/python3.7/site-packages/sklearn/preprocessing/_label.py:987: UserWarning: unknown class(es) ['Apparel Store Buyers - Charlotte Russe', 'Apparel Store Buyers - Express', 'Apparel Store Buyers - Guess', 'Apparel Store Buyers - H & M', 'Apparel Store Buyers - Michael Kors', 'Apparel Store Buyers - TJ Maxx', 'Apparel Store Buyers - Victorias Secret', 'Beauty and Fragrance Shoppers', 'Holiday Online Buyers - Apparel', 'Soul & R&B Fans', 'TV Light Viewers', 'TV Viewers (Educational)', 'TV Viewers (Science Fiction & Fantasy)', \"Women's Apparel Shoppers\"] will be ignored\n",
      "  .format(sorted(unknown, key=str)))\n",
      "/Users/jonathant/anaconda3/lib/python3.7/site-packages/sklearn/preprocessing/_label.py:987: UserWarning: unknown class(es) ['Apparel Store Buyers - Charlotte Russe', 'Apparel Store Buyers - Express', 'Apparel Store Buyers - Guess', 'Apparel Store Buyers - H & M', 'Apparel Store Buyers - Michael Kors', 'Apparel Store Buyers - TJ Maxx', 'Apparel Store Buyers - Victorias Secret', 'Beauty and Fragrance Shoppers', 'Black Friday & Cyber Monday Shoppers', 'Black Friday Online Buyers - Amazon', 'Mexican Food Shoppers', 'New Years Day Buyers - Charitable Organizations', 'Post-Holiday Bargain Shoppers', 'TV Light Viewers', 'TV Network Viewers (FX)', \"Women's Apparel Shoppers\"] will be ignored\n",
      "  .format(sorted(unknown, key=str)))\n",
      "/Users/jonathant/anaconda3/lib/python3.7/site-packages/sklearn/preprocessing/_label.py:987: UserWarning: unknown class(es) ['Big Box Shoppers', 'Black Friday Online Buyers - Amazon', 'Department Store Shoppers', 'Electronics Buyers - Apple Store', 'Family Travelers', 'Last 12 Months Buyers - Apple', 'Soul & R&B Fans', 'Theme Park Visitors', 'Toy Shoppers'] will be ignored\n",
      "  .format(sorted(unknown, key=str)))\n",
      "/Users/jonathant/anaconda3/lib/python3.7/site-packages/sklearn/preprocessing/_label.py:987: UserWarning: unknown class(es) ['Baby & Toddler - Baby Food Buyers', 'Baby & Toddler - Baby Formula Buyers', 'Baby & Toddler - Baby HBC Buyers', 'Baby & Toddler - Baby HBC Buyers - Huggies Brands', 'Baby & Toddler - Disposable Diaper & Training Pant Buyers', 'Baby & Toddler - Disposable Diaper & Training Pant Buyers - Huggies Brands', 'Baby & Toddler - Disposable Diaper & Training Pant Buyers - Pampers Brands', 'Baby Product Buyers', 'Baby Store Buyers', 'Baby Store Buyers - Buy Buy Baby', 'Baby Store Buyers - Carters', 'Baby Store Buyers - Diapers.com', 'Black Friday Online Buyers - Amazon', \"Children's Product Buyers\", \"Children's Product Shoppers\", 'Food Buyers', 'Home Movie Viewers (Science Fiction)', 'Last 12 Months Buyers - Buybuy Baby', 'Recent Buyers', 'TV Viewers (Educational)', 'nln_7168', 'nln_8059'] will be ignored\n",
      "  .format(sorted(unknown, key=str)))\n",
      "/Users/jonathant/anaconda3/lib/python3.7/site-packages/sklearn/preprocessing/_label.py:987: UserWarning: unknown class(es) ['Black Friday Online Buyers - Amazon', 'New Years Day Buyers - Charitable Organizations'] will be ignored\n",
      "  .format(sorted(unknown, key=str)))\n",
      "/Users/jonathant/anaconda3/lib/python3.7/site-packages/sklearn/preprocessing/_label.py:987: UserWarning: unknown class(es) ['TV Light Viewers'] will be ignored\n",
      "  .format(sorted(unknown, key=str)))\n",
      "/Users/jonathant/anaconda3/lib/python3.7/site-packages/sklearn/preprocessing/_label.py:987: UserWarning: unknown class(es) ['Baby & Toddler - Baby Food Buyers', 'Baby & Toddler - Baby Formula Buyers', 'Baby & Toddler - Baby HBC Buyers', 'Baby & Toddler - Baby HBC Buyers - Huggies Brands', 'Baby & Toddler - Disposable Diaper & Training Pant Buyers', 'Baby & Toddler - Disposable Diaper & Training Pant Buyers - Huggies Brands', 'Baby & Toddler - Disposable Diaper & Training Pant Buyers - Pampers Brands', 'Baby Product Buyers', 'Baby Store Buyers', 'Baby Store Buyers - Buy Buy Baby', 'Baby Store Buyers - Carters', 'Baby Store Buyers - Diapers.com', \"Children's Product Buyers\", \"Children's Product Shoppers\", 'Food Buyers', 'Last 12 Months Buyers - Buybuy Baby', 'Recent Buyers', 'Soul & R&B Fans', 'nln_7168'] will be ignored\n",
      "  .format(sorted(unknown, key=str)))\n",
      "/Users/jonathant/anaconda3/lib/python3.7/site-packages/sklearn/preprocessing/_label.py:987: UserWarning: unknown class(es) ['Big Box Store Buyers - Walmart', 'Black Friday & Cyber Monday Shoppers', 'Last 12 Months Buyers - Walmart', \"Men's Apparel Shoppers\", 'New Years Day Buyers - Charitable Organizations', 'Post-Holiday Bargain Shoppers', 'Sporting Goods Buyers - Bass Pro Shop', 'Sporting Goods Buyers - Cabelas', 'TV Network Viewers (FX)'] will be ignored\n",
      "  .format(sorted(unknown, key=str)))\n",
      "/Users/jonathant/anaconda3/lib/python3.7/site-packages/sklearn/preprocessing/_label.py:987: UserWarning: unknown class(es) ['Apparel Store Buyers - Charlotte Russe', 'Apparel Store Buyers - Express', 'Apparel Store Buyers - Guess', 'Apparel Store Buyers - H & M', 'Apparel Store Buyers - Michael Kors', 'Apparel Store Buyers - TJ Maxx', 'Apparel Store Buyers - Victorias Secret', 'Baby & Toddler - Baby Food Buyers', 'Baby & Toddler - Baby Formula Buyers', 'Baby & Toddler - Baby HBC Buyers', 'Baby & Toddler - Baby HBC Buyers - Huggies Brands', 'Baby & Toddler - Disposable Diaper & Training Pant Buyers', 'Baby & Toddler - Disposable Diaper & Training Pant Buyers - Huggies Brands', 'Baby & Toddler - Disposable Diaper & Training Pant Buyers - Pampers Brands', 'Baby Product Buyers', 'Baby Store Buyers', 'Baby Store Buyers - Buy Buy Baby', 'Baby Store Buyers - Carters', 'Baby Store Buyers - Diapers.com', 'Beauty and Fragrance Shoppers', \"Children's Product Buyers\", \"Children's Product Shoppers\", 'Drama Genre Fans', 'Food Buyers', 'Hybrid & Alternative Vehicle Shoppers', 'Last 12 Months Buyers - Buybuy Baby', 'Recent Buyers', 'Soul & R&B Fans', 'Supermarket Buyers - Whole Foods Market', \"Women's Apparel Shoppers\", 'nln_7168'] will be ignored\n",
      "  .format(sorted(unknown, key=str)))\n",
      "/Users/jonathant/anaconda3/lib/python3.7/site-packages/sklearn/preprocessing/_label.py:987: UserWarning: unknown class(es) ['Apparel Buyers', 'Big Box Shoppers', 'Black Friday & Cyber Monday Shoppers', 'Black Friday Buyers', 'Black Friday Buyers - Apparel', 'Black Friday Online Buyers - Amazon', 'Deal & Value Shoppers', 'Department Store Shoppers', 'Dining Establishment Visitors', 'Discount Buyers', 'Discount Store Shoppers', 'Electronics Buyers - Apple Store', 'Grocery Shoppers', 'Home & Garden Shoppers', 'Independence Day Buyers', 'Independence Day Buyers - Clothing Stores', 'Independence Day Buyers - Furnishing Stores', 'Independence Day Buyers - Grocery', 'Labor Day Buyers - Clothing Stores', 'Last 12 Months Buyers - Apple', 'Money Minders', 'Post-Holiday Bargain Shoppers', 'Retail Store Visitors', 'Seasonal Shoppers', 'Supermarket Buyers - Whole Foods Market', 'TV Light Viewers', 'TV Network Viewers (CMT)', 'TV Network Viewers (FX)', 'TV Viewers (Educational)', 'Theme Park Visitors', 'Toy Shoppers'] will be ignored\n",
      "  .format(sorted(unknown, key=str)))\n",
      "/Users/jonathant/anaconda3/lib/python3.7/site-packages/sklearn/preprocessing/_label.py:987: UserWarning: unknown class(es) ['Black Friday Online Buyers - Amazon', 'Mexican Food Shoppers', 'Supermarket Buyers - Whole Foods Market', 'TV Light Viewers'] will be ignored\n",
      "  .format(sorted(unknown, key=str)))\n",
      "/Users/jonathant/anaconda3/lib/python3.7/site-packages/sklearn/preprocessing/_label.py:987: UserWarning: unknown class(es) ['Big Box Store Buyers - Walmart', 'Black Friday Online Buyers - Amazon', 'Cyber Monday Online Buyers - Amazon', 'Dallas Cowboys Fans', 'Heavy Holiday Buyers - Amazon', 'Houston Texans Fans', 'Last 12 Months Buyers - Walmart', 'Mexican Food Shoppers', 'New Chevrolet Truck Shoppers', 'New Ford Truck Shoppers', 'New Orleans Saints Fans', 'New RAM Truck Shoppers', 'TV Light Viewers', 'TV Viewers (Science Fiction & Fantasy)', 'Tampa Bay Buccaneers Fans', 'Tennessee Titans Fans', 'Walmart Stores', 'eCommerce Buyers - Amazon - Heavy Buyers', 'nln_8059'] will be ignored\n",
      "  .format(sorted(unknown, key=str)))\n",
      "/Users/jonathant/anaconda3/lib/python3.7/site-packages/sklearn/preprocessing/_label.py:987: UserWarning: unknown class(es) ['Mexican Food Shoppers', 'New Years Day Buyers - Charitable Organizations'] will be ignored\n",
      "  .format(sorted(unknown, key=str)))\n"
     ]
    },
    {
     "name": "stderr",
     "output_type": "stream",
     "text": [
      "/Users/jonathant/anaconda3/lib/python3.7/site-packages/sklearn/preprocessing/_label.py:987: UserWarning: unknown class(es) ['Apparel Store Buyers - Charlotte Russe', 'Apparel Store Buyers - Express', 'Apparel Store Buyers - Guess', 'Apparel Store Buyers - H & M', 'Apparel Store Buyers - Michael Kors', 'Apparel Store Buyers - TJ Maxx', 'Apparel Store Buyers - Victorias Secret', 'Baby & Toddler - Baby Food Buyers', 'Baby & Toddler - Baby Formula Buyers', 'Baby & Toddler - Baby HBC Buyers', 'Baby & Toddler - Baby HBC Buyers - Huggies Brands', 'Baby & Toddler - Disposable Diaper & Training Pant Buyers', 'Baby & Toddler - Disposable Diaper & Training Pant Buyers - Huggies Brands', 'Baby & Toddler - Disposable Diaper & Training Pant Buyers - Pampers Brands', 'Baby Product Buyers', 'Baby Store Buyers', 'Baby Store Buyers - Buy Buy Baby', 'Baby Store Buyers - Carters', 'Baby Store Buyers - Diapers.com', 'Beauty and Fragrance Shoppers', \"Children's Product Buyers\", \"Children's Product Shoppers\", 'Food Buyers', 'Last 12 Months Buyers - Buybuy Baby', 'Mexican Food Shoppers', 'Recent Buyers', \"Women's Apparel Shoppers\", 'nln_7168', 'nln_8059'] will be ignored\n",
      "  .format(sorted(unknown, key=str)))\n",
      "/Users/jonathant/anaconda3/lib/python3.7/site-packages/sklearn/preprocessing/_label.py:987: UserWarning: unknown class(es) ['Apparel Buyers', 'Big Box Shoppers', 'Black Friday & Cyber Monday Shoppers', 'Black Friday Buyers', 'Black Friday Buyers - Apparel', 'Deal & Value Shoppers', 'Department Store Shoppers', 'Discount Buyers', 'Discount Store Shoppers', 'Family Travelers', 'Independence Day Buyers', 'Independence Day Buyers - Clothing Stores', 'Independence Day Buyers - Furnishing Stores', 'Independence Day Buyers - Grocery', 'Labor Day Buyers - Clothing Stores', \"Men's Apparel Shoppers\", 'Money Minders', 'Post-Holiday Bargain Shoppers', 'Soul & R&B Fans', 'Sporting Goods Buyers - Bass Pro Shop', 'Sporting Goods Buyers - Cabelas', 'Supermarket Buyers - Whole Foods Market', 'TV Network Viewers (CMT)', 'TV Network Viewers (FX)', 'Theme Park Visitors', 'Toy Shoppers'] will be ignored\n",
      "  .format(sorted(unknown, key=str)))\n",
      "/Users/jonathant/anaconda3/lib/python3.7/site-packages/sklearn/preprocessing/_label.py:987: UserWarning: unknown class(es) ['Black Friday & Cyber Monday Shoppers', 'Post-Holiday Bargain Shoppers', 'Soul & R&B Fans', 'Supermarket Buyers - Whole Foods Market', 'TV Network Viewers (FX)'] will be ignored\n",
      "  .format(sorted(unknown, key=str)))\n",
      "/Users/jonathant/anaconda3/lib/python3.7/site-packages/sklearn/preprocessing/_label.py:987: UserWarning: unknown class(es) ['Black Friday Online Buyers - Amazon', \"Men's Apparel Shoppers\", 'Mexican Food Shoppers', 'Sporting Goods Buyers - Bass Pro Shop', 'Sporting Goods Buyers - Cabelas', 'TV Light Viewers', 'TV Viewers (Educational)', 'TV Viewers (Science Fiction & Fantasy)', 'nln_8059'] will be ignored\n",
      "  .format(sorted(unknown, key=str)))\n",
      "/Users/jonathant/anaconda3/lib/python3.7/site-packages/sklearn/preprocessing/_label.py:987: UserWarning: unknown class(es) ['Big Box Store Buyers - Walmart', 'Last 12 Months Buyers - Walmart', 'New Years Day Buyers - Charitable Organizations', 'Soul & R&B Fans', 'Supermarket Buyers - Whole Foods Market', 'TV Light Viewers'] will be ignored\n",
      "  .format(sorted(unknown, key=str)))\n",
      "/Users/jonathant/anaconda3/lib/python3.7/site-packages/sklearn/preprocessing/_label.py:987: UserWarning: unknown class(es) ['Apparel Store Buyers - Charlotte Russe', 'Apparel Store Buyers - Express', 'Apparel Store Buyers - Guess', 'Apparel Store Buyers - H & M', 'Apparel Store Buyers - Michael Kors', 'Apparel Store Buyers - TJ Maxx', 'Apparel Store Buyers - Victorias Secret', 'Beauty and Fragrance Shoppers', 'Black Friday & Cyber Monday Shoppers', 'Post-Holiday Bargain Shoppers', 'Soul & R&B Fans', 'Supermarket Buyers - Whole Foods Market', 'TV Network Viewers (FX)', 'TV Viewers (Science Fiction & Fantasy)', \"Women's Apparel Shoppers\"] will be ignored\n",
      "  .format(sorted(unknown, key=str)))\n",
      "/Users/jonathant/anaconda3/lib/python3.7/site-packages/sklearn/preprocessing/_label.py:987: UserWarning: unknown class(es) ['Big Box Store Buyers - Walmart', 'Black Friday Online Buyers - Amazon', 'Cyber Monday Online Buyers - Amazon', 'Dallas Cowboys Fans', 'Heavy Holiday Buyers - Amazon', 'Houston Texans Fans', 'Independence Day Buyers - Furnishing Stores', 'Independence Day Buyers - Grocery', 'Labor Day Buyers - Clothing Stores', 'Last 12 Months Buyers - Walmart', 'Mexican Food Shoppers', 'New Chevrolet Truck Shoppers', 'New Ford Truck Shoppers', 'New Orleans Saints Fans', 'New RAM Truck Shoppers', 'Pet Owners', 'TV Viewers (Educational)', 'Tampa Bay Buccaneers Fans', 'Tennessee Titans Fans', 'Walmart Stores', 'eCommerce Buyers - Amazon - Heavy Buyers'] will be ignored\n",
      "  .format(sorted(unknown, key=str)))\n",
      "/Users/jonathant/anaconda3/lib/python3.7/site-packages/sklearn/preprocessing/_label.py:987: UserWarning: unknown class(es) ['Apparel Store Buyers - Charlotte Russe', 'Apparel Store Buyers - Express', 'Apparel Store Buyers - Guess', 'Apparel Store Buyers - H & M', 'Apparel Store Buyers - Michael Kors', 'Apparel Store Buyers - TJ Maxx', 'Apparel Store Buyers - Victorias Secret', 'Beauty and Fragrance Shoppers', 'Black Friday & Cyber Monday Shoppers', 'Black Friday Online Buyers - Amazon', \"Men's Apparel Shoppers\", 'New Years Day Buyers - Charitable Organizations', 'Post-Holiday Bargain Shoppers', 'Sporting Goods Buyers - Bass Pro Shop', 'Sporting Goods Buyers - Cabelas', 'TV Network Viewers (FX)', 'TV Viewers (Science Fiction & Fantasy)', \"Women's Apparel Shoppers\", 'nln_8059'] will be ignored\n",
      "  .format(sorted(unknown, key=str)))\n",
      "/Users/jonathant/anaconda3/lib/python3.7/site-packages/sklearn/preprocessing/_label.py:987: UserWarning: unknown class(es) ['Black Friday & Cyber Monday Shoppers', 'Drama Genre Fans', 'Mexican Food Shoppers', 'Post-Holiday Bargain Shoppers', 'Supermarket Buyers - Whole Foods Market', 'TV Network Viewers (FX)'] will be ignored\n",
      "  .format(sorted(unknown, key=str)))\n",
      "/Users/jonathant/anaconda3/lib/python3.7/site-packages/sklearn/preprocessing/_label.py:987: UserWarning: unknown class(es) ['Big Box Store Buyers - Walmart', 'Black Friday Online Buyers - Amazon', 'Cyber Monday Online Buyers - Amazon', 'Dallas Cowboys Fans', 'Drama Genre Fans', 'Heavy Holiday Buyers - Amazon', 'Houston Texans Fans', 'Last 12 Months Buyers - Walmart', 'New Chevrolet Truck Shoppers', 'New Ford Truck Shoppers', 'New Orleans Saints Fans', 'New RAM Truck Shoppers', 'Pet Owners', 'Soul & R&B Fans', 'Supermarket Buyers - Whole Foods Market', 'Tampa Bay Buccaneers Fans', 'Tennessee Titans Fans', 'Walmart Stores', 'Yoga Enthusiasts', 'eCommerce Buyers - Amazon - Heavy Buyers'] will be ignored\n",
      "  .format(sorted(unknown, key=str)))\n",
      "/Users/jonathant/anaconda3/lib/python3.7/site-packages/sklearn/preprocessing/_label.py:987: UserWarning: unknown class(es) ['Big Box Store Buyers - Walmart', 'Independence Day Buyers - Furnishing Stores', 'Independence Day Buyers - Grocery', 'Indie & Alternative Music Fans', 'Labor Day Buyers - Clothing Stores', 'Last 12 Months Buyers - Walmart', \"Men's Apparel Shoppers\", 'Pet Owners', 'Rock Music Fans', 'Sporting Goods Buyers - Bass Pro Shop', 'Sporting Goods Buyers - Cabelas', 'Supermarket Buyers - Whole Foods Market', 'TV Viewers (Educational)', 'nln_8059'] will be ignored\n",
      "  .format(sorted(unknown, key=str)))\n",
      "/Users/jonathant/anaconda3/lib/python3.7/site-packages/sklearn/preprocessing/_label.py:987: UserWarning: unknown class(es) ['Baby & Toddler - Baby Food Buyers', 'Baby & Toddler - Baby Formula Buyers', 'Baby & Toddler - Baby HBC Buyers', 'Baby & Toddler - Baby HBC Buyers - Huggies Brands', 'Baby & Toddler - Disposable Diaper & Training Pant Buyers', 'Baby & Toddler - Disposable Diaper & Training Pant Buyers - Huggies Brands', 'Baby & Toddler - Disposable Diaper & Training Pant Buyers - Pampers Brands', 'Baby Product Buyers', 'Baby Store Buyers', 'Baby Store Buyers - Buy Buy Baby', 'Baby Store Buyers - Carters', 'Baby Store Buyers - Diapers.com', \"Children's Product Buyers\", \"Children's Product Shoppers\", 'Drama Genre Fans', 'Food Buyers', 'Last 12 Months Buyers - Buybuy Baby', \"Men's Apparel Shoppers\", 'Pet Owners', 'Recent Buyers', 'Sporting Goods Buyers - Bass Pro Shop', 'Sporting Goods Buyers - Cabelas', 'TV Viewers (Educational)', 'nln_7168'] will be ignored\n",
      "  .format(sorted(unknown, key=str)))\n"
     ]
    },
    {
     "name": "stderr",
     "output_type": "stream",
     "text": [
      "/Users/jonathant/anaconda3/lib/python3.7/site-packages/sklearn/preprocessing/_label.py:987: UserWarning: unknown class(es) ['Apparel Store Buyers - Charlotte Russe', 'Apparel Store Buyers - Express', 'Apparel Store Buyers - Guess', 'Apparel Store Buyers - H & M', 'Apparel Store Buyers - Michael Kors', 'Apparel Store Buyers - TJ Maxx', 'Apparel Store Buyers - Victorias Secret', 'Baby & Toddler - Baby Food Buyers', 'Baby & Toddler - Baby Formula Buyers', 'Baby & Toddler - Baby HBC Buyers', 'Baby & Toddler - Baby HBC Buyers - Huggies Brands', 'Baby & Toddler - Disposable Diaper & Training Pant Buyers', 'Baby & Toddler - Disposable Diaper & Training Pant Buyers - Huggies Brands', 'Baby & Toddler - Disposable Diaper & Training Pant Buyers - Pampers Brands', 'Baby Product Buyers', 'Baby Store Buyers', 'Baby Store Buyers - Buy Buy Baby', 'Baby Store Buyers - Carters', 'Baby Store Buyers - Diapers.com', 'Beauty and Fragrance Shoppers', 'Big Box Store Buyers - Walmart', \"Children's Product Buyers\", \"Children's Product Shoppers\", 'Drama Genre Fans', 'Electronics Buyers - Apple Store', 'Food Buyers', 'Last 12 Months Buyers - Apple', 'Last 12 Months Buyers - Buybuy Baby', 'Last 12 Months Buyers - Walmart', 'Recent Buyers', 'Soul & R&B Fans', 'Supermarket Buyers - Whole Foods Market', 'TV Viewers (Educational)', 'TV Viewers (Science Fiction & Fantasy)', \"Women's Apparel Shoppers\", 'nln_7168', 'nln_8059'] will be ignored\n",
      "  .format(sorted(unknown, key=str)))\n",
      "/Users/jonathant/anaconda3/lib/python3.7/site-packages/sklearn/preprocessing/_label.py:987: UserWarning: unknown class(es) ['Drama Genre Fans', 'Independence Day Buyers - Furnishing Stores', 'Independence Day Buyers - Grocery', 'Labor Day Buyers - Clothing Stores', 'Supermarket Buyers - Whole Foods Market'] will be ignored\n",
      "  .format(sorted(unknown, key=str)))\n",
      "/Users/jonathant/anaconda3/lib/python3.7/site-packages/sklearn/preprocessing/_label.py:987: UserWarning: unknown class(es) ['Black Friday Online Buyers - Amazon', 'Indie & Alternative Music Fans', \"Men's Apparel Shoppers\", 'Mexican Food Shoppers', 'Rock Music Fans', 'Sporting Goods Buyers - Bass Pro Shop', 'Sporting Goods Buyers - Cabelas', 'nln_8059'] will be ignored\n",
      "  .format(sorted(unknown, key=str)))\n",
      "/Users/jonathant/anaconda3/lib/python3.7/site-packages/sklearn/preprocessing/_label.py:987: UserWarning: unknown class(es) ['Apparel Buyers', 'Black Friday & Cyber Monday Shoppers', 'Black Friday Buyers', 'Black Friday Buyers - Apparel', 'Deal & Value Shoppers', 'Discount Buyers', 'Discount Store Shoppers', 'Independence Day Buyers', 'Independence Day Buyers - Clothing Stores', 'Independence Day Buyers - Furnishing Stores', 'Independence Day Buyers - Grocery', 'Labor Day Buyers - Clothing Stores', 'Last 12 Months Buyers - Urban Outfitters', 'Money Minders', 'New Years Day Buyers - Charitable Organizations', 'Post-Holiday Bargain Shoppers', 'TV Network Viewers (A&E)', 'TV Network Viewers (AMC)', 'TV Network Viewers (CMT)', 'TV Network Viewers (Discovery Channel)', 'TV Network Viewers (FX)', 'TV Viewers (Educational)', 'nln_8059'] will be ignored\n",
      "  .format(sorted(unknown, key=str)))\n",
      "/Users/jonathant/anaconda3/lib/python3.7/site-packages/sklearn/preprocessing/_label.py:987: UserWarning: unknown class(es) ['Action & Thriller Genre Fans', 'Drama Genre Fans', 'Soul & R&B Fans', 'nln_8059'] will be ignored\n",
      "  .format(sorted(unknown, key=str)))\n",
      "/Users/jonathant/anaconda3/lib/python3.7/site-packages/sklearn/preprocessing/_label.py:987: UserWarning: unknown class(es) ['Apparel Store Buyers - Charlotte Russe', 'Apparel Store Buyers - Express', 'Apparel Store Buyers - Guess', 'Apparel Store Buyers - H & M', 'Apparel Store Buyers - Michael Kors', 'Apparel Store Buyers - TJ Maxx', 'Apparel Store Buyers - Victorias Secret', 'Baby & Toddler - Baby Food Buyers', 'Baby & Toddler - Baby Formula Buyers', 'Baby & Toddler - Baby HBC Buyers', 'Baby & Toddler - Baby HBC Buyers - Huggies Brands', 'Baby & Toddler - Disposable Diaper & Training Pant Buyers', 'Baby & Toddler - Disposable Diaper & Training Pant Buyers - Huggies Brands', 'Baby & Toddler - Disposable Diaper & Training Pant Buyers - Pampers Brands', 'Baby Product Buyers', 'Baby Store Buyers', 'Baby Store Buyers - Buy Buy Baby', 'Baby Store Buyers - Carters', 'Baby Store Buyers - Diapers.com', 'Beauty and Fragrance Shoppers', \"Children's Product Buyers\", \"Children's Product Shoppers\", 'Food Buyers', 'Independence Day Buyers - Furnishing Stores', 'Independence Day Buyers - Grocery', 'Labor Day Buyers - Clothing Stores', 'Last 12 Months Buyers - Buybuy Baby', 'New Years Day Buyers - Charitable Organizations', 'Recent Buyers', 'TV Light Viewers', 'TV Viewers (Educational)', 'TV Viewers (Science Fiction & Fantasy)', \"Women's Apparel Shoppers\", 'nln_7168'] will be ignored\n",
      "  .format(sorted(unknown, key=str)))\n",
      "/Users/jonathant/anaconda3/lib/python3.7/site-packages/sklearn/preprocessing/_label.py:987: UserWarning: unknown class(es) ['Big Box Store Buyers - Walmart', 'Last 12 Months Buyers - Walmart', \"Men's Apparel Shoppers\", 'Mexican Food Shoppers', 'Soul & R&B Fans', 'Sporting Goods Buyers - Bass Pro Shop', 'Sporting Goods Buyers - Cabelas'] will be ignored\n",
      "  .format(sorted(unknown, key=str)))\n",
      "/Users/jonathant/anaconda3/lib/python3.7/site-packages/sklearn/preprocessing/_label.py:987: UserWarning: unknown class(es) ['Big Box Store Buyers - Walmart', 'Last 12 Months Buyers - Walmart', 'Soul & R&B Fans', 'Supermarket Buyers - Whole Foods Market'] will be ignored\n",
      "  .format(sorted(unknown, key=str)))\n",
      "/Users/jonathant/anaconda3/lib/python3.7/site-packages/sklearn/preprocessing/_label.py:987: UserWarning: unknown class(es) ['Apparel Store Buyers - Charlotte Russe', 'Apparel Store Buyers - Express', 'Apparel Store Buyers - Guess', 'Apparel Store Buyers - H & M', 'Apparel Store Buyers - Michael Kors', 'Apparel Store Buyers - TJ Maxx', 'Apparel Store Buyers - Victorias Secret', 'Beauty and Fragrance Shoppers', 'Big Box Shoppers', 'Department Store Shoppers', 'Family Travelers', 'Home Movie Viewers (Science Fiction)', 'TV Light Viewers', 'TV Viewers (Educational)', 'TV Viewers (Science Fiction & Fantasy)', 'Theme Park Visitors', 'Toy Shoppers', \"Women's Apparel Shoppers\"] will be ignored\n",
      "  .format(sorted(unknown, key=str)))\n",
      "/Users/jonathant/anaconda3/lib/python3.7/site-packages/sklearn/preprocessing/_label.py:987: UserWarning: unknown class(es) ['Apparel Store Buyers - Charlotte Russe', 'Apparel Store Buyers - Express', 'Apparel Store Buyers - Guess', 'Apparel Store Buyers - H & M', 'Apparel Store Buyers - Michael Kors', 'Apparel Store Buyers - TJ Maxx', 'Apparel Store Buyers - Victorias Secret', 'Beauty and Fragrance Shoppers', 'Supermarket Buyers - Whole Foods Market', \"Women's Apparel Shoppers\"] will be ignored\n",
      "  .format(sorted(unknown, key=str)))\n",
      "/Users/jonathant/anaconda3/lib/python3.7/site-packages/sklearn/preprocessing/_label.py:987: UserWarning: unknown class(es) ['Pet Owners', 'Soul & R&B Fans', 'Yoga Enthusiasts', 'nln_8059'] will be ignored\n",
      "  .format(sorted(unknown, key=str)))\n",
      "/Users/jonathant/anaconda3/lib/python3.7/site-packages/sklearn/preprocessing/_label.py:987: UserWarning: unknown class(es) ['Apparel Store Buyers - Charlotte Russe', 'Apparel Store Buyers - Express', 'Apparel Store Buyers - Guess', 'Apparel Store Buyers - H & M', 'Apparel Store Buyers - Michael Kors', 'Apparel Store Buyers - TJ Maxx', 'Apparel Store Buyers - Victorias Secret', 'Baby & Toddler - Baby Food Buyers', 'Baby & Toddler - Baby Formula Buyers', 'Baby & Toddler - Baby HBC Buyers', 'Baby & Toddler - Baby HBC Buyers - Huggies Brands', 'Baby & Toddler - Disposable Diaper & Training Pant Buyers', 'Baby & Toddler - Disposable Diaper & Training Pant Buyers - Huggies Brands', 'Baby & Toddler - Disposable Diaper & Training Pant Buyers - Pampers Brands', 'Baby Product Buyers', 'Baby Store Buyers', 'Baby Store Buyers - Buy Buy Baby', 'Baby Store Buyers - Carters', 'Baby Store Buyers - Diapers.com', 'Beauty and Fragrance Shoppers', \"Children's Product Buyers\", \"Children's Product Shoppers\", 'Food Buyers', 'Last 12 Months Buyers - Buybuy Baby', 'New Years Day Buyers - Charitable Organizations', 'Recent Buyers', 'Supermarket Buyers - Whole Foods Market', 'TV Viewers (Science Fiction & Fantasy)', \"Women's Apparel Shoppers\", 'nln_7168', 'nln_8059'] will be ignored\n",
      "  .format(sorted(unknown, key=str)))\n"
     ]
    },
    {
     "name": "stderr",
     "output_type": "stream",
     "text": [
      "/Users/jonathant/anaconda3/lib/python3.7/site-packages/sklearn/preprocessing/_label.py:987: UserWarning: unknown class(es) ['Big Box Shoppers', 'Black Friday & Cyber Monday Shoppers', 'Department Store Shoppers', 'Family Travelers', 'Post-Holiday Bargain Shoppers', 'TV Network Viewers (FX)', 'Theme Park Visitors', 'Toy Shoppers'] will be ignored\n",
      "  .format(sorted(unknown, key=str)))\n",
      "/Users/jonathant/anaconda3/lib/python3.7/site-packages/sklearn/preprocessing/_label.py:987: UserWarning: unknown class(es) ['Apparel Store Buyers - Charlotte Russe', 'Apparel Store Buyers - Express', 'Apparel Store Buyers - Guess', 'Apparel Store Buyers - H & M', 'Apparel Store Buyers - Michael Kors', 'Apparel Store Buyers - TJ Maxx', 'Apparel Store Buyers - Victorias Secret', 'Baby & Toddler - Baby Food Buyers', 'Baby & Toddler - Baby Formula Buyers', 'Baby & Toddler - Baby HBC Buyers', 'Baby & Toddler - Baby HBC Buyers - Huggies Brands', 'Baby & Toddler - Disposable Diaper & Training Pant Buyers', 'Baby & Toddler - Disposable Diaper & Training Pant Buyers - Huggies Brands', 'Baby & Toddler - Disposable Diaper & Training Pant Buyers - Pampers Brands', 'Baby Product Buyers', 'Baby Store Buyers', 'Baby Store Buyers - Buy Buy Baby', 'Baby Store Buyers - Carters', 'Baby Store Buyers - Diapers.com', 'Beauty and Fragrance Shoppers', 'Big Box Store Buyers - Walmart', \"Children's Product Buyers\", \"Children's Product Shoppers\", 'Food Buyers', 'Last 12 Months Buyers - Buybuy Baby', 'Last 12 Months Buyers - Walmart', 'New Years Day Buyers - Charitable Organizations', 'Recent Buyers', 'TV Viewers (Educational)', \"Women's Apparel Shoppers\", 'nln_7168'] will be ignored\n",
      "  .format(sorted(unknown, key=str)))\n",
      "/Users/jonathant/anaconda3/lib/python3.7/site-packages/sklearn/preprocessing/_label.py:987: UserWarning: unknown class(es) ['Big Box Store Buyers - Walmart', 'Black Friday Online Buyers - Amazon', 'Cyber Monday Online Buyers - Amazon', 'Dallas Cowboys Fans', 'Drama Genre Fans', 'Heavy Holiday Buyers - Amazon', 'Home Movie Viewers (Science Fiction)', 'Houston Texans Fans', 'Last 12 Months Buyers - Walmart', 'New Chevrolet Truck Shoppers', 'New Ford Truck Shoppers', 'New Orleans Saints Fans', 'New RAM Truck Shoppers', 'TV Viewers (Educational)', 'Tampa Bay Buccaneers Fans', 'Tennessee Titans Fans', 'Walmart Stores', 'eCommerce Buyers - Amazon - Heavy Buyers'] will be ignored\n",
      "  .format(sorted(unknown, key=str)))\n",
      "/Users/jonathant/anaconda3/lib/python3.7/site-packages/sklearn/preprocessing/_label.py:987: UserWarning: unknown class(es) ['Big Box Store Buyers - Walmart', 'Last 12 Months Buyers - Walmart', 'Pet Owners', 'TV Network Viewers (Discovery Channel)', 'nln_8059'] will be ignored\n",
      "  .format(sorted(unknown, key=str)))\n",
      "/Users/jonathant/anaconda3/lib/python3.7/site-packages/sklearn/preprocessing/_label.py:987: UserWarning: unknown class(es) ['Baby & Toddler - Baby Food Buyers', 'Baby & Toddler - Baby Formula Buyers', 'Baby & Toddler - Baby HBC Buyers', 'Baby & Toddler - Baby HBC Buyers - Huggies Brands', 'Baby & Toddler - Disposable Diaper & Training Pant Buyers', 'Baby & Toddler - Disposable Diaper & Training Pant Buyers - Huggies Brands', 'Baby & Toddler - Disposable Diaper & Training Pant Buyers - Pampers Brands', 'Baby Product Buyers', 'Baby Store Buyers', 'Baby Store Buyers - Buy Buy Baby', 'Baby Store Buyers - Carters', 'Baby Store Buyers - Diapers.com', 'Big Box Store Buyers - Walmart', \"Children's Product Buyers\", \"Children's Product Shoppers\", 'Food Buyers', 'Last 12 Months Buyers - Buybuy Baby', 'Last 12 Months Buyers - Walmart', 'Recent Buyers', 'TV Viewers (Educational)', 'TV Viewers (Science Fiction & Fantasy)', 'nln_7168'] will be ignored\n",
      "  .format(sorted(unknown, key=str)))\n",
      "/Users/jonathant/anaconda3/lib/python3.7/site-packages/sklearn/preprocessing/_label.py:987: UserWarning: unknown class(es) ['Big Box Store Buyers - Walmart', 'Last 12 Months Buyers - Walmart', 'Mexican Food Shoppers', 'TV Viewers (Educational)'] will be ignored\n",
      "  .format(sorted(unknown, key=str)))\n",
      "/Users/jonathant/anaconda3/lib/python3.7/site-packages/sklearn/preprocessing/_label.py:987: UserWarning: unknown class(es) ['Apparel Store Buyers - Charlotte Russe', 'Apparel Store Buyers - Express', 'Apparel Store Buyers - Guess', 'Apparel Store Buyers - H & M', 'Apparel Store Buyers - Michael Kors', 'Apparel Store Buyers - TJ Maxx', 'Apparel Store Buyers - Victorias Secret', 'Beauty and Fragrance Shoppers', 'Black Friday & Cyber Monday Shoppers', 'Black Friday Online Buyers - Amazon', 'Drama Genre Fans', 'Home Movie Viewers (Science Fiction)', 'Mexican Food Shoppers', 'Post-Holiday Bargain Shoppers', 'TV Light Viewers', 'TV Network Viewers (FX)', \"Women's Apparel Shoppers\"] will be ignored\n",
      "  .format(sorted(unknown, key=str)))\n",
      "/Users/jonathant/anaconda3/lib/python3.7/site-packages/sklearn/preprocessing/_label.py:987: UserWarning: unknown class(es) ['Apparel Store Buyers - Charlotte Russe', 'Apparel Store Buyers - Express', 'Apparel Store Buyers - Guess', 'Apparel Store Buyers - H & M', 'Apparel Store Buyers - Michael Kors', 'Apparel Store Buyers - TJ Maxx', 'Apparel Store Buyers - Victorias Secret', 'Baby & Toddler - Baby Food Buyers', 'Baby & Toddler - Baby Formula Buyers', 'Baby & Toddler - Baby HBC Buyers', 'Baby & Toddler - Baby HBC Buyers - Huggies Brands', 'Baby & Toddler - Disposable Diaper & Training Pant Buyers', 'Baby & Toddler - Disposable Diaper & Training Pant Buyers - Huggies Brands', 'Baby & Toddler - Disposable Diaper & Training Pant Buyers - Pampers Brands', 'Baby Product Buyers', 'Baby Store Buyers', 'Baby Store Buyers - Buy Buy Baby', 'Baby Store Buyers - Carters', 'Baby Store Buyers - Diapers.com', 'Beauty and Fragrance Shoppers', \"Children's Product Buyers\", \"Children's Product Shoppers\", 'Drama Genre Fans', 'Electronics Buyers - Apple Store', 'Food Buyers', 'Home Movie Viewers (Science Fiction)', 'Indie & Alternative Music Fans', 'Last 12 Months Buyers - Apple', 'Last 12 Months Buyers - Buybuy Baby', 'Mexican Food Shoppers', 'Pet Owners', 'Recent Buyers', 'Rock Music Fans', 'Soul & R&B Fans', 'Supermarket Buyers - Whole Foods Market', 'TV Light Viewers', \"Women's Apparel Shoppers\", 'nln_7168'] will be ignored\n",
      "  .format(sorted(unknown, key=str)))\n",
      "/Users/jonathant/anaconda3/lib/python3.7/site-packages/sklearn/preprocessing/_label.py:987: UserWarning: unknown class(es) ['Apparel Store Buyers - Charlotte Russe', 'Apparel Store Buyers - Express', 'Apparel Store Buyers - Guess', 'Apparel Store Buyers - H & M', 'Apparel Store Buyers - Michael Kors', 'Apparel Store Buyers - TJ Maxx', 'Apparel Store Buyers - Victorias Secret', 'Beauty and Fragrance Shoppers', \"Men's Apparel Shoppers\", 'Sporting Goods Buyers - Bass Pro Shop', 'Sporting Goods Buyers - Cabelas', 'Supermarket Buyers - Whole Foods Market', \"Women's Apparel Shoppers\"] will be ignored\n",
      "  .format(sorted(unknown, key=str)))\n",
      "/Users/jonathant/anaconda3/lib/python3.7/site-packages/sklearn/preprocessing/_label.py:987: UserWarning: unknown class(es) ['Baby & Toddler - Baby Food Buyers', 'Baby & Toddler - Baby Formula Buyers', 'Baby & Toddler - Baby HBC Buyers', 'Baby & Toddler - Baby HBC Buyers - Huggies Brands', 'Baby & Toddler - Disposable Diaper & Training Pant Buyers', 'Baby & Toddler - Disposable Diaper & Training Pant Buyers - Huggies Brands', 'Baby & Toddler - Disposable Diaper & Training Pant Buyers - Pampers Brands', 'Baby Product Buyers', 'Baby Store Buyers', 'Baby Store Buyers - Buy Buy Baby', 'Baby Store Buyers - Carters', 'Baby Store Buyers - Diapers.com', 'Big Box Shoppers', 'Black Friday Online Buyers - Amazon', \"Children's Product Buyers\", \"Children's Product Shoppers\", 'Department Store Shoppers', 'Family Travelers', 'Food Buyers', 'Last 12 Months Buyers - Buybuy Baby', 'Recent Buyers', 'Soul & R&B Fans', 'Theme Park Visitors', 'Toy Shoppers', 'nln_7168'] will be ignored\n",
      "  .format(sorted(unknown, key=str)))\n",
      "/Users/jonathant/anaconda3/lib/python3.7/site-packages/sklearn/preprocessing/_label.py:987: UserWarning: unknown class(es) ['Baby & Toddler - Baby Food Buyers', 'Baby & Toddler - Baby Formula Buyers', 'Baby & Toddler - Baby HBC Buyers', 'Baby & Toddler - Baby HBC Buyers - Huggies Brands', 'Baby & Toddler - Disposable Diaper & Training Pant Buyers', 'Baby & Toddler - Disposable Diaper & Training Pant Buyers - Huggies Brands', 'Baby & Toddler - Disposable Diaper & Training Pant Buyers - Pampers Brands', 'Baby Product Buyers', 'Baby Store Buyers', 'Baby Store Buyers - Buy Buy Baby', 'Baby Store Buyers - Carters', 'Baby Store Buyers - Diapers.com', 'Big Box Store Buyers - Walmart', 'Black Friday & Cyber Monday Shoppers', 'Black Friday Online Buyers - Amazon', \"Children's Product Buyers\", \"Children's Product Shoppers\", 'Cyber Monday Online Buyers - Amazon', 'Dallas Cowboys Fans', 'Drama Genre Fans', 'Food Buyers', 'Heavy Holiday Buyers - Amazon', 'Home Movie Viewers (Science Fiction)', 'Houston Texans Fans', 'Last 12 Months Buyers - Buybuy Baby', 'Last 12 Months Buyers - Walmart', 'New Chevrolet Truck Shoppers', 'New Ford Truck Shoppers', 'New Orleans Saints Fans', 'New RAM Truck Shoppers', 'New Years Day Buyers - Charitable Organizations', 'Pet Owners', 'Post-Holiday Bargain Shoppers', 'Recent Buyers', 'Supermarket Buyers - Whole Foods Market', 'TV Light Viewers', 'TV Network Viewers (FX)', 'TV Viewers (Educational)', 'Tampa Bay Buccaneers Fans', 'Tennessee Titans Fans', 'Walmart Stores', 'eCommerce Buyers - Amazon - Heavy Buyers', 'nln_7168'] will be ignored\n",
      "  .format(sorted(unknown, key=str)))\n",
      "/Users/jonathant/anaconda3/lib/python3.7/site-packages/sklearn/preprocessing/_label.py:987: UserWarning: unknown class(es) ['Apparel Buyers', 'Apparel Store Buyers - Charlotte Russe', 'Apparel Store Buyers - Express', 'Apparel Store Buyers - Guess', 'Apparel Store Buyers - H & M', 'Apparel Store Buyers - Michael Kors', 'Apparel Store Buyers - TJ Maxx', 'Apparel Store Buyers - Victorias Secret', 'Beauty and Fragrance Shoppers', 'Black Friday & Cyber Monday Shoppers', 'Black Friday Buyers', 'Black Friday Buyers - Apparel', 'Deal & Value Shoppers', 'Discount Buyers', 'Discount Store Shoppers', 'Home Movie Viewers (Science Fiction)', 'Independence Day Buyers', 'Independence Day Buyers - Clothing Stores', 'Independence Day Buyers - Furnishing Stores', 'Independence Day Buyers - Grocery', 'Labor Day Buyers - Clothing Stores', \"Men's Apparel Shoppers\", 'Money Minders', 'Post-Holiday Bargain Shoppers', 'Sporting Goods Buyers - Bass Pro Shop', 'Sporting Goods Buyers - Cabelas', 'TV Light Viewers', 'TV Network Viewers (CMT)', 'TV Network Viewers (FX)', \"Women's Apparel Shoppers\"] will be ignored\n",
      "  .format(sorted(unknown, key=str)))\n"
     ]
    },
    {
     "name": "stderr",
     "output_type": "stream",
     "text": [
      "/Users/jonathant/anaconda3/lib/python3.7/site-packages/sklearn/preprocessing/_label.py:987: UserWarning: unknown class(es) ['Black Friday & Cyber Monday Shoppers', 'Pet Owners', 'Post-Holiday Bargain Shoppers', 'TV Network Viewers (Discovery Channel)', 'TV Network Viewers (FX)'] will be ignored\n",
      "  .format(sorted(unknown, key=str)))\n",
      "/Users/jonathant/anaconda3/lib/python3.7/site-packages/sklearn/preprocessing/_label.py:987: UserWarning: unknown class(es) ['Apparel Store Buyers - Charlotte Russe', 'Apparel Store Buyers - Express', 'Apparel Store Buyers - Guess', 'Apparel Store Buyers - H & M', 'Apparel Store Buyers - Michael Kors', 'Apparel Store Buyers - TJ Maxx', 'Apparel Store Buyers - Victorias Secret', 'Beauty and Fragrance Shoppers', 'Independence Day Buyers - Furnishing Stores', 'Independence Day Buyers - Grocery', 'Labor Day Buyers - Clothing Stores', \"Women's Apparel Shoppers\"] will be ignored\n",
      "  .format(sorted(unknown, key=str)))\n",
      "/Users/jonathant/anaconda3/lib/python3.7/site-packages/sklearn/preprocessing/_label.py:987: UserWarning: unknown class(es) ['Drama Genre Fans', 'Independence Day Buyers - Furnishing Stores', 'Independence Day Buyers - Grocery', 'Labor Day Buyers - Clothing Stores', \"Men's Apparel Shoppers\", 'Sporting Goods Buyers - Bass Pro Shop', 'Sporting Goods Buyers - Cabelas', 'nln_8059'] will be ignored\n",
      "  .format(sorted(unknown, key=str)))\n",
      "/Users/jonathant/anaconda3/lib/python3.7/site-packages/sklearn/preprocessing/_label.py:987: UserWarning: unknown class(es) ['Apparel Store Buyers - Charlotte Russe', 'Apparel Store Buyers - Express', 'Apparel Store Buyers - Guess', 'Apparel Store Buyers - H & M', 'Apparel Store Buyers - Michael Kors', 'Apparel Store Buyers - TJ Maxx', 'Apparel Store Buyers - Victorias Secret', 'Beauty and Fragrance Shoppers', 'Electronics Buyers - Apple Store', 'Home Movie Viewers (Science Fiction)', 'Last 12 Months Buyers - Apple', \"Men's Apparel Shoppers\", 'Pet Owners', 'Sporting Goods Buyers - Bass Pro Shop', 'Sporting Goods Buyers - Cabelas', 'TV Light Viewers', \"Women's Apparel Shoppers\"] will be ignored\n",
      "  .format(sorted(unknown, key=str)))\n",
      "/Users/jonathant/anaconda3/lib/python3.7/site-packages/sklearn/preprocessing/_label.py:987: UserWarning: unknown class(es) [\"Men's Apparel Shoppers\", 'Soul & R&B Fans', 'Sporting Goods Buyers - Bass Pro Shop', 'Sporting Goods Buyers - Cabelas'] will be ignored\n",
      "  .format(sorted(unknown, key=str)))\n",
      "/Users/jonathant/anaconda3/lib/python3.7/site-packages/sklearn/preprocessing/_label.py:987: UserWarning: unknown class(es) ['Drama Genre Fans', 'Home Movie Viewers (Science Fiction)', \"Men's Apparel Shoppers\", 'Soul & R&B Fans', 'Sporting Goods Buyers - Bass Pro Shop', 'Sporting Goods Buyers - Cabelas', 'Supermarket Buyers - Whole Foods Market', 'TV Viewers (Educational)', 'TV Viewers (Science Fiction & Fantasy)'] will be ignored\n",
      "  .format(sorted(unknown, key=str)))\n",
      "/Users/jonathant/anaconda3/lib/python3.7/site-packages/sklearn/preprocessing/_label.py:987: UserWarning: unknown class(es) ['Apparel Store Buyers - Charlotte Russe', 'Apparel Store Buyers - Express', 'Apparel Store Buyers - Guess', 'Apparel Store Buyers - H & M', 'Apparel Store Buyers - Michael Kors', 'Apparel Store Buyers - TJ Maxx', 'Apparel Store Buyers - Victorias Secret', 'Beauty and Fragrance Shoppers', \"Men's Apparel Shoppers\", 'Sporting Goods Buyers - Bass Pro Shop', 'Sporting Goods Buyers - Cabelas', 'Supermarket Buyers - Whole Foods Market', 'TV Viewers (Educational)', 'TV Viewers (Science Fiction & Fantasy)', \"Women's Apparel Shoppers\"] will be ignored\n",
      "  .format(sorted(unknown, key=str)))\n",
      "/Users/jonathant/anaconda3/lib/python3.7/site-packages/sklearn/preprocessing/_label.py:987: UserWarning: unknown class(es) ['Apparel Buyers', 'Black Friday & Cyber Monday Shoppers', 'Black Friday Buyers', 'Black Friday Buyers - Apparel', 'Deal & Value Shoppers', 'Discount Buyers', 'Discount Store Shoppers', 'Hybrid & Alternative Vehicle Shoppers', 'Independence Day Buyers', 'Independence Day Buyers - Clothing Stores', 'Independence Day Buyers - Furnishing Stores', 'Independence Day Buyers - Grocery', 'Labor Day Buyers - Clothing Stores', 'Mexican Food Shoppers', 'Money Minders', 'Post-Holiday Bargain Shoppers', 'TV Network Viewers (CMT)', 'TV Network Viewers (FX)'] will be ignored\n",
      "  .format(sorted(unknown, key=str)))\n",
      "/Users/jonathant/anaconda3/lib/python3.7/site-packages/sklearn/preprocessing/_label.py:987: UserWarning: unknown class(es) ['Black Friday Online Buyers - Amazon', 'Drama Genre Fans', 'Hybrid & Alternative Vehicle Shoppers', \"Men's Apparel Shoppers\", 'Soul & R&B Fans', 'Sporting Goods Buyers - Bass Pro Shop', 'Sporting Goods Buyers - Cabelas'] will be ignored\n",
      "  .format(sorted(unknown, key=str)))\n",
      "/Users/jonathant/anaconda3/lib/python3.7/site-packages/sklearn/preprocessing/_label.py:987: UserWarning: unknown class(es) ['Home Movie Viewers (Science Fiction)', 'Independence Day Buyers - Furnishing Stores', 'Independence Day Buyers - Grocery', 'Labor Day Buyers - Clothing Stores', 'New Years Day Buyers - Charitable Organizations', 'Pet Owners', 'nln_8059'] will be ignored\n",
      "  .format(sorted(unknown, key=str)))\n",
      "/Users/jonathant/anaconda3/lib/python3.7/site-packages/sklearn/preprocessing/_label.py:987: UserWarning: unknown class(es) ['Big Box Store Buyers - Walmart', 'Home Movie Viewers (Science Fiction)', 'Independence Day Buyers - Furnishing Stores', 'Independence Day Buyers - Grocery', 'Labor Day Buyers - Clothing Stores', 'Last 12 Months Buyers - Walmart', 'New Years Day Buyers - Charitable Organizations', 'Soul & R&B Fans', 'Supermarket Buyers - Whole Foods Market', 'nln_8059'] will be ignored\n",
      "  .format(sorted(unknown, key=str)))\n",
      "/Users/jonathant/anaconda3/lib/python3.7/site-packages/sklearn/preprocessing/_label.py:987: UserWarning: unknown class(es) ['Baby & Toddler - Baby Food Buyers', 'Baby & Toddler - Baby Formula Buyers', 'Baby & Toddler - Baby HBC Buyers', 'Baby & Toddler - Baby HBC Buyers - Huggies Brands', 'Baby & Toddler - Disposable Diaper & Training Pant Buyers', 'Baby & Toddler - Disposable Diaper & Training Pant Buyers - Huggies Brands', 'Baby & Toddler - Disposable Diaper & Training Pant Buyers - Pampers Brands', 'Baby Product Buyers', 'Baby Store Buyers', 'Baby Store Buyers - Buy Buy Baby', 'Baby Store Buyers - Carters', 'Baby Store Buyers - Diapers.com', 'Big Box Store Buyers - Walmart', 'Black Friday & Cyber Monday Shoppers', 'Black Friday Online Buyers - Amazon', \"Children's Product Buyers\", \"Children's Product Shoppers\", 'Cyber Monday Online Buyers - Amazon', 'Dallas Cowboys Fans', 'Food Buyers', 'Heavy Holiday Buyers - Amazon', 'Houston Texans Fans', 'Last 12 Months Buyers - Buybuy Baby', 'Last 12 Months Buyers - Walmart', 'New Chevrolet Truck Shoppers', 'New Ford Truck Shoppers', 'New Orleans Saints Fans', 'New RAM Truck Shoppers', 'Post-Holiday Bargain Shoppers', 'Recent Buyers', 'TV Network Viewers (FX)', 'Tampa Bay Buccaneers Fans', 'Tennessee Titans Fans', 'Walmart Stores', 'eCommerce Buyers - Amazon - Heavy Buyers', 'nln_7168'] will be ignored\n",
      "  .format(sorted(unknown, key=str)))\n"
     ]
    },
    {
     "name": "stdout",
     "output_type": "stream",
     "text": [
      "Mean R^2 across 100 reps: 0.4937744233152354\n"
     ]
    },
    {
     "name": "stderr",
     "output_type": "stream",
     "text": [
      "/Users/jonathant/anaconda3/lib/python3.7/site-packages/sklearn/preprocessing/_label.py:987: UserWarning: unknown class(es) ['Big Box Store Buyers - Walmart', 'Last 12 Months Buyers - Walmart', \"Men's Apparel Shoppers\", 'Sporting Goods Buyers - Bass Pro Shop', 'Sporting Goods Buyers - Cabelas'] will be ignored\n",
      "  .format(sorted(unknown, key=str)))\n"
     ]
    }
   ],
   "source": [
    "out = []\n",
    "for _ in range(100):\n",
    "    X_tr, X_ts, y_tr, y_ts = train_test_split(X, y)\n",
    "    final_pl.fit(X_tr, y_tr)\n",
    "    out.append(final_pl.score(X_ts, y_ts))\n",
    "mean_r2 = np.mean(out)\n",
    "print(\"Mean R^2 across 100 reps: %s\" % mean_r2)"
   ]
  },
  {
   "cell_type": "code",
   "execution_count": 433,
   "metadata": {},
   "outputs": [
    {
     "data": {
      "text/plain": [
       "<matplotlib.axes._subplots.AxesSubplot at 0x1a1ef818d0>"
      ]
     },
     "execution_count": 433,
     "metadata": {},
     "output_type": "execute_result"
    },
    {
     "data": {
      "image/png": "[encoded data removed]",
      "text/plain": [
       "<Figure size 432x288 with 1 Axes>"
      ]
     },
     "metadata": {
      "image/png": {
       "height": 263,
       "width": 382
      },
      "needs_background": "light"
     },
     "output_type": "display_data"
    }
   ],
   "source": [
    "pd.Series(out).plot(kind='hist', title='scores in 100 model builds')"
   ]
  },
  {
   "cell_type": "markdown",
   "metadata": {},
   "source": [
    "#### We see here that there has been a bit of an increase in accuracy from the baseline model to the final model going from 0.56 to 0.69."
   ]
  },
  {
   "cell_type": "markdown",
   "metadata": {},
   "source": [
    "### Fairness Evaluation"
   ]
  },
  {
   "cell_type": "markdown",
   "metadata": {},
   "source": [
    "I will evaluate how fair the model is for regression on ads data in 2019 and 2020."
   ]
  },
  {
   "cell_type": "code",
   "execution_count": 439,
   "metadata": {},
   "outputs": [],
   "source": [
    "filt19 = data_filt['StartDate'].apply(lambda x: x.year==2019)\n",
    "data_19 = data_filt[filt19.values]\n",
    "\n",
    "filt20 = data_filt['StartDate'].apply(lambda x: x.year==2020)\n",
    "data_20 = data_filt[filt20.values]"
   ]
  },
  {
   "cell_type": "markdown",
   "metadata": {},
   "source": [
    "#### On 2019"
   ]
  },
  {
   "cell_type": "code",
   "execution_count": 447,
   "metadata": {},
   "outputs": [
    {
     "name": "stdout",
     "output_type": "stream",
     "text": [
      "2019\n",
      "R^2: 0.7297120416759013\n",
      "RMSE: 4437666.785179717\n"
     ]
    },
    {
     "name": "stderr",
     "output_type": "stream",
     "text": [
      "/Users/jonathant/anaconda3/lib/python3.7/site-packages/sklearn/preprocessing/_label.py:987: UserWarning: unknown class(es) ['Country Music Fans'] will be ignored\n",
      "  .format(sorted(unknown, key=str)))\n",
      "/Users/jonathant/anaconda3/lib/python3.7/site-packages/sklearn/preprocessing/_label.py:987: UserWarning: unknown class(es) ['Country Music Fans'] will be ignored\n",
      "  .format(sorted(unknown, key=str)))\n"
     ]
    }
   ],
   "source": [
    "X19 = data_19.drop(['Impressions'], axis=1)\n",
    "y19 = data_19.Impressions\n",
    "\n",
    "X_train, X_test, y_train, y_test = train_test_split(X19, y19, test_size=.25)\n",
    "\n",
    "final_pl.fit(X_train, y_train)\n",
    "\n",
    "print(2019)\n",
    "r2 = final_pl.score(X_test, y_test)\n",
    "print(\"R^2: %s\" % r2)\n",
    "\n",
    "final_preds = final_pl.predict(X_test)\n",
    "rmse = np.sqrt(np.mean((final_preds - y_test)**2))\n",
    "print(\"RMSE: %s\" % rmse)"
   ]
  },
  {
   "cell_type": "code",
   "execution_count": 448,
   "metadata": {},
   "outputs": [
    {
     "name": "stderr",
     "output_type": "stream",
     "text": [
      "/Users/jonathant/anaconda3/lib/python3.7/site-packages/sklearn/preprocessing/_label.py:987: UserWarning: unknown class(es) ['Hybrid & Alternative Vehicle Shoppers', 'TV Viewers (Comedy)'] will be ignored\n",
      "  .format(sorted(unknown, key=str)))\n",
      "/Users/jonathant/anaconda3/lib/python3.7/site-packages/sklearn/preprocessing/_label.py:987: UserWarning: unknown class(es) ['Dining Establishment Visitors', 'Grocery Shoppers', 'Home & Garden Shoppers', 'Retail Store Visitors', 'Seasonal Shoppers', 'TV Light Viewers'] will be ignored\n",
      "  .format(sorted(unknown, key=str)))\n",
      "/Users/jonathant/anaconda3/lib/python3.7/site-packages/sklearn/preprocessing/_label.py:987: UserWarning: unknown class(es) ['TV Light Viewers', 'TV Viewers (Educational)', 'nln_8059'] will be ignored\n",
      "  .format(sorted(unknown, key=str)))\n",
      "/Users/jonathant/anaconda3/lib/python3.7/site-packages/sklearn/preprocessing/_label.py:987: UserWarning: unknown class(es) ['Electronics Buyers - Apple Store', 'Last 12 Months Buyers - Apple', 'TV Viewers (Comedy)'] will be ignored\n",
      "  .format(sorted(unknown, key=str)))\n",
      "/Users/jonathant/anaconda3/lib/python3.7/site-packages/sklearn/preprocessing/_label.py:987: UserWarning: unknown class(es) ['Home Movie Viewers (Science Fiction)', 'TV Viewers (Comedy)', 'TV Viewers (Educational)', 'nln_8059'] will be ignored\n",
      "  .format(sorted(unknown, key=str)))\n",
      "/Users/jonathant/anaconda3/lib/python3.7/site-packages/sklearn/preprocessing/_label.py:987: UserWarning: unknown class(es) ['Home Movie Viewers (Science Fiction)', 'nln_8059'] will be ignored\n",
      "  .format(sorted(unknown, key=str)))\n",
      "/Users/jonathant/anaconda3/lib/python3.7/site-packages/sklearn/preprocessing/_label.py:987: UserWarning: unknown class(es) ['TV Light Viewers', 'TV Viewers (Comedy)'] will be ignored\n",
      "  .format(sorted(unknown, key=str)))\n",
      "/Users/jonathant/anaconda3/lib/python3.7/site-packages/sklearn/preprocessing/_label.py:987: UserWarning: unknown class(es) ['New Years Day Buyers - Charitable Organizations', 'TV Light Viewers'] will be ignored\n",
      "  .format(sorted(unknown, key=str)))\n",
      "/Users/jonathant/anaconda3/lib/python3.7/site-packages/sklearn/preprocessing/_label.py:987: UserWarning: unknown class(es) ['TV Light Viewers', 'TV Viewers (Comedy)', 'TV Viewers (Educational)', 'nln_8059'] will be ignored\n",
      "  .format(sorted(unknown, key=str)))\n",
      "/Users/jonathant/anaconda3/lib/python3.7/site-packages/sklearn/preprocessing/_label.py:987: UserWarning: unknown class(es) ['TV Light Viewers', 'TV Viewers (Educational)'] will be ignored\n",
      "  .format(sorted(unknown, key=str)))\n",
      "/Users/jonathant/anaconda3/lib/python3.7/site-packages/sklearn/preprocessing/_label.py:987: UserWarning: unknown class(es) ['Indie & Alternative Music Fans', 'Rock Music Fans', 'TV Network Viewers (BET)', 'TV Viewers (Educational)', 'TV Viewers (Reality TV)'] will be ignored\n",
      "  .format(sorted(unknown, key=str)))\n",
      "/Users/jonathant/anaconda3/lib/python3.7/site-packages/sklearn/preprocessing/_label.py:987: UserWarning: unknown class(es) ['TV Light Viewers'] will be ignored\n",
      "  .format(sorted(unknown, key=str)))\n",
      "/Users/jonathant/anaconda3/lib/python3.7/site-packages/sklearn/preprocessing/_label.py:987: UserWarning: unknown class(es) ['Country Music Fans'] will be ignored\n",
      "  .format(sorted(unknown, key=str)))\n",
      "/Users/jonathant/anaconda3/lib/python3.7/site-packages/sklearn/preprocessing/_label.py:987: UserWarning: unknown class(es) ['Country Music Fans', 'Electronics Buyers - Apple Store', 'Hybrid & Alternative Vehicle Shoppers', 'Last 12 Months Buyers - Apple', 'nln_8059'] will be ignored\n",
      "  .format(sorted(unknown, key=str)))\n",
      "/Users/jonathant/anaconda3/lib/python3.7/site-packages/sklearn/preprocessing/_label.py:987: UserWarning: unknown class(es) ['TV Light Viewers', 'TV Viewers (Educational)'] will be ignored\n",
      "  .format(sorted(unknown, key=str)))\n",
      "/Users/jonathant/anaconda3/lib/python3.7/site-packages/sklearn/preprocessing/_label.py:987: UserWarning: unknown class(es) ['nln_8059'] will be ignored\n",
      "  .format(sorted(unknown, key=str)))\n",
      "/Users/jonathant/anaconda3/lib/python3.7/site-packages/sklearn/preprocessing/_label.py:987: UserWarning: unknown class(es) ['TV Network Viewers (PBS)'] will be ignored\n",
      "  .format(sorted(unknown, key=str)))\n",
      "/Users/jonathant/anaconda3/lib/python3.7/site-packages/sklearn/preprocessing/_label.py:987: UserWarning: unknown class(es) ['TV Viewers (Educational)', 'nln_8059'] will be ignored\n",
      "  .format(sorted(unknown, key=str)))\n",
      "/Users/jonathant/anaconda3/lib/python3.7/site-packages/sklearn/preprocessing/_label.py:987: UserWarning: unknown class(es) ['TV Light Viewers'] will be ignored\n",
      "  .format(sorted(unknown, key=str)))\n",
      "/Users/jonathant/anaconda3/lib/python3.7/site-packages/sklearn/preprocessing/_label.py:987: UserWarning: unknown class(es) ['Home Movie Viewers (Science Fiction)', 'TV Viewers (Comedy)', 'nln_8059'] will be ignored\n",
      "  .format(sorted(unknown, key=str)))\n",
      "/Users/jonathant/anaconda3/lib/python3.7/site-packages/sklearn/preprocessing/_label.py:987: UserWarning: unknown class(es) ['Home Movie Viewers (Science Fiction)'] will be ignored\n",
      "  .format(sorted(unknown, key=str)))\n",
      "/Users/jonathant/anaconda3/lib/python3.7/site-packages/sklearn/preprocessing/_label.py:987: UserWarning: unknown class(es) ['New Years Day Buyers - Charitable Organizations', 'TV Viewers (Educational)', 'nln_8059'] will be ignored\n",
      "  .format(sorted(unknown, key=str)))\n",
      "/Users/jonathant/anaconda3/lib/python3.7/site-packages/sklearn/preprocessing/_label.py:987: UserWarning: unknown class(es) ['nln_8059'] will be ignored\n",
      "  .format(sorted(unknown, key=str)))\n",
      "/Users/jonathant/anaconda3/lib/python3.7/site-packages/sklearn/preprocessing/_label.py:987: UserWarning: unknown class(es) ['Home Movie Viewers (Science Fiction)', 'New Years Day Buyers - Charitable Organizations'] will be ignored\n",
      "  .format(sorted(unknown, key=str)))\n",
      "/Users/jonathant/anaconda3/lib/python3.7/site-packages/sklearn/preprocessing/_label.py:987: UserWarning: unknown class(es) ['Home Movie Viewers (Science Fiction)'] will be ignored\n",
      "  .format(sorted(unknown, key=str)))\n",
      "/Users/jonathant/anaconda3/lib/python3.7/site-packages/sklearn/preprocessing/_label.py:987: UserWarning: unknown class(es) ['Electronics Buyers - Apple Store', 'Last 12 Months Buyers - Apple'] will be ignored\n",
      "  .format(sorted(unknown, key=str)))\n",
      "/Users/jonathant/anaconda3/lib/python3.7/site-packages/sklearn/preprocessing/_label.py:987: UserWarning: unknown class(es) ['Country Music Fans'] will be ignored\n",
      "  .format(sorted(unknown, key=str)))\n",
      "/Users/jonathant/anaconda3/lib/python3.7/site-packages/sklearn/preprocessing/_label.py:987: UserWarning: unknown class(es) ['Country Music Fans', 'New Years Day Buyers - Charitable Organizations'] will be ignored\n",
      "  .format(sorted(unknown, key=str)))\n",
      "/Users/jonathant/anaconda3/lib/python3.7/site-packages/sklearn/preprocessing/_label.py:987: UserWarning: unknown class(es) ['Big Box Shoppers', 'Department Store Shoppers', 'Family Travelers', 'Home Movie Viewers (Science Fiction)', 'Romance & Rom-Com Fans', 'TV Light Viewers', 'Theme Park Visitors', 'Toy Shoppers'] will be ignored\n",
      "  .format(sorted(unknown, key=str)))\n",
      "/Users/jonathant/anaconda3/lib/python3.7/site-packages/sklearn/preprocessing/_label.py:987: UserWarning: unknown class(es) ['TV Viewers (Comedy)'] will be ignored\n",
      "  .format(sorted(unknown, key=str)))\n",
      "/Users/jonathant/anaconda3/lib/python3.7/site-packages/sklearn/preprocessing/_label.py:987: UserWarning: unknown class(es) ['Indie & Alternative Music Fans', 'Rock Music Fans'] will be ignored\n",
      "  .format(sorted(unknown, key=str)))\n",
      "/Users/jonathant/anaconda3/lib/python3.7/site-packages/sklearn/preprocessing/_label.py:987: UserWarning: unknown class(es) ['Home Movie Viewers (Science Fiction)', 'TV Network Viewers (FOX)', 'TV Viewers (Educational)'] will be ignored\n",
      "  .format(sorted(unknown, key=str)))\n",
      "/Users/jonathant/anaconda3/lib/python3.7/site-packages/sklearn/preprocessing/_label.py:987: UserWarning: unknown class(es) ['New Years Day Buyers - Charitable Organizations'] will be ignored\n",
      "  .format(sorted(unknown, key=str)))\n",
      "/Users/jonathant/anaconda3/lib/python3.7/site-packages/sklearn/preprocessing/_label.py:987: UserWarning: unknown class(es) ['Country Music Fans', 'Home Movie Viewers (Science Fiction)', 'New Years Day Buyers - Charitable Organizations', 'TV Light Viewers', 'nln_8059'] will be ignored\n",
      "  .format(sorted(unknown, key=str)))\n",
      "/Users/jonathant/anaconda3/lib/python3.7/site-packages/sklearn/preprocessing/_label.py:987: UserWarning: unknown class(es) ['Hybrid & Alternative Vehicle Shoppers', 'TV Viewers (Comedy)', 'nln_8059'] will be ignored\n",
      "  .format(sorted(unknown, key=str)))\n",
      "/Users/jonathant/anaconda3/lib/python3.7/site-packages/sklearn/preprocessing/_label.py:987: UserWarning: unknown class(es) ['TV Viewers (Educational)'] will be ignored\n",
      "  .format(sorted(unknown, key=str)))\n"
     ]
    },
    {
     "name": "stderr",
     "output_type": "stream",
     "text": [
      "/Users/jonathant/anaconda3/lib/python3.7/site-packages/sklearn/preprocessing/_label.py:987: UserWarning: unknown class(es) ['Olympics Enthusiasts', 'TV Viewers (Educational)', 'Talent & Competition Show Fans', 'nln_8059'] will be ignored\n",
      "  .format(sorted(unknown, key=str)))\n",
      "/Users/jonathant/anaconda3/lib/python3.7/site-packages/sklearn/preprocessing/_label.py:987: UserWarning: unknown class(es) ['Hybrid & Alternative Vehicle Shoppers', 'Indie & Alternative Music Fans', 'Rock Music Fans', 'nln_8059'] will be ignored\n",
      "  .format(sorted(unknown, key=str)))\n",
      "/Users/jonathant/anaconda3/lib/python3.7/site-packages/sklearn/preprocessing/_label.py:987: UserWarning: unknown class(es) ['Action & Thriller Genre Fans', 'New Years Day Buyers - Charitable Organizations', 'TV Viewers (Educational)'] will be ignored\n",
      "  .format(sorted(unknown, key=str)))\n",
      "/Users/jonathant/anaconda3/lib/python3.7/site-packages/sklearn/preprocessing/_label.py:987: UserWarning: unknown class(es) ['Home Movie Viewers (Science Fiction)', 'nln_8059'] will be ignored\n",
      "  .format(sorted(unknown, key=str)))\n",
      "/Users/jonathant/anaconda3/lib/python3.7/site-packages/sklearn/preprocessing/_label.py:987: UserWarning: unknown class(es) ['Home Movie Viewers (Science Fiction)'] will be ignored\n",
      "  .format(sorted(unknown, key=str)))\n",
      "/Users/jonathant/anaconda3/lib/python3.7/site-packages/sklearn/preprocessing/_label.py:987: UserWarning: unknown class(es) ['Hybrid & Alternative Vehicle Shoppers'] will be ignored\n",
      "  .format(sorted(unknown, key=str)))\n",
      "/Users/jonathant/anaconda3/lib/python3.7/site-packages/sklearn/preprocessing/_label.py:987: UserWarning: unknown class(es) ['TV Viewers (Comedy)'] will be ignored\n",
      "  .format(sorted(unknown, key=str)))\n",
      "/Users/jonathant/anaconda3/lib/python3.7/site-packages/sklearn/preprocessing/_label.py:987: UserWarning: unknown class(es) ['New Years Day Buyers - Charitable Organizations', 'TV Viewers (Educational)'] will be ignored\n",
      "  .format(sorted(unknown, key=str)))\n",
      "/Users/jonathant/anaconda3/lib/python3.7/site-packages/sklearn/preprocessing/_label.py:987: UserWarning: unknown class(es) ['New Years Day Buyers - Charitable Organizations'] will be ignored\n",
      "  .format(sorted(unknown, key=str)))\n",
      "/Users/jonathant/anaconda3/lib/python3.7/site-packages/sklearn/preprocessing/_label.py:987: UserWarning: unknown class(es) ['TV Light Viewers'] will be ignored\n",
      "  .format(sorted(unknown, key=str)))\n",
      "/Users/jonathant/anaconda3/lib/python3.7/site-packages/sklearn/preprocessing/_label.py:987: UserWarning: unknown class(es) ['Home Movie Viewers (Science Fiction)', 'TV Light Viewers', 'TV Viewers (Comedy)', 'TV Viewers (Educational)'] will be ignored\n",
      "  .format(sorted(unknown, key=str)))\n",
      "/Users/jonathant/anaconda3/lib/python3.7/site-packages/sklearn/preprocessing/_label.py:987: UserWarning: unknown class(es) ['Action & Thriller Genre Fans', 'TV Network Viewers (PBS)'] will be ignored\n",
      "  .format(sorted(unknown, key=str)))\n",
      "/Users/jonathant/anaconda3/lib/python3.7/site-packages/sklearn/preprocessing/_label.py:987: UserWarning: unknown class(es) ['Home Movie Viewers (Science Fiction)', 'TV Viewers (Educational)'] will be ignored\n",
      "  .format(sorted(unknown, key=str)))\n",
      "/Users/jonathant/anaconda3/lib/python3.7/site-packages/sklearn/preprocessing/_label.py:987: UserWarning: unknown class(es) ['TV Light Viewers', 'TV Network Viewers (BET)', 'TV Viewers (Reality TV)'] will be ignored\n",
      "  .format(sorted(unknown, key=str)))\n",
      "/Users/jonathant/anaconda3/lib/python3.7/site-packages/sklearn/preprocessing/_label.py:987: UserWarning: unknown class(es) ['Home Movie Viewers (Science Fiction)', 'TV Viewers (Comedy)'] will be ignored\n",
      "  .format(sorted(unknown, key=str)))\n",
      "/Users/jonathant/anaconda3/lib/python3.7/site-packages/sklearn/preprocessing/_label.py:987: UserWarning: unknown class(es) ['New Years Day Buyers - Charitable Organizations'] will be ignored\n",
      "  .format(sorted(unknown, key=str)))\n",
      "/Users/jonathant/anaconda3/lib/python3.7/site-packages/sklearn/preprocessing/_label.py:987: UserWarning: unknown class(es) ['Home Movie Viewers (Science Fiction)', 'New Years Day Buyers - Charitable Organizations', 'TV Viewers (Comedy)'] will be ignored\n",
      "  .format(sorted(unknown, key=str)))\n",
      "/Users/jonathant/anaconda3/lib/python3.7/site-packages/sklearn/preprocessing/_label.py:987: UserWarning: unknown class(es) ['Home Movie Viewers (Science Fiction)', 'New Years Day Buyers - Charitable Organizations'] will be ignored\n",
      "  .format(sorted(unknown, key=str)))\n",
      "/Users/jonathant/anaconda3/lib/python3.7/site-packages/sklearn/preprocessing/_label.py:987: UserWarning: unknown class(es) ['Hybrid & Alternative Vehicle Shoppers', 'TV Network Viewers (PBS)'] will be ignored\n",
      "  .format(sorted(unknown, key=str)))\n",
      "/Users/jonathant/anaconda3/lib/python3.7/site-packages/sklearn/preprocessing/_label.py:987: UserWarning: unknown class(es) ['Electronics Buyers - Apple Store', 'Home Movie Viewers (Science Fiction)', 'Last 12 Months Buyers - Apple', 'New Years Day Buyers - Charitable Organizations', 'nln_8059'] will be ignored\n",
      "  .format(sorted(unknown, key=str)))\n",
      "/Users/jonathant/anaconda3/lib/python3.7/site-packages/sklearn/preprocessing/_label.py:987: UserWarning: unknown class(es) ['Home Movie Viewers (Science Fiction)'] will be ignored\n",
      "  .format(sorted(unknown, key=str)))\n",
      "/Users/jonathant/anaconda3/lib/python3.7/site-packages/sklearn/preprocessing/_label.py:987: UserWarning: unknown class(es) ['TV Viewers (Comedy)'] will be ignored\n",
      "  .format(sorted(unknown, key=str)))\n",
      "/Users/jonathant/anaconda3/lib/python3.7/site-packages/sklearn/preprocessing/_label.py:987: UserWarning: unknown class(es) ['nln_8059'] will be ignored\n",
      "  .format(sorted(unknown, key=str)))\n",
      "/Users/jonathant/anaconda3/lib/python3.7/site-packages/sklearn/preprocessing/_label.py:987: UserWarning: unknown class(es) ['TV Viewers (Educational)'] will be ignored\n",
      "  .format(sorted(unknown, key=str)))\n",
      "/Users/jonathant/anaconda3/lib/python3.7/site-packages/sklearn/preprocessing/_label.py:987: UserWarning: unknown class(es) ['nln_8059'] will be ignored\n",
      "  .format(sorted(unknown, key=str)))\n",
      "/Users/jonathant/anaconda3/lib/python3.7/site-packages/sklearn/preprocessing/_label.py:987: UserWarning: unknown class(es) ['New Years Day Buyers - Charitable Organizations', 'TV Light Viewers', 'TV Viewers (Comedy)'] will be ignored\n",
      "  .format(sorted(unknown, key=str)))\n",
      "/Users/jonathant/anaconda3/lib/python3.7/site-packages/sklearn/preprocessing/_label.py:987: UserWarning: unknown class(es) ['Hybrid & Alternative Vehicle Shoppers'] will be ignored\n",
      "  .format(sorted(unknown, key=str)))\n",
      "/Users/jonathant/anaconda3/lib/python3.7/site-packages/sklearn/preprocessing/_label.py:987: UserWarning: unknown class(es) ['TV Light Viewers'] will be ignored\n",
      "  .format(sorted(unknown, key=str)))\n",
      "/Users/jonathant/anaconda3/lib/python3.7/site-packages/sklearn/preprocessing/_label.py:987: UserWarning: unknown class(es) ['Electronics Buyers - Apple Store', 'Home Movie Viewers (Science Fiction)', 'Last 12 Months Buyers - Apple', 'TV Network Viewers (BET)', 'TV Viewers (Reality TV)'] will be ignored\n",
      "  .format(sorted(unknown, key=str)))\n",
      "/Users/jonathant/anaconda3/lib/python3.7/site-packages/sklearn/preprocessing/_label.py:987: UserWarning: unknown class(es) ['Home Movie Viewers (Science Fiction)', 'Hybrid & Alternative Vehicle Shoppers', 'TV Network Viewers (BET)', 'TV Viewers (Educational)', 'TV Viewers (Reality TV)', 'nln_8059'] will be ignored\n",
      "  .format(sorted(unknown, key=str)))\n",
      "/Users/jonathant/anaconda3/lib/python3.7/site-packages/sklearn/preprocessing/_label.py:987: UserWarning: unknown class(es) ['Home Movie Viewers (Science Fiction)', 'TV Viewers (Educational)'] will be ignored\n",
      "  .format(sorted(unknown, key=str)))\n",
      "/Users/jonathant/anaconda3/lib/python3.7/site-packages/sklearn/preprocessing/_label.py:987: UserWarning: unknown class(es) ['TV Light Viewers', 'TV Viewers (Comedy)', 'TV Viewers (Educational)'] will be ignored\n",
      "  .format(sorted(unknown, key=str)))\n",
      "/Users/jonathant/anaconda3/lib/python3.7/site-packages/sklearn/preprocessing/_label.py:987: UserWarning: unknown class(es) ['TV Light Viewers', 'TV Viewers (Comedy)'] will be ignored\n",
      "  .format(sorted(unknown, key=str)))\n",
      "/Users/jonathant/anaconda3/lib/python3.7/site-packages/sklearn/preprocessing/_label.py:987: UserWarning: unknown class(es) ['Home Movie Viewers (Science Fiction)', 'TV Viewers (Educational)'] will be ignored\n",
      "  .format(sorted(unknown, key=str)))\n",
      "/Users/jonathant/anaconda3/lib/python3.7/site-packages/sklearn/preprocessing/_label.py:987: UserWarning: unknown class(es) ['Hybrid & Alternative Vehicle Shoppers', 'New Years Day Buyers - Charitable Organizations', 'TV Network Viewers (BET)', 'TV Viewers (Educational)', 'TV Viewers (Reality TV)'] will be ignored\n",
      "  .format(sorted(unknown, key=str)))\n",
      "/Users/jonathant/anaconda3/lib/python3.7/site-packages/sklearn/preprocessing/_label.py:987: UserWarning: unknown class(es) ['New Years Day Buyers - Charitable Organizations', 'TV Light Viewers', 'TV Viewers (Educational)'] will be ignored\n",
      "  .format(sorted(unknown, key=str)))\n"
     ]
    },
    {
     "name": "stderr",
     "output_type": "stream",
     "text": [
      "/Users/jonathant/anaconda3/lib/python3.7/site-packages/sklearn/preprocessing/_label.py:987: UserWarning: unknown class(es) ['New Years Day Buyers - Charitable Organizations', 'TV Viewers (Educational)'] will be ignored\n",
      "  .format(sorted(unknown, key=str)))\n",
      "/Users/jonathant/anaconda3/lib/python3.7/site-packages/sklearn/preprocessing/_label.py:987: UserWarning: unknown class(es) ['Big Box Shoppers', 'Department Store Shoppers', 'Electronics Buyers - Apple Store', 'Last 12 Months Buyers - Apple', 'Romance & Rom-Com Fans', 'Theme Park Visitors', 'Toy Shoppers'] will be ignored\n",
      "  .format(sorted(unknown, key=str)))\n",
      "/Users/jonathant/anaconda3/lib/python3.7/site-packages/sklearn/preprocessing/_label.py:987: UserWarning: unknown class(es) ['TV Light Viewers', 'TV Network Viewers (BET)', 'TV Viewers (Reality TV)'] will be ignored\n",
      "  .format(sorted(unknown, key=str)))\n",
      "/Users/jonathant/anaconda3/lib/python3.7/site-packages/sklearn/preprocessing/_label.py:987: UserWarning: unknown class(es) ['nln_8059'] will be ignored\n",
      "  .format(sorted(unknown, key=str)))\n",
      "/Users/jonathant/anaconda3/lib/python3.7/site-packages/sklearn/preprocessing/_label.py:987: UserWarning: unknown class(es) ['New Years Day Buyers - Charitable Organizations'] will be ignored\n",
      "  .format(sorted(unknown, key=str)))\n",
      "/Users/jonathant/anaconda3/lib/python3.7/site-packages/sklearn/preprocessing/_label.py:987: UserWarning: unknown class(es) ['TV Viewers (Comedy)'] will be ignored\n",
      "  .format(sorted(unknown, key=str)))\n",
      "/Users/jonathant/anaconda3/lib/python3.7/site-packages/sklearn/preprocessing/_label.py:987: UserWarning: unknown class(es) ['TV Light Viewers', 'TV Viewers (Comedy)'] will be ignored\n",
      "  .format(sorted(unknown, key=str)))\n",
      "/Users/jonathant/anaconda3/lib/python3.7/site-packages/sklearn/preprocessing/_label.py:987: UserWarning: unknown class(es) ['Country Music Fans', 'New Years Day Buyers - Charitable Organizations', 'TV Viewers (Educational)', 'nln_8059'] will be ignored\n",
      "  .format(sorted(unknown, key=str)))\n",
      "/Users/jonathant/anaconda3/lib/python3.7/site-packages/sklearn/preprocessing/_label.py:987: UserWarning: unknown class(es) ['Country Music Fans', 'TV Light Viewers', 'TV Viewers (Comedy)'] will be ignored\n",
      "  .format(sorted(unknown, key=str)))\n",
      "/Users/jonathant/anaconda3/lib/python3.7/site-packages/sklearn/preprocessing/_label.py:987: UserWarning: unknown class(es) ['TV Viewers (Comedy)'] will be ignored\n",
      "  .format(sorted(unknown, key=str)))\n",
      "/Users/jonathant/anaconda3/lib/python3.7/site-packages/sklearn/preprocessing/_label.py:987: UserWarning: unknown class(es) ['TV Network Viewers (PBS)', 'TV Viewers (Comedy)'] will be ignored\n",
      "  .format(sorted(unknown, key=str)))\n",
      "/Users/jonathant/anaconda3/lib/python3.7/site-packages/sklearn/preprocessing/_label.py:987: UserWarning: unknown class(es) ['Country Music Fans', 'Electronics Buyers - Apple Store', 'Last 12 Months Buyers - Apple', 'TV Viewers (Comedy)'] will be ignored\n",
      "  .format(sorted(unknown, key=str)))\n",
      "/Users/jonathant/anaconda3/lib/python3.7/site-packages/sklearn/preprocessing/_label.py:987: UserWarning: unknown class(es) ['Home Movie Viewers (Science Fiction)', 'Indie & Alternative Music Fans', 'Rock Music Fans', 'TV Viewers (Educational)'] will be ignored\n",
      "  .format(sorted(unknown, key=str)))\n",
      "/Users/jonathant/anaconda3/lib/python3.7/site-packages/sklearn/preprocessing/_label.py:987: UserWarning: unknown class(es) ['Home Movie Viewers (Science Fiction)', 'TV Light Viewers', 'TV Viewers (Educational)'] will be ignored\n",
      "  .format(sorted(unknown, key=str)))\n",
      "/Users/jonathant/anaconda3/lib/python3.7/site-packages/sklearn/preprocessing/_label.py:987: UserWarning: unknown class(es) ['New Years Day Buyers - Charitable Organizations', 'TV Light Viewers'] will be ignored\n",
      "  .format(sorted(unknown, key=str)))\n",
      "/Users/jonathant/anaconda3/lib/python3.7/site-packages/sklearn/preprocessing/_label.py:987: UserWarning: unknown class(es) ['Home Movie Viewers (Science Fiction)', 'nln_8059'] will be ignored\n",
      "  .format(sorted(unknown, key=str)))\n",
      "/Users/jonathant/anaconda3/lib/python3.7/site-packages/sklearn/preprocessing/_label.py:987: UserWarning: unknown class(es) ['Olympics Enthusiasts', 'TV Light Viewers', 'Talent & Competition Show Fans'] will be ignored\n",
      "  .format(sorted(unknown, key=str)))\n",
      "/Users/jonathant/anaconda3/lib/python3.7/site-packages/sklearn/preprocessing/_label.py:987: UserWarning: unknown class(es) ['Indie & Alternative Music Fans', 'Rock Music Fans', 'TV Network Viewers (FOX)', 'TV Viewers (Comedy)', 'nln_8059'] will be ignored\n",
      "  .format(sorted(unknown, key=str)))\n"
     ]
    },
    {
     "name": "stdout",
     "output_type": "stream",
     "text": [
      "Mean R^2 across 100 reps: 0.40877955803819666\n"
     ]
    },
    {
     "name": "stderr",
     "output_type": "stream",
     "text": [
      "/Users/jonathant/anaconda3/lib/python3.7/site-packages/sklearn/preprocessing/_label.py:987: UserWarning: unknown class(es) ['Electronics Buyers - Apple Store', 'Home Movie Viewers (Science Fiction)', 'Last 12 Months Buyers - Apple', 'New Years Day Buyers - Charitable Organizations', 'TV Viewers (Comedy)', 'nln_8059'] will be ignored\n",
      "  .format(sorted(unknown, key=str)))\n"
     ]
    }
   ],
   "source": [
    "out = []\n",
    "for _ in range(100):\n",
    "    X_tr, X_ts, y_tr, y_ts = train_test_split(X19, y19)\n",
    "    final_pl.fit(X_tr, y_tr)\n",
    "    out.append(final_pl.score(X_ts, y_ts))\n",
    "mean_r2 = np.mean(out)\n",
    "print(\"Mean R^2 across 100 reps: %s\" % mean_r2)"
   ]
  },
  {
   "cell_type": "code",
   "execution_count": 449,
   "metadata": {},
   "outputs": [
    {
     "data": {
      "text/plain": [
       "<matplotlib.axes._subplots.AxesSubplot at 0x1a1fb2f8d0>"
      ]
     },
     "execution_count": 449,
     "metadata": {},
     "output_type": "execute_result"
    },
    {
     "data": {
      "image/png": "[encoded data removed]",
      "text/plain": [
       "<Figure size 432x288 with 1 Axes>"
      ]
     },
     "metadata": {
      "image/png": {
       "height": 263,
       "width": 382
      },
      "needs_background": "light"
     },
     "output_type": "display_data"
    }
   ],
   "source": [
    "pd.Series(out).plot(kind='hist', title='scores in 100 model builds')"
   ]
  },
  {
   "cell_type": "markdown",
   "metadata": {},
   "source": [
    "#### On 2020"
   ]
  },
  {
   "cell_type": "code",
   "execution_count": 450,
   "metadata": {},
   "outputs": [
    {
     "name": "stdout",
     "output_type": "stream",
     "text": [
      "2020\n",
      "R^2: 0.4533685046606899\n",
      "RMSE: 2626097.322470323\n"
     ]
    }
   ],
   "source": [
    "X20 = data_20.drop(['Impressions'], axis=1)\n",
    "y20 = data_20.Impressions\n",
    "\n",
    "X_train, X_test, y_train, y_test = train_test_split(X20, y20, test_size=.25)\n",
    "\n",
    "final_pl.fit(X_train, y_train)\n",
    "\n",
    "print(2020)\n",
    "r2 = final_pl.score(X_test, y_test)\n",
    "print(\"R^2: %s\" % r2)\n",
    "\n",
    "final_preds = final_pl.predict(X_test)\n",
    "rmse = np.sqrt(np.mean((final_preds - y_test)**2))\n",
    "print(\"RMSE: %s\" % rmse)"
   ]
  },
  {
   "cell_type": "code",
   "execution_count": 451,
   "metadata": {},
   "outputs": [
    {
     "name": "stderr",
     "output_type": "stream",
     "text": [
      "/Users/jonathant/anaconda3/lib/python3.7/site-packages/sklearn/preprocessing/_label.py:987: UserWarning: unknown class(es) ['Big Box Store Buyers - Walmart', 'Black Friday & Cyber Monday Shoppers', 'Last 12 Months Buyers - Walmart', 'Mexican Food Shoppers', 'Pet Owners', 'Post-Holiday Bargain Shoppers', 'Soul & R&B Fans', 'TV Network Viewers (FX)', 'Vegans & Organic Foodies'] will be ignored\n",
      "  .format(sorted(unknown, key=str)))\n",
      "/Users/jonathant/anaconda3/lib/python3.7/site-packages/sklearn/preprocessing/_label.py:987: UserWarning: unknown class(es) ['Baby & Toddler - Baby Food Buyers', 'Baby & Toddler - Baby Formula Buyers', 'Baby & Toddler - Baby HBC Buyers', 'Baby & Toddler - Baby HBC Buyers - Huggies Brands', 'Baby & Toddler - Disposable Diaper & Training Pant Buyers', 'Baby & Toddler - Disposable Diaper & Training Pant Buyers - Huggies Brands', 'Baby & Toddler - Disposable Diaper & Training Pant Buyers - Pampers Brands', 'Baby Product Buyers', 'Baby Store Buyers', 'Baby Store Buyers - Buy Buy Baby', 'Baby Store Buyers - Carters', 'Baby Store Buyers - Diapers.com', \"Children's Product Buyers\", \"Children's Product Shoppers\", 'Food Buyers', 'Last 12 Months Buyers - Buybuy Baby', \"Men's Apparel Shoppers\", 'Mexican Food Shoppers', 'Pet Owners', 'Recent Buyers', 'Sporting Goods Buyers - Bass Pro Shop', 'Sporting Goods Buyers - Cabelas', 'TV Viewers (Science Fiction & Fantasy)', 'nln_7168'] will be ignored\n",
      "  .format(sorted(unknown, key=str)))\n",
      "/Users/jonathant/anaconda3/lib/python3.7/site-packages/sklearn/preprocessing/_label.py:987: UserWarning: unknown class(es) ['Action & Thriller Genre Fans', 'Comedy Fans', 'Crime & Mystery Genre Fans', 'Cycling Enthusiasts', 'Drama Genre Fans', 'Family Genre Fans', 'Horror Genre Fans', 'Independence Day Buyers - Furnishing Stores', 'Independence Day Buyers - Grocery', 'Labor Day Buyers - Clothing Stores', 'Movie Theater Goers', 'Romance & Rom-Com Fans', 'Superhero Film Fans', 'Supermarket Buyers - Whole Foods Market', 'TV Network Viewers (Comedy Central)', 'Talent & Competition Show Fans'] will be ignored\n",
      "  .format(sorted(unknown, key=str)))\n",
      "/Users/jonathant/anaconda3/lib/python3.7/site-packages/sklearn/preprocessing/_label.py:987: UserWarning: unknown class(es) ['Action & Thriller Genre Fans', 'Apparel Store Buyers - Charlotte Russe', 'Apparel Store Buyers - Express', 'Apparel Store Buyers - Guess', 'Apparel Store Buyers - H & M', 'Apparel Store Buyers - Michael Kors', 'Apparel Store Buyers - TJ Maxx', 'Apparel Store Buyers - Victorias Secret', 'Baby & Toddler - Baby Food Buyers', 'Baby & Toddler - Baby Formula Buyers', 'Baby & Toddler - Baby HBC Buyers', 'Baby & Toddler - Baby HBC Buyers - Huggies Brands', 'Baby & Toddler - Disposable Diaper & Training Pant Buyers', 'Baby & Toddler - Disposable Diaper & Training Pant Buyers - Huggies Brands', 'Baby & Toddler - Disposable Diaper & Training Pant Buyers - Pampers Brands', 'Baby Product Buyers', 'Baby Store Buyers', 'Baby Store Buyers - Buy Buy Baby', 'Baby Store Buyers - Carters', 'Baby Store Buyers - Diapers.com', 'Beauty and Fragrance Shoppers', 'Black Friday & Cyber Monday Shoppers', \"Children's Product Buyers\", \"Children's Product Shoppers\", 'Comedy Fans', 'Drama Genre Fans', 'Family Genre Fans', 'Food Buyers', 'Horror Genre Fans', 'Last 12 Months Buyers - Buybuy Baby', \"Men's Apparel Shoppers\", 'Movie Theater Goers', 'Post-Holiday Bargain Shoppers', 'Recent Buyers', 'Romance & Rom-Com Fans', 'Sporting Goods Buyers - Bass Pro Shop', 'Sporting Goods Buyers - Cabelas', 'Superhero Film Fans', 'TV Network Viewers (FX)', 'Talent & Competition Show Fans', \"Women's Apparel Shoppers\", 'nln_7168'] will be ignored\n",
      "  .format(sorted(unknown, key=str)))\n",
      "/Users/jonathant/anaconda3/lib/python3.7/site-packages/sklearn/preprocessing/_label.py:987: UserWarning: unknown class(es) ['Apparel Store Buyers - Charlotte Russe', 'Apparel Store Buyers - Express', 'Apparel Store Buyers - Guess', 'Apparel Store Buyers - H & M', 'Apparel Store Buyers - Michael Kors', 'Apparel Store Buyers - TJ Maxx', 'Apparel Store Buyers - Victorias Secret', 'Beauty and Fragrance Shoppers', 'Crime & Mystery Genre Fans', 'Cycling Enthusiasts', 'Mexican Food Shoppers', \"Women's Apparel Shoppers\"] will be ignored\n",
      "  .format(sorted(unknown, key=str)))\n",
      "/Users/jonathant/anaconda3/lib/python3.7/site-packages/sklearn/preprocessing/_label.py:987: UserWarning: unknown class(es) ['Big Box Store Buyers - Walmart', 'Last 12 Months Buyers - Walmart', 'Soul & R&B Fans', 'TV Viewers (Science Fiction & Fantasy)'] will be ignored\n",
      "  .format(sorted(unknown, key=str)))\n",
      "/Users/jonathant/anaconda3/lib/python3.7/site-packages/sklearn/preprocessing/_label.py:987: UserWarning: unknown class(es) ['Big Box Store Buyers - Walmart', 'Black Friday & Cyber Monday Shoppers', 'Last 12 Months Buyers - Walmart', \"Men's Apparel Shoppers\", 'Post-Holiday Bargain Shoppers', 'Soul & R&B Fans', 'Sporting Goods Buyers - Bass Pro Shop', 'Sporting Goods Buyers - Cabelas', 'Supermarket Buyers - Whole Foods Market', 'TV Network Viewers (FX)'] will be ignored\n",
      "  .format(sorted(unknown, key=str)))\n",
      "/Users/jonathant/anaconda3/lib/python3.7/site-packages/sklearn/preprocessing/_label.py:987: UserWarning: unknown class(es) ['Apparel Buyers', 'Baby & Toddler - Baby Food Buyers', 'Baby & Toddler - Baby Formula Buyers', 'Baby & Toddler - Baby HBC Buyers', 'Baby & Toddler - Baby HBC Buyers - Huggies Brands', 'Baby & Toddler - Disposable Diaper & Training Pant Buyers', 'Baby & Toddler - Disposable Diaper & Training Pant Buyers - Huggies Brands', 'Baby & Toddler - Disposable Diaper & Training Pant Buyers - Pampers Brands', 'Baby Product Buyers', 'Baby Store Buyers', 'Baby Store Buyers - Buy Buy Baby', 'Baby Store Buyers - Carters', 'Baby Store Buyers - Diapers.com', 'Big Box Store Buyers - Walmart', 'Black Friday & Cyber Monday Shoppers', 'Black Friday Buyers', 'Black Friday Buyers - Apparel', 'Black Friday Online Buyers - Amazon', \"Children's Product Buyers\", \"Children's Product Shoppers\", 'Cyber Monday Online Buyers - Amazon', 'Dallas Cowboys Fans', 'Deal & Value Shoppers', 'Discount Buyers', 'Discount Store Shoppers', 'Food Buyers', 'Heavy Holiday Buyers - Amazon', 'Houston Texans Fans', 'Independence Day Buyers', 'Independence Day Buyers - Clothing Stores', 'Independence Day Buyers - Furnishing Stores', 'Independence Day Buyers - Grocery', 'Labor Day Buyers - Clothing Stores', 'Last 12 Months Buyers - Buybuy Baby', 'Last 12 Months Buyers - Walmart', \"Men's Apparel Shoppers\", 'Money Minders', 'New Chevrolet Truck Shoppers', 'New Ford Truck Shoppers', 'New Orleans Saints Fans', 'New RAM Truck Shoppers', 'Post-Holiday Bargain Shoppers', 'Recent Buyers', 'Soul & R&B Fans', 'Sporting Goods Buyers - Bass Pro Shop', 'Sporting Goods Buyers - Cabelas', 'TV Network Viewers (CBS)', 'TV Network Viewers (CMT)', 'TV Network Viewers (Comedy Central)', 'TV Network Viewers (FX)', 'Tampa Bay Buccaneers Fans', 'Tennessee Titans Fans', 'Walmart Stores', 'eCommerce Buyers - Amazon - Heavy Buyers', 'nln_7168'] will be ignored\n",
      "  .format(sorted(unknown, key=str)))\n",
      "/Users/jonathant/anaconda3/lib/python3.7/site-packages/sklearn/preprocessing/_label.py:987: UserWarning: unknown class(es) ['Black Friday Online Buyers - Amazon', 'Soul & R&B Fans', 'TV Viewers (Science Fiction & Fantasy)'] will be ignored\n",
      "  .format(sorted(unknown, key=str)))\n",
      "/Users/jonathant/anaconda3/lib/python3.7/site-packages/sklearn/preprocessing/_label.py:987: UserWarning: unknown class(es) ['Black Friday Online Buyers - Amazon', 'Crime & Mystery Genre Fans', 'Cycling Enthusiasts', 'Pet Owners', 'Supermarket Buyers - Whole Foods Market'] will be ignored\n",
      "  .format(sorted(unknown, key=str)))\n",
      "/Users/jonathant/anaconda3/lib/python3.7/site-packages/sklearn/preprocessing/_label.py:987: UserWarning: unknown class(es) ['Apparel Store Buyers - Charlotte Russe', 'Apparel Store Buyers - Express', 'Apparel Store Buyers - Guess', 'Apparel Store Buyers - H & M', 'Apparel Store Buyers - Michael Kors', 'Apparel Store Buyers - TJ Maxx', 'Apparel Store Buyers - Victorias Secret', 'Beauty and Fragrance Shoppers', 'Pet Owners', 'Soul & R&B Fans', 'TV Viewers (Science Fiction & Fantasy)', 'Vegans & Organic Foodies', \"Women's Apparel Shoppers\"] will be ignored\n",
      "  .format(sorted(unknown, key=str)))\n"
     ]
    },
    {
     "name": "stderr",
     "output_type": "stream",
     "text": [
      "/Users/jonathant/anaconda3/lib/python3.7/site-packages/sklearn/preprocessing/_label.py:987: UserWarning: unknown class(es) ['Apparel Store Buyers - Charlotte Russe', 'Apparel Store Buyers - Express', 'Apparel Store Buyers - Guess', 'Apparel Store Buyers - H & M', 'Apparel Store Buyers - Michael Kors', 'Apparel Store Buyers - TJ Maxx', 'Apparel Store Buyers - Victorias Secret', 'Baby & Toddler - Baby Food Buyers', 'Baby & Toddler - Baby Formula Buyers', 'Baby & Toddler - Baby HBC Buyers', 'Baby & Toddler - Baby HBC Buyers - Huggies Brands', 'Baby & Toddler - Disposable Diaper & Training Pant Buyers', 'Baby & Toddler - Disposable Diaper & Training Pant Buyers - Huggies Brands', 'Baby & Toddler - Disposable Diaper & Training Pant Buyers - Pampers Brands', 'Baby Product Buyers', 'Baby Store Buyers', 'Baby Store Buyers - Buy Buy Baby', 'Baby Store Buyers - Carters', 'Baby Store Buyers - Diapers.com', 'Beauty and Fragrance Shoppers', 'Black Friday & Cyber Monday Shoppers', 'Black Friday Online Buyers - Amazon', \"Children's Product Buyers\", \"Children's Product Shoppers\", 'Food Buyers', 'Last 12 Months Buyers - Buybuy Baby', 'Mexican Food Shoppers', 'Post-Holiday Bargain Shoppers', 'Recent Buyers', 'Supermarket Buyers - Whole Foods Market', 'TV Network Viewers (FX)', \"Women's Apparel Shoppers\", 'nln_7168'] will be ignored\n",
      "  .format(sorted(unknown, key=str)))\n",
      "/Users/jonathant/anaconda3/lib/python3.7/site-packages/sklearn/preprocessing/_label.py:987: UserWarning: unknown class(es) ['Action & Thriller Genre Fans', 'Big Box Store Buyers - Walmart', 'Comedy Fans', 'Drama Genre Fans', 'Family Genre Fans', 'Horror Genre Fans', 'Last 12 Months Buyers - Walmart', 'Mexican Food Shoppers', 'Movie Theater Goers', 'Romance & Rom-Com Fans', 'Superhero Film Fans', 'Supermarket Buyers - Whole Foods Market', 'Talent & Competition Show Fans'] will be ignored\n",
      "  .format(sorted(unknown, key=str)))\n",
      "/Users/jonathant/anaconda3/lib/python3.7/site-packages/sklearn/preprocessing/_label.py:987: UserWarning: unknown class(es) ['Concert Venues', 'Independence Day Buyers - Furnishing Stores', 'Independence Day Buyers - Grocery', 'Labor Day Buyers - Clothing Stores', 'Mexican Food Shoppers', 'Soul & R&B Fans', 'TV Network Viewers (Comedy Central)', 'TV Viewers (Science Fiction & Fantasy)'] will be ignored\n",
      "  .format(sorted(unknown, key=str)))\n",
      "/Users/jonathant/anaconda3/lib/python3.7/site-packages/sklearn/preprocessing/_label.py:987: UserWarning: unknown class(es) ['Big Box Store Buyers - Walmart', 'Last 12 Months Buyers - Walmart'] will be ignored\n",
      "  .format(sorted(unknown, key=str)))\n",
      "/Users/jonathant/anaconda3/lib/python3.7/site-packages/sklearn/preprocessing/_label.py:987: UserWarning: unknown class(es) ['Apparel Store Buyers - Charlotte Russe', 'Apparel Store Buyers - Express', 'Apparel Store Buyers - Guess', 'Apparel Store Buyers - H & M', 'Apparel Store Buyers - Michael Kors', 'Apparel Store Buyers - TJ Maxx', 'Apparel Store Buyers - Victorias Secret', 'Beauty and Fragrance Shoppers', 'Big Box Store Buyers - Walmart', 'Black Friday & Cyber Monday Shoppers', 'Crime & Mystery Genre Fans', 'Cycling Enthusiasts', 'Last 12 Months Buyers - Walmart', 'Post-Holiday Bargain Shoppers', 'Supermarket Buyers - Whole Foods Market', 'TV Network Viewers (FX)', \"Women's Apparel Shoppers\"] will be ignored\n",
      "  .format(sorted(unknown, key=str)))\n",
      "/Users/jonathant/anaconda3/lib/python3.7/site-packages/sklearn/preprocessing/_label.py:987: UserWarning: unknown class(es) ['Action & Thriller Genre Fans', 'Baby & Toddler - Baby Food Buyers', 'Baby & Toddler - Baby Formula Buyers', 'Baby & Toddler - Baby HBC Buyers', 'Baby & Toddler - Baby HBC Buyers - Huggies Brands', 'Baby & Toddler - Disposable Diaper & Training Pant Buyers', 'Baby & Toddler - Disposable Diaper & Training Pant Buyers - Huggies Brands', 'Baby & Toddler - Disposable Diaper & Training Pant Buyers - Pampers Brands', 'Baby Product Buyers', 'Baby Store Buyers', 'Baby Store Buyers - Buy Buy Baby', 'Baby Store Buyers - Carters', 'Baby Store Buyers - Diapers.com', \"Children's Product Buyers\", \"Children's Product Shoppers\", 'Comedy Fans', 'Drama Genre Fans', 'Family Genre Fans', 'Food Buyers', 'Holiday Online Buyers - Apparel', 'Horror Genre Fans', 'Last 12 Months Buyers - Buybuy Baby', 'Movie Theater Goers', 'Recent Buyers', 'Romance & Rom-Com Fans', 'Sci-fi & Fantasy Fans', 'Superhero Film Fans', 'Supermarket Buyers - Whole Foods Market', 'TV Viewers (Science Fiction & Fantasy)', 'Talent & Competition Show Fans', 'nln_7168'] will be ignored\n",
      "  .format(sorted(unknown, key=str)))\n",
      "/Users/jonathant/anaconda3/lib/python3.7/site-packages/sklearn/preprocessing/_label.py:987: UserWarning: unknown class(es) ['Action & Thriller Genre Fans', 'Baby & Toddler - Baby Food Buyers', 'Baby & Toddler - Baby Formula Buyers', 'Baby & Toddler - Baby HBC Buyers', 'Baby & Toddler - Baby HBC Buyers - Huggies Brands', 'Baby & Toddler - Disposable Diaper & Training Pant Buyers', 'Baby & Toddler - Disposable Diaper & Training Pant Buyers - Huggies Brands', 'Baby & Toddler - Disposable Diaper & Training Pant Buyers - Pampers Brands', 'Baby Product Buyers', 'Baby Store Buyers', 'Baby Store Buyers - Buy Buy Baby', 'Baby Store Buyers - Carters', 'Baby Store Buyers - Diapers.com', \"Children's Product Buyers\", \"Children's Product Shoppers\", 'Comedy Fans', 'Crime & Mystery Genre Fans', 'Cycling Enthusiasts', 'Drama Genre Fans', 'Family Genre Fans', 'Food Buyers', 'Horror Genre Fans', 'Last 12 Months Buyers - Buybuy Baby', 'Last 12 Months Buyers - Urban Outfitters', 'Movie Theater Goers', 'Recent Buyers', 'Romance & Rom-Com Fans', 'Sci-fi & Fantasy Fans', 'Superhero Film Fans', 'TV Viewers (Science Fiction & Fantasy)', 'Talent & Competition Show Fans', 'nln_7168'] will be ignored\n",
      "  .format(sorted(unknown, key=str)))\n",
      "/Users/jonathant/anaconda3/lib/python3.7/site-packages/sklearn/preprocessing/_label.py:987: UserWarning: unknown class(es) ['Apparel Buyers', 'Apparel Store Buyers - Charlotte Russe', 'Apparel Store Buyers - Express', 'Apparel Store Buyers - Guess', 'Apparel Store Buyers - H & M', 'Apparel Store Buyers - Michael Kors', 'Apparel Store Buyers - TJ Maxx', 'Apparel Store Buyers - Victorias Secret', 'Baby & Toddler - Baby Food Buyers', 'Baby & Toddler - Baby Formula Buyers', 'Baby & Toddler - Baby HBC Buyers', 'Baby & Toddler - Baby HBC Buyers - Huggies Brands', 'Baby & Toddler - Disposable Diaper & Training Pant Buyers', 'Baby & Toddler - Disposable Diaper & Training Pant Buyers - Huggies Brands', 'Baby & Toddler - Disposable Diaper & Training Pant Buyers - Pampers Brands', 'Baby Product Buyers', 'Baby Store Buyers', 'Baby Store Buyers - Buy Buy Baby', 'Baby Store Buyers - Carters', 'Baby Store Buyers - Diapers.com', 'Beauty and Fragrance Shoppers', 'Big Box Store Buyers - Walmart', 'Black Friday & Cyber Monday Shoppers', 'Black Friday Buyers', 'Black Friday Buyers - Apparel', \"Children's Product Buyers\", \"Children's Product Shoppers\", 'Crime & Mystery Genre Fans', 'Cycling Enthusiasts', 'Deal & Value Shoppers', 'Discount Buyers', 'Discount Store Shoppers', 'Food Buyers', 'Independence Day Buyers', 'Independence Day Buyers - Clothing Stores', 'Independence Day Buyers - Furnishing Stores', 'Independence Day Buyers - Grocery', 'Labor Day Buyers - Clothing Stores', 'Last 12 Months Buyers - Buybuy Baby', 'Last 12 Months Buyers - Walmart', 'Money Minders', 'Post-Holiday Bargain Shoppers', 'Recent Buyers', 'TV Network Viewers (CBS)', 'TV Network Viewers (CMT)', 'TV Network Viewers (Comedy Central)', 'TV Network Viewers (FX)', \"Women's Apparel Shoppers\", 'nln_7168'] will be ignored\n",
      "  .format(sorted(unknown, key=str)))\n",
      "/Users/jonathant/anaconda3/lib/python3.7/site-packages/sklearn/preprocessing/_label.py:987: UserWarning: unknown class(es) ['Big Box Store Buyers - Walmart', 'Last 12 Months Buyers - Walmart', \"Men's Apparel Shoppers\", 'Pet Owners', 'Sporting Goods Buyers - Bass Pro Shop', 'Sporting Goods Buyers - Cabelas'] will be ignored\n",
      "  .format(sorted(unknown, key=str)))\n",
      "/Users/jonathant/anaconda3/lib/python3.7/site-packages/sklearn/preprocessing/_label.py:987: UserWarning: unknown class(es) ['Action & Thriller Genre Fans', 'Comedy Fans', 'Drama Genre Fans', 'Family Genre Fans', 'Horror Genre Fans', 'Independence Day Buyers - Furnishing Stores', 'Independence Day Buyers - Grocery', 'Labor Day Buyers - Clothing Stores', 'Last 12 Months Buyers - Urban Outfitters', 'Mexican Food Shoppers', 'Movie Theater Goers', 'Pet Owners', 'Romance & Rom-Com Fans', 'Sci-fi & Fantasy Fans', 'Superhero Film Fans', 'TV Network Viewers (Comedy Central)', 'TV Viewers (Science Fiction & Fantasy)', 'Talent & Competition Show Fans'] will be ignored\n",
      "  .format(sorted(unknown, key=str)))\n",
      "/Users/jonathant/anaconda3/lib/python3.7/site-packages/sklearn/preprocessing/_label.py:987: UserWarning: unknown class(es) ['Apparel Buyers', 'Apparel Shoppers', 'Black Friday & Cyber Monday Shoppers', 'Black Friday Buyers', 'Black Friday Buyers - Apparel', 'Deal & Value Shoppers', 'Discount Buyers', 'Discount Store Shoppers', 'Independence Day Buyers', 'Independence Day Buyers - Clothing Stores', 'Independence Day Buyers - Furnishing Stores', 'Independence Day Buyers - Grocery', 'Labor Day Buyers - Clothing Stores', 'Money Minders', 'Pet Owners', 'Post-Holiday Bargain Shoppers', 'Soul & R&B Fans', 'Supermarket Buyers - Whole Foods Market', 'TV Network Viewers (CBS)', 'TV Network Viewers (CMT)', 'TV Network Viewers (Comedy Central)', 'TV Network Viewers (FX)', 'Vegans & Organic Foodies'] will be ignored\n",
      "  .format(sorted(unknown, key=str)))\n",
      "/Users/jonathant/anaconda3/lib/python3.7/site-packages/sklearn/preprocessing/_label.py:987: UserWarning: unknown class(es) ['Action & Thriller Genre Fans', 'Comedy Fans', 'Drama Genre Fans', 'Family Genre Fans', 'Horror Genre Fans', 'Movie Theater Goers', 'Romance & Rom-Com Fans', 'Superhero Film Fans', 'Talent & Competition Show Fans'] will be ignored\n",
      "  .format(sorted(unknown, key=str)))\n"
     ]
    },
    {
     "name": "stderr",
     "output_type": "stream",
     "text": [
      "/Users/jonathant/anaconda3/lib/python3.7/site-packages/sklearn/preprocessing/_label.py:987: UserWarning: unknown class(es) ['Action & Thriller Genre Fans', 'Apparel Store Buyers - Charlotte Russe', 'Apparel Store Buyers - Express', 'Apparel Store Buyers - Guess', 'Apparel Store Buyers - H & M', 'Apparel Store Buyers - Michael Kors', 'Apparel Store Buyers - TJ Maxx', 'Apparel Store Buyers - Victorias Secret', 'Baby & Toddler - Baby Food Buyers', 'Baby & Toddler - Baby Formula Buyers', 'Baby & Toddler - Baby HBC Buyers', 'Baby & Toddler - Baby HBC Buyers - Huggies Brands', 'Baby & Toddler - Disposable Diaper & Training Pant Buyers', 'Baby & Toddler - Disposable Diaper & Training Pant Buyers - Huggies Brands', 'Baby & Toddler - Disposable Diaper & Training Pant Buyers - Pampers Brands', 'Baby Product Buyers', 'Baby Store Buyers', 'Baby Store Buyers - Buy Buy Baby', 'Baby Store Buyers - Carters', 'Baby Store Buyers - Diapers.com', 'Beauty and Fragrance Shoppers', \"Children's Product Buyers\", \"Children's Product Shoppers\", 'Comedy Fans', 'Drama Genre Fans', 'Family Genre Fans', 'Food Buyers', 'Horror Genre Fans', 'Independence Day Buyers - Furnishing Stores', 'Independence Day Buyers - Grocery', 'Labor Day Buyers - Clothing Stores', 'Last 12 Months Buyers - Buybuy Baby', 'Movie Theater Goers', 'Pet Owners', 'Recent Buyers', 'Romance & Rom-Com Fans', 'Sci-fi & Fantasy Fans', 'Superhero Film Fans', 'Supermarket Buyers - Whole Foods Market', 'TV Network Viewers (Comedy Central)', 'TV Viewers (Science Fiction & Fantasy)', 'Talent & Competition Show Fans', \"Women's Apparel Shoppers\", 'nln_7168'] will be ignored\n",
      "  .format(sorted(unknown, key=str)))\n",
      "/Users/jonathant/anaconda3/lib/python3.7/site-packages/sklearn/preprocessing/_label.py:987: UserWarning: unknown class(es) ['Apparel Store Buyers - Charlotte Russe', 'Apparel Store Buyers - Express', 'Apparel Store Buyers - Guess', 'Apparel Store Buyers - H & M', 'Apparel Store Buyers - Michael Kors', 'Apparel Store Buyers - TJ Maxx', 'Apparel Store Buyers - Victorias Secret', 'Beauty and Fragrance Shoppers', 'Crime & Mystery Genre Fans', 'Cycling Enthusiasts', 'Supermarket Buyers - Whole Foods Market', \"Women's Apparel Shoppers\"] will be ignored\n",
      "  .format(sorted(unknown, key=str)))\n",
      "/Users/jonathant/anaconda3/lib/python3.7/site-packages/sklearn/preprocessing/_label.py:987: UserWarning: unknown class(es) ['Black Friday Online Buyers - Amazon', 'Concert Venues', 'Independence Day Buyers - Furnishing Stores', 'Independence Day Buyers - Grocery', 'Labor Day Buyers - Clothing Stores', 'TV Network Viewers (Comedy Central)'] will be ignored\n",
      "  .format(sorted(unknown, key=str)))\n",
      "/Users/jonathant/anaconda3/lib/python3.7/site-packages/sklearn/preprocessing/_label.py:987: UserWarning: unknown class(es) ['Action & Thriller Genre Fans', 'Big Box Store Buyers - Walmart', 'Comedy Fans', 'Drama Genre Fans', 'Family Genre Fans', 'Horror Genre Fans', 'Last 12 Months Buyers - Walmart', \"Men's Apparel Shoppers\", 'Movie Theater Goers', 'Romance & Rom-Com Fans', 'Soul & R&B Fans', 'Sporting Goods Buyers - Bass Pro Shop', 'Sporting Goods Buyers - Cabelas', 'Superhero Film Fans', 'Supermarket Buyers - Whole Foods Market', 'Talent & Competition Show Fans'] will be ignored\n",
      "  .format(sorted(unknown, key=str)))\n",
      "/Users/jonathant/anaconda3/lib/python3.7/site-packages/sklearn/preprocessing/_label.py:987: UserWarning: unknown class(es) ['Action & Thriller Genre Fans', 'Black Friday & Cyber Monday Shoppers', 'Comedy Fans', 'Drama Genre Fans', 'Family Genre Fans', 'Horror Genre Fans', 'Movie Theater Goers', 'Pet Owners', 'Post-Holiday Bargain Shoppers', 'Romance & Rom-Com Fans', 'Soul & R&B Fans', 'Superhero Film Fans', 'TV Network Viewers (FX)', 'Talent & Competition Show Fans', 'Vegans & Organic Foodies'] will be ignored\n",
      "  .format(sorted(unknown, key=str)))\n",
      "/Users/jonathant/anaconda3/lib/python3.7/site-packages/sklearn/preprocessing/_label.py:987: UserWarning: unknown class(es) [\"Men's Apparel Shoppers\", 'Soul & R&B Fans', 'Sporting Goods Buyers - Bass Pro Shop', 'Sporting Goods Buyers - Cabelas'] will be ignored\n",
      "  .format(sorted(unknown, key=str)))\n",
      "/Users/jonathant/anaconda3/lib/python3.7/site-packages/sklearn/preprocessing/_label.py:987: UserWarning: unknown class(es) ['Action & Thriller Genre Fans', 'Comedy Fans', 'Crime & Mystery Genre Fans', 'Cycling Enthusiasts', 'Drama Genre Fans', 'Family Genre Fans', 'Horror Genre Fans', 'Movie Theater Goers', 'Romance & Rom-Com Fans', 'Sci-fi & Fantasy Fans', 'Superhero Film Fans', 'TV Viewers (Science Fiction & Fantasy)', 'Talent & Competition Show Fans'] will be ignored\n",
      "  .format(sorted(unknown, key=str)))\n",
      "/Users/jonathant/anaconda3/lib/python3.7/site-packages/sklearn/preprocessing/_label.py:987: UserWarning: unknown class(es) ['Action & Thriller Genre Fans', 'Apparel Store Buyers - Charlotte Russe', 'Apparel Store Buyers - Express', 'Apparel Store Buyers - Guess', 'Apparel Store Buyers - H & M', 'Apparel Store Buyers - Michael Kors', 'Apparel Store Buyers - TJ Maxx', 'Apparel Store Buyers - Victorias Secret', 'Beauty and Fragrance Shoppers', 'Big Box Store Buyers - Walmart', 'Black Friday Online Buyers - Amazon', 'Comedy Fans', 'Crime & Mystery Genre Fans', 'Cyber Monday Online Buyers - Amazon', 'Cycling Enthusiasts', 'Dallas Cowboys Fans', 'Drama Genre Fans', 'Family Genre Fans', 'Heavy Holiday Buyers - Amazon', 'Horror Genre Fans', 'Houston Texans Fans', 'Last 12 Months Buyers - Walmart', \"Men's Apparel Shoppers\", 'Movie Theater Goers', 'New Chevrolet Truck Shoppers', 'New Ford Truck Shoppers', 'New Orleans Saints Fans', 'New RAM Truck Shoppers', 'Romance & Rom-Com Fans', 'Sporting Goods Buyers - Bass Pro Shop', 'Sporting Goods Buyers - Cabelas', 'Superhero Film Fans', 'Talent & Competition Show Fans', 'Tampa Bay Buccaneers Fans', 'Tennessee Titans Fans', 'Walmart Stores', \"Women's Apparel Shoppers\", 'eCommerce Buyers - Amazon - Heavy Buyers'] will be ignored\n",
      "  .format(sorted(unknown, key=str)))\n",
      "/Users/jonathant/anaconda3/lib/python3.7/site-packages/sklearn/preprocessing/_label.py:987: UserWarning: unknown class(es) ['Action & Thriller Genre Fans', 'Apparel Store Buyers - Charlotte Russe', 'Apparel Store Buyers - Express', 'Apparel Store Buyers - Guess', 'Apparel Store Buyers - H & M', 'Apparel Store Buyers - Michael Kors', 'Apparel Store Buyers - TJ Maxx', 'Apparel Store Buyers - Victorias Secret', 'Beauty and Fragrance Shoppers', 'Black Friday & Cyber Monday Shoppers', 'Comedy Fans', 'Concert Venues', 'Crime & Mystery Genre Fans', 'Cycling Enthusiasts', 'Drama Genre Fans', 'Family Genre Fans', 'Horror Genre Fans', \"Men's Apparel Shoppers\", 'Movie Theater Goers', 'Post-Holiday Bargain Shoppers', 'Romance & Rom-Com Fans', 'Soul & R&B Fans', 'Sporting Goods Buyers - Bass Pro Shop', 'Sporting Goods Buyers - Cabelas', 'Superhero Film Fans', 'TV Network Viewers (FX)', 'Talent & Competition Show Fans', \"Women's Apparel Shoppers\"] will be ignored\n",
      "  .format(sorted(unknown, key=str)))\n",
      "/Users/jonathant/anaconda3/lib/python3.7/site-packages/sklearn/preprocessing/_label.py:987: UserWarning: unknown class(es) ['Apparel Buyers', 'Black Friday & Cyber Monday Shoppers', 'Black Friday Buyers', 'Black Friday Buyers - Apparel', 'Deal & Value Shoppers', 'Discount Buyers', 'Discount Store Shoppers', 'Independence Day Buyers', 'Independence Day Buyers - Clothing Stores', 'Independence Day Buyers - Furnishing Stores', 'Independence Day Buyers - Grocery', 'Labor Day Buyers - Clothing Stores', 'Money Minders', 'Pet Owners', 'Post-Holiday Bargain Shoppers', 'TV Network Viewers (ABC)', 'TV Network Viewers (CBS)', 'TV Network Viewers (CMT)', 'TV Network Viewers (Comedy Central)', 'TV Network Viewers (FX)', 'TV Viewers (Talk Shows)'] will be ignored\n",
      "  .format(sorted(unknown, key=str)))\n",
      "/Users/jonathant/anaconda3/lib/python3.7/site-packages/sklearn/preprocessing/_label.py:987: UserWarning: unknown class(es) ['Action & Thriller Genre Fans', 'Baby & Toddler - Baby Food Buyers', 'Baby & Toddler - Baby Formula Buyers', 'Baby & Toddler - Baby HBC Buyers', 'Baby & Toddler - Baby HBC Buyers - Huggies Brands', 'Baby & Toddler - Disposable Diaper & Training Pant Buyers', 'Baby & Toddler - Disposable Diaper & Training Pant Buyers - Huggies Brands', 'Baby & Toddler - Disposable Diaper & Training Pant Buyers - Pampers Brands', 'Baby Product Buyers', 'Baby Store Buyers', 'Baby Store Buyers - Buy Buy Baby', 'Baby Store Buyers - Carters', 'Baby Store Buyers - Diapers.com', 'Black Friday & Cyber Monday Shoppers', \"Children's Product Buyers\", \"Children's Product Shoppers\", 'Comedy Fans', 'Crime & Mystery Genre Fans', 'Cycling Enthusiasts', 'Drama Genre Fans', 'Family Genre Fans', 'Food Buyers', 'Horror Genre Fans', 'Last 12 Months Buyers - Buybuy Baby', 'Movie Theater Goers', 'Post-Holiday Bargain Shoppers', 'Recent Buyers', 'Romance & Rom-Com Fans', 'Soul & R&B Fans', 'Superhero Film Fans', 'TV Network Viewers (FX)', 'Talent & Competition Show Fans', 'nln_7168'] will be ignored\n",
      "  .format(sorted(unknown, key=str)))\n",
      "/Users/jonathant/anaconda3/lib/python3.7/site-packages/sklearn/preprocessing/_label.py:987: UserWarning: unknown class(es) ['Action & Thriller Genre Fans', 'Apparel Buyers', 'Big Box Store Buyers - Walmart', 'Black Friday & Cyber Monday Shoppers', 'Black Friday Buyers', 'Black Friday Buyers - Apparel', 'Comedy Fans', 'Crime & Mystery Genre Fans', 'Cycling Enthusiasts', 'Deal & Value Shoppers', 'Discount Buyers', 'Discount Store Shoppers', 'Drama Genre Fans', 'Family Genre Fans', 'Horror Genre Fans', 'Independence Day Buyers', 'Independence Day Buyers - Clothing Stores', 'Independence Day Buyers - Furnishing Stores', 'Independence Day Buyers - Grocery', 'Labor Day Buyers - Clothing Stores', 'Last 12 Months Buyers - Walmart', 'Mexican Food Shoppers', 'Money Minders', 'Movie Theater Goers', 'Post-Holiday Bargain Shoppers', 'Romance & Rom-Com Fans', 'Shopping Mall Shoppers', 'Superhero Film Fans', 'Supermarket Buyers - Whole Foods Market', 'TV Network Viewers (CBS)', 'TV Network Viewers (CMT)', 'TV Network Viewers (Comedy Central)', 'TV Network Viewers (FX)', 'Talent & Competition Show Fans'] will be ignored\n",
      "  .format(sorted(unknown, key=str)))\n"
     ]
    },
    {
     "name": "stderr",
     "output_type": "stream",
     "text": [
      "/Users/jonathant/anaconda3/lib/python3.7/site-packages/sklearn/preprocessing/_label.py:987: UserWarning: unknown class(es) ['Apparel Store Buyers - Charlotte Russe', 'Apparel Store Buyers - Express', 'Apparel Store Buyers - Guess', 'Apparel Store Buyers - H & M', 'Apparel Store Buyers - Michael Kors', 'Apparel Store Buyers - TJ Maxx', 'Apparel Store Buyers - Victorias Secret', 'Baby & Toddler - Baby Food Buyers', 'Baby & Toddler - Baby Formula Buyers', 'Baby & Toddler - Baby HBC Buyers', 'Baby & Toddler - Baby HBC Buyers - Huggies Brands', 'Baby & Toddler - Disposable Diaper & Training Pant Buyers', 'Baby & Toddler - Disposable Diaper & Training Pant Buyers - Huggies Brands', 'Baby & Toddler - Disposable Diaper & Training Pant Buyers - Pampers Brands', 'Baby Product Buyers', 'Baby Store Buyers', 'Baby Store Buyers - Buy Buy Baby', 'Baby Store Buyers - Carters', 'Baby Store Buyers - Diapers.com', 'Beauty and Fragrance Shoppers', \"Children's Product Buyers\", \"Children's Product Shoppers\", 'Food Buyers', 'Independence Day Buyers - Furnishing Stores', 'Independence Day Buyers - Grocery', 'Labor Day Buyers - Clothing Stores', 'Last 12 Months Buyers - Buybuy Baby', \"Men's Apparel Shoppers\", 'Mexican Food Shoppers', 'Recent Buyers', 'Sporting Goods Buyers - Bass Pro Shop', 'Sporting Goods Buyers - Cabelas', 'TV Network Viewers (Comedy Central)', \"Women's Apparel Shoppers\", 'nln_7168'] will be ignored\n",
      "  .format(sorted(unknown, key=str)))\n",
      "/Users/jonathant/anaconda3/lib/python3.7/site-packages/sklearn/preprocessing/_label.py:987: UserWarning: unknown class(es) ['Black Friday Online Buyers - Amazon', 'Mexican Food Shoppers'] will be ignored\n",
      "  .format(sorted(unknown, key=str)))\n",
      "/Users/jonathant/anaconda3/lib/python3.7/site-packages/sklearn/preprocessing/_label.py:987: UserWarning: unknown class(es) ['Black Friday & Cyber Monday Shoppers', \"Men's Apparel Shoppers\", 'Post-Holiday Bargain Shoppers', 'Sporting Goods Buyers - Bass Pro Shop', 'Sporting Goods Buyers - Cabelas', 'TV Network Viewers (FX)'] will be ignored\n",
      "  .format(sorted(unknown, key=str)))\n",
      "/Users/jonathant/anaconda3/lib/python3.7/site-packages/sklearn/preprocessing/_label.py:987: UserWarning: unknown class(es) ['Big Box Store Buyers - Walmart', 'Independence Day Buyers - Furnishing Stores', 'Independence Day Buyers - Grocery', 'Labor Day Buyers - Clothing Stores', 'Last 12 Months Buyers - Walmart', 'Pet Owners', 'TV Network Viewers (Comedy Central)'] will be ignored\n",
      "  .format(sorted(unknown, key=str)))\n",
      "/Users/jonathant/anaconda3/lib/python3.7/site-packages/sklearn/preprocessing/_label.py:987: UserWarning: unknown class(es) ['Apparel Store Buyers - Charlotte Russe', 'Apparel Store Buyers - Express', 'Apparel Store Buyers - Guess', 'Apparel Store Buyers - H & M', 'Apparel Store Buyers - Michael Kors', 'Apparel Store Buyers - TJ Maxx', 'Apparel Store Buyers - Victorias Secret', 'Beauty and Fragrance Shoppers', 'Crime & Mystery Genre Fans', 'Cycling Enthusiasts', 'Independence Day Buyers - Furnishing Stores', 'Independence Day Buyers - Grocery', 'Labor Day Buyers - Clothing Stores', 'TV Network Viewers (Comedy Central)', \"Women's Apparel Shoppers\"] will be ignored\n",
      "  .format(sorted(unknown, key=str)))\n",
      "/Users/jonathant/anaconda3/lib/python3.7/site-packages/sklearn/preprocessing/_label.py:987: UserWarning: unknown class(es) ['Black Friday & Cyber Monday Shoppers', 'Black Friday Online Buyers - Amazon', 'Pet Owners', 'Post-Holiday Bargain Shoppers', 'TV Network Viewers (FX)'] will be ignored\n",
      "  .format(sorted(unknown, key=str)))\n",
      "/Users/jonathant/anaconda3/lib/python3.7/site-packages/sklearn/preprocessing/_label.py:987: UserWarning: unknown class(es) ['Baby & Toddler - Baby Food Buyers', 'Baby & Toddler - Baby Formula Buyers', 'Baby & Toddler - Baby HBC Buyers', 'Baby & Toddler - Baby HBC Buyers - Huggies Brands', 'Baby & Toddler - Disposable Diaper & Training Pant Buyers', 'Baby & Toddler - Disposable Diaper & Training Pant Buyers - Huggies Brands', 'Baby & Toddler - Disposable Diaper & Training Pant Buyers - Pampers Brands', 'Baby Product Buyers', 'Baby Store Buyers', 'Baby Store Buyers - Buy Buy Baby', 'Baby Store Buyers - Carters', 'Baby Store Buyers - Diapers.com', 'Big Box Store Buyers - Walmart', \"Children's Product Buyers\", \"Children's Product Shoppers\", 'Crime & Mystery Genre Fans', 'Cycling Enthusiasts', 'Food Buyers', 'Last 12 Months Buyers - Buybuy Baby', 'Last 12 Months Buyers - Walmart', 'Mexican Food Shoppers', 'Recent Buyers', 'Supermarket Buyers - Whole Foods Market', 'nln_7168'] will be ignored\n",
      "  .format(sorted(unknown, key=str)))\n",
      "/Users/jonathant/anaconda3/lib/python3.7/site-packages/sklearn/preprocessing/_label.py:987: UserWarning: unknown class(es) ['Black Friday & Cyber Monday Shoppers', 'Black Friday Online Buyers - Amazon', \"Men's Apparel Shoppers\", 'Post-Holiday Bargain Shoppers', 'Sporting Goods Buyers - Bass Pro Shop', 'Sporting Goods Buyers - Cabelas', 'TV Network Viewers (FX)'] will be ignored\n",
      "  .format(sorted(unknown, key=str)))\n",
      "/Users/jonathant/anaconda3/lib/python3.7/site-packages/sklearn/preprocessing/_label.py:987: UserWarning: unknown class(es) ['Action & Thriller Genre Fans', 'Baby & Toddler - Baby Food Buyers', 'Baby & Toddler - Baby Formula Buyers', 'Baby & Toddler - Baby HBC Buyers', 'Baby & Toddler - Baby HBC Buyers - Huggies Brands', 'Baby & Toddler - Disposable Diaper & Training Pant Buyers', 'Baby & Toddler - Disposable Diaper & Training Pant Buyers - Huggies Brands', 'Baby & Toddler - Disposable Diaper & Training Pant Buyers - Pampers Brands', 'Baby Product Buyers', 'Baby Store Buyers', 'Baby Store Buyers - Buy Buy Baby', 'Baby Store Buyers - Carters', 'Baby Store Buyers - Diapers.com', \"Children's Product Buyers\", \"Children's Product Shoppers\", 'Comedy Fans', 'Drama Genre Fans', 'Family Genre Fans', 'Food Buyers', 'Horror Genre Fans', 'Last 12 Months Buyers - Buybuy Baby', 'Movie Theater Goers', 'Recent Buyers', 'Romance & Rom-Com Fans', 'Superhero Film Fans', 'Talent & Competition Show Fans', 'nln_7168'] will be ignored\n",
      "  .format(sorted(unknown, key=str)))\n",
      "/Users/jonathant/anaconda3/lib/python3.7/site-packages/sklearn/preprocessing/_label.py:987: UserWarning: unknown class(es) ['Action & Thriller Genre Fans', 'Apparel Buyers', 'Apparel Shoppers', 'Apparel Store Buyers - Charlotte Russe', 'Apparel Store Buyers - Express', 'Apparel Store Buyers - Guess', 'Apparel Store Buyers - H & M', 'Apparel Store Buyers - Michael Kors', 'Apparel Store Buyers - TJ Maxx', 'Apparel Store Buyers - Victorias Secret', 'Beauty and Fragrance Shoppers', 'Black Friday & Cyber Monday Shoppers', 'Black Friday Buyers', 'Black Friday Buyers - Apparel', 'Comedy Fans', 'Deal & Value Shoppers', 'Discount Buyers', 'Discount Store Shoppers', 'Drama Genre Fans', 'Family Genre Fans', 'Horror Genre Fans', 'Independence Day Buyers', 'Independence Day Buyers - Clothing Stores', 'Independence Day Buyers - Furnishing Stores', 'Independence Day Buyers - Grocery', 'Labor Day Buyers - Clothing Stores', \"Men's Apparel Shoppers\", 'Money Minders', 'Movie Theater Goers', 'Post-Holiday Bargain Shoppers', 'Romance & Rom-Com Fans', 'Sci-fi & Fantasy Fans', 'Shopping Mall Shoppers', 'Sporting Goods Buyers - Bass Pro Shop', 'Sporting Goods Buyers - Cabelas', 'Superhero Film Fans', 'TV Network Viewers (CBS)', 'TV Network Viewers (CMT)', 'TV Network Viewers (Comedy Central)', 'TV Network Viewers (FX)', 'TV Viewers (Science Fiction & Fantasy)', 'Talent & Competition Show Fans', \"Women's Apparel Shoppers\"] will be ignored\n",
      "  .format(sorted(unknown, key=str)))\n",
      "/Users/jonathant/anaconda3/lib/python3.7/site-packages/sklearn/preprocessing/_label.py:987: UserWarning: unknown class(es) ['Action & Thriller Genre Fans', 'Big Box Store Buyers - Walmart', 'Black Friday Online Buyers - Amazon', 'Comedy Fans', 'Cyber Monday Online Buyers - Amazon', 'Dallas Cowboys Fans', 'Drama Genre Fans', 'Family Genre Fans', 'Heavy Holiday Buyers - Amazon', 'Horror Genre Fans', 'Houston Texans Fans', 'Last 12 Months Buyers - Walmart', 'Mexican Food Shoppers', 'Movie Theater Goers', 'New Chevrolet Truck Shoppers', 'New Ford Truck Shoppers', 'New Orleans Saints Fans', 'New RAM Truck Shoppers', 'Romance & Rom-Com Fans', 'Soul & R&B Fans', 'Superhero Film Fans', 'Talent & Competition Show Fans', 'Tampa Bay Buccaneers Fans', 'Tennessee Titans Fans', 'Walmart Stores', 'eCommerce Buyers - Amazon - Heavy Buyers'] will be ignored\n",
      "  .format(sorted(unknown, key=str)))\n",
      "/Users/jonathant/anaconda3/lib/python3.7/site-packages/sklearn/preprocessing/_label.py:987: UserWarning: unknown class(es) ['Apparel Store Buyers - Charlotte Russe', 'Apparel Store Buyers - Express', 'Apparel Store Buyers - Guess', 'Apparel Store Buyers - H & M', 'Apparel Store Buyers - Michael Kors', 'Apparel Store Buyers - TJ Maxx', 'Apparel Store Buyers - Victorias Secret', 'Beauty and Fragrance Shoppers', 'Crime & Mystery Genre Fans', 'Cycling Enthusiasts', 'Last 12 Months Buyers - Urban Outfitters', \"Men's Apparel Shoppers\", 'Soul & R&B Fans', 'Sporting Goods Buyers - Bass Pro Shop', 'Sporting Goods Buyers - Cabelas', \"Women's Apparel Shoppers\"] will be ignored\n",
      "  .format(sorted(unknown, key=str)))\n"
     ]
    },
    {
     "name": "stderr",
     "output_type": "stream",
     "text": [
      "/Users/jonathant/anaconda3/lib/python3.7/site-packages/sklearn/preprocessing/_label.py:987: UserWarning: unknown class(es) ['Apparel Store Buyers - Charlotte Russe', 'Apparel Store Buyers - Express', 'Apparel Store Buyers - Guess', 'Apparel Store Buyers - H & M', 'Apparel Store Buyers - Michael Kors', 'Apparel Store Buyers - TJ Maxx', 'Apparel Store Buyers - Victorias Secret', 'Beauty and Fragrance Shoppers', 'Independence Day Buyers - Furnishing Stores', 'Independence Day Buyers - Grocery', 'Labor Day Buyers - Clothing Stores', 'Mexican Food Shoppers', 'Pet Owners', 'TV Network Viewers (Comedy Central)', \"Women's Apparel Shoppers\"] will be ignored\n",
      "  .format(sorted(unknown, key=str)))\n",
      "/Users/jonathant/anaconda3/lib/python3.7/site-packages/sklearn/preprocessing/_label.py:987: UserWarning: unknown class(es) ['Apparel Buyers', 'Black Friday & Cyber Monday Shoppers', 'Black Friday Buyers', 'Black Friday Buyers - Apparel', 'Crime & Mystery Genre Fans', 'Cycling Enthusiasts', 'Deal & Value Shoppers', 'Discount Buyers', 'Discount Store Shoppers', 'Independence Day Buyers', 'Independence Day Buyers - Clothing Stores', 'Independence Day Buyers - Furnishing Stores', 'Independence Day Buyers - Grocery', 'Labor Day Buyers - Clothing Stores', 'Money Minders', 'Post-Holiday Bargain Shoppers', 'TV Network Viewers (CBS)', 'TV Network Viewers (CMT)', 'TV Network Viewers (Comedy Central)', 'TV Network Viewers (FX)'] will be ignored\n",
      "  .format(sorted(unknown, key=str)))\n",
      "/Users/jonathant/anaconda3/lib/python3.7/site-packages/sklearn/preprocessing/_label.py:987: UserWarning: unknown class(es) ['Baby & Toddler - Baby Food Buyers', 'Baby & Toddler - Baby Formula Buyers', 'Baby & Toddler - Baby HBC Buyers', 'Baby & Toddler - Baby HBC Buyers - Huggies Brands', 'Baby & Toddler - Disposable Diaper & Training Pant Buyers', 'Baby & Toddler - Disposable Diaper & Training Pant Buyers - Huggies Brands', 'Baby & Toddler - Disposable Diaper & Training Pant Buyers - Pampers Brands', 'Baby Product Buyers', 'Baby Store Buyers', 'Baby Store Buyers - Buy Buy Baby', 'Baby Store Buyers - Carters', 'Baby Store Buyers - Diapers.com', 'Black Friday Online Buyers - Amazon', \"Children's Product Buyers\", \"Children's Product Shoppers\", 'Crime & Mystery Genre Fans', 'Cycling Enthusiasts', 'Food Buyers', 'Independence Day Buyers - Furnishing Stores', 'Independence Day Buyers - Grocery', 'Labor Day Buyers - Clothing Stores', 'Last 12 Months Buyers - Buybuy Baby', 'Recent Buyers', 'TV Network Viewers (Comedy Central)', 'nln_7168'] will be ignored\n",
      "  .format(sorted(unknown, key=str)))\n",
      "/Users/jonathant/anaconda3/lib/python3.7/site-packages/sklearn/preprocessing/_label.py:987: UserWarning: unknown class(es) ['Big Box Store Buyers - Walmart', 'Last 12 Months Buyers - Walmart', 'Mexican Food Shoppers', 'TV Viewers (Science Fiction & Fantasy)'] will be ignored\n",
      "  .format(sorted(unknown, key=str)))\n",
      "/Users/jonathant/anaconda3/lib/python3.7/site-packages/sklearn/preprocessing/_label.py:987: UserWarning: unknown class(es) ['Independence Day Buyers - Furnishing Stores', 'Independence Day Buyers - Grocery', 'Labor Day Buyers - Clothing Stores', 'Soul & R&B Fans', 'TV Network Viewers (Comedy Central)'] will be ignored\n",
      "  .format(sorted(unknown, key=str)))\n",
      "/Users/jonathant/anaconda3/lib/python3.7/site-packages/sklearn/preprocessing/_label.py:987: UserWarning: unknown class(es) ['Apparel Buyers', 'Baby & Toddler - Baby Food Buyers', 'Baby & Toddler - Baby Formula Buyers', 'Baby & Toddler - Baby HBC Buyers', 'Baby & Toddler - Baby HBC Buyers - Huggies Brands', 'Baby & Toddler - Disposable Diaper & Training Pant Buyers', 'Baby & Toddler - Disposable Diaper & Training Pant Buyers - Huggies Brands', 'Baby & Toddler - Disposable Diaper & Training Pant Buyers - Pampers Brands', 'Baby Product Buyers', 'Baby Store Buyers', 'Baby Store Buyers - Buy Buy Baby', 'Baby Store Buyers - Carters', 'Baby Store Buyers - Diapers.com', 'Black Friday & Cyber Monday Shoppers', 'Black Friday Buyers', 'Black Friday Buyers - Apparel', \"Children's Product Buyers\", \"Children's Product Shoppers\", 'Deal & Value Shoppers', 'Discount Buyers', 'Discount Store Shoppers', 'Food Buyers', 'Independence Day Buyers', 'Independence Day Buyers - Clothing Stores', 'Independence Day Buyers - Furnishing Stores', 'Independence Day Buyers - Grocery', 'Labor Day Buyers - Clothing Stores', 'Last 12 Months Buyers - Buybuy Baby', 'Mexican Food Shoppers', 'Money Minders', 'Post-Holiday Bargain Shoppers', 'Recent Buyers', 'TV Network Viewers (CBS)', 'TV Network Viewers (CMT)', 'TV Network Viewers (Comedy Central)', 'TV Network Viewers (FX)', 'nln_7168'] will be ignored\n",
      "  .format(sorted(unknown, key=str)))\n",
      "/Users/jonathant/anaconda3/lib/python3.7/site-packages/sklearn/preprocessing/_label.py:987: UserWarning: unknown class(es) ['Action & Thriller Genre Fans', 'Black Friday & Cyber Monday Shoppers', 'Comedy Fans', 'Crime & Mystery Genre Fans', 'Cycling Enthusiasts', 'Drama Genre Fans', 'Family Genre Fans', 'Horror Genre Fans', 'Movie Theater Goers', 'Post-Holiday Bargain Shoppers', 'Romance & Rom-Com Fans', 'Superhero Film Fans', 'TV Network Viewers (FX)', 'Talent & Competition Show Fans'] will be ignored\n",
      "  .format(sorted(unknown, key=str)))\n",
      "/Users/jonathant/anaconda3/lib/python3.7/site-packages/sklearn/preprocessing/_label.py:987: UserWarning: unknown class(es) ['Apparel Store Buyers - Charlotte Russe', 'Apparel Store Buyers - Express', 'Apparel Store Buyers - Guess', 'Apparel Store Buyers - H & M', 'Apparel Store Buyers - Michael Kors', 'Apparel Store Buyers - TJ Maxx', 'Apparel Store Buyers - Victorias Secret', 'Baby & Toddler - Baby Food Buyers', 'Baby & Toddler - Baby Formula Buyers', 'Baby & Toddler - Baby HBC Buyers', 'Baby & Toddler - Baby HBC Buyers - Huggies Brands', 'Baby & Toddler - Disposable Diaper & Training Pant Buyers', 'Baby & Toddler - Disposable Diaper & Training Pant Buyers - Huggies Brands', 'Baby & Toddler - Disposable Diaper & Training Pant Buyers - Pampers Brands', 'Baby Product Buyers', 'Baby Store Buyers', 'Baby Store Buyers - Buy Buy Baby', 'Baby Store Buyers - Carters', 'Baby Store Buyers - Diapers.com', 'Beauty and Fragrance Shoppers', \"Children's Product Buyers\", \"Children's Product Shoppers\", 'Food Buyers', 'Independence Day Buyers - Furnishing Stores', 'Independence Day Buyers - Grocery', 'Labor Day Buyers - Clothing Stores', 'Last 12 Months Buyers - Buybuy Baby', \"Men's Apparel Shoppers\", 'Mexican Food Shoppers', 'Recent Buyers', 'Soul & R&B Fans', 'Sporting Goods Buyers - Bass Pro Shop', 'Sporting Goods Buyers - Cabelas', 'TV Network Viewers (Comedy Central)', \"Women's Apparel Shoppers\", 'nln_7168'] will be ignored\n",
      "  .format(sorted(unknown, key=str)))\n",
      "/Users/jonathant/anaconda3/lib/python3.7/site-packages/sklearn/preprocessing/_label.py:987: UserWarning: unknown class(es) ['Action & Thriller Genre Fans', 'Black Friday Online Buyers - Amazon', 'Comedy Fans', 'Crime & Mystery Genre Fans', 'Cycling Enthusiasts', 'Drama Genre Fans', 'Family Genre Fans', 'Horror Genre Fans', 'Movie Theater Goers', 'Romance & Rom-Com Fans', 'Superhero Film Fans', 'Talent & Competition Show Fans'] will be ignored\n",
      "  .format(sorted(unknown, key=str)))\n",
      "/Users/jonathant/anaconda3/lib/python3.7/site-packages/sklearn/preprocessing/_label.py:987: UserWarning: unknown class(es) ['Action & Thriller Genre Fans', 'Baby & Toddler - Baby Food Buyers', 'Baby & Toddler - Baby Formula Buyers', 'Baby & Toddler - Baby HBC Buyers', 'Baby & Toddler - Baby HBC Buyers - Huggies Brands', 'Baby & Toddler - Disposable Diaper & Training Pant Buyers', 'Baby & Toddler - Disposable Diaper & Training Pant Buyers - Huggies Brands', 'Baby & Toddler - Disposable Diaper & Training Pant Buyers - Pampers Brands', 'Baby Product Buyers', 'Baby Store Buyers', 'Baby Store Buyers - Buy Buy Baby', 'Baby Store Buyers - Carters', 'Baby Store Buyers - Diapers.com', 'Black Friday & Cyber Monday Shoppers', \"Children's Product Buyers\", \"Children's Product Shoppers\", 'Comedy Fans', 'Crime & Mystery Genre Fans', 'Cycling Enthusiasts', 'Drama Genre Fans', 'Family Genre Fans', 'Food Buyers', 'Horror Genre Fans', 'Last 12 Months Buyers - Buybuy Baby', \"Men's Apparel Shoppers\", 'Movie Theater Goers', 'Post-Holiday Bargain Shoppers', 'Recent Buyers', 'Romance & Rom-Com Fans', 'Sporting Goods Buyers - Bass Pro Shop', 'Sporting Goods Buyers - Cabelas', 'Superhero Film Fans', 'TV Network Viewers (FX)', 'Talent & Competition Show Fans', 'nln_7168'] will be ignored\n",
      "  .format(sorted(unknown, key=str)))\n",
      "/Users/jonathant/anaconda3/lib/python3.7/site-packages/sklearn/preprocessing/_label.py:987: UserWarning: unknown class(es) ['Black Friday & Cyber Monday Shoppers', 'Black Friday Online Buyers - Amazon', 'Mexican Food Shoppers', 'Pet Owners', 'Post-Holiday Bargain Shoppers', 'Soul & R&B Fans', 'Supermarket Buyers - Whole Foods Market', 'TV Network Viewers (FX)', 'Vegans & Organic Foodies'] will be ignored\n",
      "  .format(sorted(unknown, key=str)))\n",
      "/Users/jonathant/anaconda3/lib/python3.7/site-packages/sklearn/preprocessing/_label.py:987: UserWarning: unknown class(es) ['Action & Thriller Genre Fans', 'Baby & Toddler - Baby Food Buyers', 'Baby & Toddler - Baby Formula Buyers', 'Baby & Toddler - Baby HBC Buyers', 'Baby & Toddler - Baby HBC Buyers - Huggies Brands', 'Baby & Toddler - Disposable Diaper & Training Pant Buyers', 'Baby & Toddler - Disposable Diaper & Training Pant Buyers - Huggies Brands', 'Baby & Toddler - Disposable Diaper & Training Pant Buyers - Pampers Brands', 'Baby Product Buyers', 'Baby Store Buyers', 'Baby Store Buyers - Buy Buy Baby', 'Baby Store Buyers - Carters', 'Baby Store Buyers - Diapers.com', 'Big Box Store Buyers - Walmart', \"Children's Product Buyers\", \"Children's Product Shoppers\", 'Comedy Fans', 'Drama Genre Fans', 'Family Genre Fans', 'Food Buyers', 'Horror Genre Fans', 'Last 12 Months Buyers - Buybuy Baby', 'Last 12 Months Buyers - Walmart', \"Men's Apparel Shoppers\", 'Movie Theater Goers', 'Pet Owners', 'Recent Buyers', 'Romance & Rom-Com Fans', 'Sporting Goods Buyers - Bass Pro Shop', 'Sporting Goods Buyers - Cabelas', 'Superhero Film Fans', 'Talent & Competition Show Fans', 'nln_7168'] will be ignored\n",
      "  .format(sorted(unknown, key=str)))\n"
     ]
    },
    {
     "name": "stderr",
     "output_type": "stream",
     "text": [
      "/Users/jonathant/anaconda3/lib/python3.7/site-packages/sklearn/preprocessing/_label.py:987: UserWarning: unknown class(es) ['Black Friday & Cyber Monday Shoppers', 'Last 12 Months Buyers - Urban Outfitters', 'Pet Owners', 'Post-Holiday Bargain Shoppers', 'TV Network Viewers (FX)'] will be ignored\n",
      "  .format(sorted(unknown, key=str)))\n",
      "/Users/jonathant/anaconda3/lib/python3.7/site-packages/sklearn/preprocessing/_label.py:987: UserWarning: unknown class(es) ['Baby & Toddler - Baby Food Buyers', 'Baby & Toddler - Baby Formula Buyers', 'Baby & Toddler - Baby HBC Buyers', 'Baby & Toddler - Baby HBC Buyers - Huggies Brands', 'Baby & Toddler - Disposable Diaper & Training Pant Buyers', 'Baby & Toddler - Disposable Diaper & Training Pant Buyers - Huggies Brands', 'Baby & Toddler - Disposable Diaper & Training Pant Buyers - Pampers Brands', 'Baby Product Buyers', 'Baby Store Buyers', 'Baby Store Buyers - Buy Buy Baby', 'Baby Store Buyers - Carters', 'Baby Store Buyers - Diapers.com', \"Children's Product Buyers\", \"Children's Product Shoppers\", 'Crime & Mystery Genre Fans', 'Cycling Enthusiasts', 'Food Buyers', 'Last 12 Months Buyers - Buybuy Baby', 'Last 12 Months Buyers - Urban Outfitters', 'Mexican Food Shoppers', 'Pet Owners', 'Recent Buyers', 'TV Viewers (Science Fiction & Fantasy)', 'nln_7168'] will be ignored\n",
      "  .format(sorted(unknown, key=str)))\n",
      "/Users/jonathant/anaconda3/lib/python3.7/site-packages/sklearn/preprocessing/_label.py:987: UserWarning: unknown class(es) ['Action & Thriller Genre Fans', 'Black Friday & Cyber Monday Shoppers', 'Comedy Fans', 'Drama Genre Fans', 'Family Genre Fans', 'Horror Genre Fans', 'Movie Theater Goers', 'Pet Owners', 'Post-Holiday Bargain Shoppers', 'Romance & Rom-Com Fans', 'Superhero Film Fans', 'TV Network Viewers (FX)', 'Talent & Competition Show Fans'] will be ignored\n",
      "  .format(sorted(unknown, key=str)))\n",
      "/Users/jonathant/anaconda3/lib/python3.7/site-packages/sklearn/preprocessing/_label.py:987: UserWarning: unknown class(es) ['Black Friday & Cyber Monday Shoppers', 'Post-Holiday Bargain Shoppers', 'TV Network Viewers (FX)'] will be ignored\n",
      "  .format(sorted(unknown, key=str)))\n",
      "/Users/jonathant/anaconda3/lib/python3.7/site-packages/sklearn/preprocessing/_label.py:987: UserWarning: unknown class(es) ['American Football Fans', 'Automotive Shoppers', 'Baseball Fans', 'Big Box Store Buyers - Walmart', 'Black Friday & Cyber Monday Shoppers', 'College Basketball Fans', 'Cosmetics Shoppers', 'Fight & Wrestling Fans', 'Frequent Travelers', 'Last 12 Months Buyers - Walmart', 'Post-Holiday Bargain Shoppers', 'Street Sport Enthusiasts', 'TV Network Viewers (FX)', 'Water Sport Enthusiasts'] will be ignored\n",
      "  .format(sorted(unknown, key=str)))\n",
      "/Users/jonathant/anaconda3/lib/python3.7/site-packages/sklearn/preprocessing/_label.py:987: UserWarning: unknown class(es) ['Baby & Toddler - Baby Food Buyers', 'Baby & Toddler - Baby Formula Buyers', 'Baby & Toddler - Baby HBC Buyers', 'Baby & Toddler - Baby HBC Buyers - Huggies Brands', 'Baby & Toddler - Disposable Diaper & Training Pant Buyers', 'Baby & Toddler - Disposable Diaper & Training Pant Buyers - Huggies Brands', 'Baby & Toddler - Disposable Diaper & Training Pant Buyers - Pampers Brands', 'Baby Product Buyers', 'Baby Store Buyers', 'Baby Store Buyers - Buy Buy Baby', 'Baby Store Buyers - Carters', 'Baby Store Buyers - Diapers.com', 'Big Box Store Buyers - Walmart', \"Children's Product Buyers\", \"Children's Product Shoppers\", 'Crime & Mystery Genre Fans', 'Cycling Enthusiasts', 'Food Buyers', 'Last 12 Months Buyers - Buybuy Baby', 'Last 12 Months Buyers - Walmart', \"Men's Apparel Shoppers\", 'Pet Owners', 'Recent Buyers', 'Sporting Goods Buyers - Bass Pro Shop', 'Sporting Goods Buyers - Cabelas', 'nln_7168'] will be ignored\n",
      "  .format(sorted(unknown, key=str)))\n",
      "/Users/jonathant/anaconda3/lib/python3.7/site-packages/sklearn/preprocessing/_label.py:987: UserWarning: unknown class(es) ['Crime & Mystery Genre Fans', 'Cycling Enthusiasts', 'TV Viewers (Science Fiction & Fantasy)'] will be ignored\n",
      "  .format(sorted(unknown, key=str)))\n",
      "/Users/jonathant/anaconda3/lib/python3.7/site-packages/sklearn/preprocessing/_label.py:987: UserWarning: unknown class(es) ['Apparel Buyers', 'Apparel Store Buyers - Charlotte Russe', 'Apparel Store Buyers - Express', 'Apparel Store Buyers - Guess', 'Apparel Store Buyers - H & M', 'Apparel Store Buyers - Michael Kors', 'Apparel Store Buyers - TJ Maxx', 'Apparel Store Buyers - Victorias Secret', 'Beauty and Fragrance Shoppers', 'Big Box Store Buyers - Walmart', 'Black Friday & Cyber Monday Shoppers', 'Black Friday Buyers', 'Black Friday Buyers - Apparel', 'Deal & Value Shoppers', 'Discount Buyers', 'Discount Store Shoppers', 'Holiday Online Buyers - Apparel', 'Independence Day Buyers', 'Independence Day Buyers - Clothing Stores', 'Independence Day Buyers - Furnishing Stores', 'Independence Day Buyers - Grocery', 'Labor Day Buyers - Clothing Stores', 'Last 12 Months Buyers - Walmart', \"Men's Apparel Shoppers\", 'Money Minders', 'Post-Holiday Bargain Shoppers', 'Sporting Goods Buyers - Bass Pro Shop', 'Sporting Goods Buyers - Cabelas', 'TV Network Viewers (CBS)', 'TV Network Viewers (CMT)', 'TV Network Viewers (Comedy Central)', 'TV Network Viewers (FX)', \"Women's Apparel Shoppers\"] will be ignored\n",
      "  .format(sorted(unknown, key=str)))\n",
      "/Users/jonathant/anaconda3/lib/python3.7/site-packages/sklearn/preprocessing/_label.py:987: UserWarning: unknown class(es) ['Action & Thriller Genre Fans', 'Apparel Store Buyers - Charlotte Russe', 'Apparel Store Buyers - Express', 'Apparel Store Buyers - Guess', 'Apparel Store Buyers - H & M', 'Apparel Store Buyers - Michael Kors', 'Apparel Store Buyers - TJ Maxx', 'Apparel Store Buyers - Victorias Secret', 'Baby & Toddler - Baby Food Buyers', 'Baby & Toddler - Baby Formula Buyers', 'Baby & Toddler - Baby HBC Buyers', 'Baby & Toddler - Baby HBC Buyers - Huggies Brands', 'Baby & Toddler - Disposable Diaper & Training Pant Buyers', 'Baby & Toddler - Disposable Diaper & Training Pant Buyers - Huggies Brands', 'Baby & Toddler - Disposable Diaper & Training Pant Buyers - Pampers Brands', 'Baby Product Buyers', 'Baby Store Buyers', 'Baby Store Buyers - Buy Buy Baby', 'Baby Store Buyers - Carters', 'Baby Store Buyers - Diapers.com', 'Beauty and Fragrance Shoppers', \"Children's Product Buyers\", \"Children's Product Shoppers\", 'Comedy Fans', 'Drama Genre Fans', 'Family Genre Fans', 'Food Buyers', 'Horror Genre Fans', 'Last 12 Months Buyers - Buybuy Baby', 'Movie Theater Goers', 'Recent Buyers', 'Romance & Rom-Com Fans', 'Superhero Film Fans', 'Talent & Competition Show Fans', \"Women's Apparel Shoppers\", 'nln_7168'] will be ignored\n",
      "  .format(sorted(unknown, key=str)))\n",
      "/Users/jonathant/anaconda3/lib/python3.7/site-packages/sklearn/preprocessing/_label.py:987: UserWarning: unknown class(es) ['Action & Thriller Genre Fans', 'Big Box Store Buyers - Walmart', 'Comedy Fans', 'Concert Venues', 'Drama Genre Fans', 'Family Genre Fans', 'Horror Genre Fans', 'Last 12 Months Buyers - Walmart', 'Movie Theater Goers', 'Romance & Rom-Com Fans', 'Superhero Film Fans', 'Talent & Competition Show Fans'] will be ignored\n",
      "  .format(sorted(unknown, key=str)))\n",
      "/Users/jonathant/anaconda3/lib/python3.7/site-packages/sklearn/preprocessing/_label.py:987: UserWarning: unknown class(es) ['Baby & Toddler - Baby Food Buyers', 'Baby & Toddler - Baby Formula Buyers', 'Baby & Toddler - Baby HBC Buyers', 'Baby & Toddler - Baby HBC Buyers - Huggies Brands', 'Baby & Toddler - Disposable Diaper & Training Pant Buyers', 'Baby & Toddler - Disposable Diaper & Training Pant Buyers - Huggies Brands', 'Baby & Toddler - Disposable Diaper & Training Pant Buyers - Pampers Brands', 'Baby Product Buyers', 'Baby Store Buyers', 'Baby Store Buyers - Buy Buy Baby', 'Baby Store Buyers - Carters', 'Baby Store Buyers - Diapers.com', \"Children's Product Buyers\", \"Children's Product Shoppers\", 'Food Buyers', 'Independence Day Buyers - Furnishing Stores', 'Independence Day Buyers - Grocery', 'Labor Day Buyers - Clothing Stores', 'Last 12 Months Buyers - Buybuy Baby', 'Recent Buyers', 'Supermarket Buyers - Whole Foods Market', 'TV Network Viewers (Comedy Central)', 'nln_7168'] will be ignored\n",
      "  .format(sorted(unknown, key=str)))\n",
      "/Users/jonathant/anaconda3/lib/python3.7/site-packages/sklearn/preprocessing/_label.py:987: UserWarning: unknown class(es) ['Apparel Store Buyers - Charlotte Russe', 'Apparel Store Buyers - Express', 'Apparel Store Buyers - Guess', 'Apparel Store Buyers - H & M', 'Apparel Store Buyers - Michael Kors', 'Apparel Store Buyers - TJ Maxx', 'Apparel Store Buyers - Victorias Secret', 'Beauty and Fragrance Shoppers', 'Mexican Food Shoppers', 'Pet Owners', 'Supermarket Buyers - Whole Foods Market', \"Women's Apparel Shoppers\"] will be ignored\n",
      "  .format(sorted(unknown, key=str)))\n"
     ]
    },
    {
     "name": "stderr",
     "output_type": "stream",
     "text": [
      "/Users/jonathant/anaconda3/lib/python3.7/site-packages/sklearn/preprocessing/_label.py:987: UserWarning: unknown class(es) ['Action & Thriller Genre Fans', 'Big Box Store Buyers - Walmart', 'Comedy Fans', 'Drama Genre Fans', 'Family Genre Fans', 'Horror Genre Fans', 'Independence Day Buyers - Furnishing Stores', 'Independence Day Buyers - Grocery', 'Labor Day Buyers - Clothing Stores', 'Last 12 Months Buyers - Walmart', 'Movie Theater Goers', 'Romance & Rom-Com Fans', 'Superhero Film Fans', 'TV Network Viewers (Comedy Central)', 'Talent & Competition Show Fans'] will be ignored\n",
      "  .format(sorted(unknown, key=str)))\n",
      "/Users/jonathant/anaconda3/lib/python3.7/site-packages/sklearn/preprocessing/_label.py:987: UserWarning: unknown class(es) ['Apparel Store Buyers - Charlotte Russe', 'Apparel Store Buyers - Express', 'Apparel Store Buyers - Guess', 'Apparel Store Buyers - H & M', 'Apparel Store Buyers - Michael Kors', 'Apparel Store Buyers - TJ Maxx', 'Apparel Store Buyers - Victorias Secret', 'Beauty and Fragrance Shoppers', 'Big Box Store Buyers - Walmart', 'Independence Day Buyers - Furnishing Stores', 'Independence Day Buyers - Grocery', 'Labor Day Buyers - Clothing Stores', 'Last 12 Months Buyers - Walmart', 'Pet Owners', 'Soul & R&B Fans', 'Supermarket Buyers - Whole Foods Market', 'TV Network Viewers (Comedy Central)', 'Vegans & Organic Foodies', \"Women's Apparel Shoppers\"] will be ignored\n",
      "  .format(sorted(unknown, key=str)))\n",
      "/Users/jonathant/anaconda3/lib/python3.7/site-packages/sklearn/preprocessing/_label.py:987: UserWarning: unknown class(es) ['Crime & Mystery Genre Fans', 'Cycling Enthusiasts', 'Soul & R&B Fans'] will be ignored\n",
      "  .format(sorted(unknown, key=str)))\n",
      "/Users/jonathant/anaconda3/lib/python3.7/site-packages/sklearn/preprocessing/_label.py:987: UserWarning: unknown class(es) ['Action & Thriller Genre Fans', 'Comedy Fans', 'Crime & Mystery Genre Fans', 'Cycling Enthusiasts', 'Drama Genre Fans', 'Family Genre Fans', 'Horror Genre Fans', 'Movie Theater Goers', 'Romance & Rom-Com Fans', 'Soul & R&B Fans', 'Superhero Film Fans', 'Talent & Competition Show Fans'] will be ignored\n",
      "  .format(sorted(unknown, key=str)))\n",
      "/Users/jonathant/anaconda3/lib/python3.7/site-packages/sklearn/preprocessing/_label.py:987: UserWarning: unknown class(es) ['Mexican Food Shoppers', 'Supermarket Buyers - Whole Foods Market'] will be ignored\n",
      "  .format(sorted(unknown, key=str)))\n",
      "/Users/jonathant/anaconda3/lib/python3.7/site-packages/sklearn/preprocessing/_label.py:987: UserWarning: unknown class(es) ['Concert Venues', 'Crime & Mystery Genre Fans', 'Cycling Enthusiasts', 'Last 12 Months Buyers - Urban Outfitters'] will be ignored\n",
      "  .format(sorted(unknown, key=str)))\n",
      "/Users/jonathant/anaconda3/lib/python3.7/site-packages/sklearn/preprocessing/_label.py:987: UserWarning: unknown class(es) ['Baby & Toddler - Baby Food Buyers', 'Baby & Toddler - Baby Formula Buyers', 'Baby & Toddler - Baby HBC Buyers', 'Baby & Toddler - Baby HBC Buyers - Huggies Brands', 'Baby & Toddler - Disposable Diaper & Training Pant Buyers', 'Baby & Toddler - Disposable Diaper & Training Pant Buyers - Huggies Brands', 'Baby & Toddler - Disposable Diaper & Training Pant Buyers - Pampers Brands', 'Baby Product Buyers', 'Baby Store Buyers', 'Baby Store Buyers - Buy Buy Baby', 'Baby Store Buyers - Carters', 'Baby Store Buyers - Diapers.com', \"Children's Product Buyers\", \"Children's Product Shoppers\", 'Crime & Mystery Genre Fans', 'Cycling Enthusiasts', 'Food Buyers', 'Last 12 Months Buyers - Buybuy Baby', 'Recent Buyers', 'nln_7168'] will be ignored\n",
      "  .format(sorted(unknown, key=str)))\n",
      "/Users/jonathant/anaconda3/lib/python3.7/site-packages/sklearn/preprocessing/_label.py:987: UserWarning: unknown class(es) ['Apparel Buyers', 'Big Box Store Buyers - Walmart', 'Black Friday & Cyber Monday Shoppers', 'Black Friday Buyers', 'Black Friday Buyers - Apparel', 'Deal & Value Shoppers', 'Discount Buyers', 'Discount Store Shoppers', 'Independence Day Buyers', 'Independence Day Buyers - Clothing Stores', 'Independence Day Buyers - Furnishing Stores', 'Independence Day Buyers - Grocery', 'Labor Day Buyers - Clothing Stores', 'Last 12 Months Buyers - Walmart', 'Money Minders', 'Pet Owners', 'Post-Holiday Bargain Shoppers', 'TV Network Viewers (CBS)', 'TV Network Viewers (CMT)', 'TV Network Viewers (Comedy Central)', 'TV Network Viewers (FX)'] will be ignored\n",
      "  .format(sorted(unknown, key=str)))\n",
      "/Users/jonathant/anaconda3/lib/python3.7/site-packages/sklearn/preprocessing/_label.py:987: UserWarning: unknown class(es) ['Big Box Store Buyers - Walmart', 'Independence Day Buyers - Furnishing Stores', 'Independence Day Buyers - Grocery', 'Labor Day Buyers - Clothing Stores', 'Last 12 Months Buyers - Walmart', 'Mexican Food Shoppers', 'TV Network Viewers (Comedy Central)', 'TV Viewers (Science Fiction & Fantasy)'] will be ignored\n",
      "  .format(sorted(unknown, key=str)))\n",
      "/Users/jonathant/anaconda3/lib/python3.7/site-packages/sklearn/preprocessing/_label.py:987: UserWarning: unknown class(es) ['Black Friday & Cyber Monday Shoppers', 'Post-Holiday Bargain Shoppers', 'TV Network Viewers (FX)', 'TV Viewers (Science Fiction & Fantasy)'] will be ignored\n",
      "  .format(sorted(unknown, key=str)))\n",
      "/Users/jonathant/anaconda3/lib/python3.7/site-packages/sklearn/preprocessing/_label.py:987: UserWarning: unknown class(es) ['Independence Day Buyers - Furnishing Stores', 'Independence Day Buyers - Grocery', 'Labor Day Buyers - Clothing Stores', \"Men's Apparel Shoppers\", 'Sporting Goods Buyers - Bass Pro Shop', 'Sporting Goods Buyers - Cabelas', 'Supermarket Buyers - Whole Foods Market', 'TV Network Viewers (Comedy Central)'] will be ignored\n",
      "  .format(sorted(unknown, key=str)))\n",
      "/Users/jonathant/anaconda3/lib/python3.7/site-packages/sklearn/preprocessing/_label.py:987: UserWarning: unknown class(es) ['Black Friday Online Buyers - Amazon', \"Men's Apparel Shoppers\", 'Pet Owners', 'Sporting Goods Buyers - Bass Pro Shop', 'Sporting Goods Buyers - Cabelas'] will be ignored\n",
      "  .format(sorted(unknown, key=str)))\n",
      "/Users/jonathant/anaconda3/lib/python3.7/site-packages/sklearn/preprocessing/_label.py:987: UserWarning: unknown class(es) ['Action & Thriller Genre Fans', 'Big Box Store Buyers - Walmart', 'Comedy Fans', 'Drama Genre Fans', 'Family Genre Fans', 'Horror Genre Fans', 'Last 12 Months Buyers - Urban Outfitters', 'Last 12 Months Buyers - Walmart', \"Men's Apparel Shoppers\", 'Mexican Food Shoppers', 'Movie Theater Goers', 'Romance & Rom-Com Fans', 'Sporting Goods Buyers - Bass Pro Shop', 'Sporting Goods Buyers - Cabelas', 'Superhero Film Fans', 'Talent & Competition Show Fans'] will be ignored\n",
      "  .format(sorted(unknown, key=str)))\n",
      "/Users/jonathant/anaconda3/lib/python3.7/site-packages/sklearn/preprocessing/_label.py:987: UserWarning: unknown class(es) ['Action & Thriller Genre Fans', 'Big Box Store Buyers - Walmart', 'Black Friday Online Buyers - Amazon', 'Comedy Fans', 'Cyber Monday Online Buyers - Amazon', 'Dallas Cowboys Fans', 'Drama Genre Fans', 'Family Genre Fans', 'Heavy Holiday Buyers - Amazon', 'Horror Genre Fans', 'Houston Texans Fans', 'Last 12 Months Buyers - Walmart', \"Men's Apparel Shoppers\", 'Mexican Food Shoppers', 'Movie Theater Goers', 'New Chevrolet Truck Shoppers', 'New Ford Truck Shoppers', 'New Orleans Saints Fans', 'New RAM Truck Shoppers', 'Romance & Rom-Com Fans', 'Sporting Goods Buyers - Bass Pro Shop', 'Sporting Goods Buyers - Cabelas', 'Superhero Film Fans', 'Talent & Competition Show Fans', 'Tampa Bay Buccaneers Fans', 'Tennessee Titans Fans', 'Walmart Stores', 'eCommerce Buyers - Amazon - Heavy Buyers'] will be ignored\n",
      "  .format(sorted(unknown, key=str)))\n",
      "/Users/jonathant/anaconda3/lib/python3.7/site-packages/sklearn/preprocessing/_label.py:987: UserWarning: unknown class(es) ['Baby & Toddler - Baby Food Buyers', 'Baby & Toddler - Baby Formula Buyers', 'Baby & Toddler - Baby HBC Buyers', 'Baby & Toddler - Baby HBC Buyers - Huggies Brands', 'Baby & Toddler - Disposable Diaper & Training Pant Buyers', 'Baby & Toddler - Disposable Diaper & Training Pant Buyers - Huggies Brands', 'Baby & Toddler - Disposable Diaper & Training Pant Buyers - Pampers Brands', 'Baby Product Buyers', 'Baby Store Buyers', 'Baby Store Buyers - Buy Buy Baby', 'Baby Store Buyers - Carters', 'Baby Store Buyers - Diapers.com', \"Children's Product Buyers\", \"Children's Product Shoppers\", 'Crime & Mystery Genre Fans', 'Cycling Enthusiasts', 'Food Buyers', 'Last 12 Months Buyers - Buybuy Baby', \"Men's Apparel Shoppers\", 'Recent Buyers', 'Soul & R&B Fans', 'Sporting Goods Buyers - Bass Pro Shop', 'Sporting Goods Buyers - Cabelas', 'Supermarket Buyers - Whole Foods Market', 'nln_7168'] will be ignored\n",
      "  .format(sorted(unknown, key=str)))\n",
      "/Users/jonathant/anaconda3/lib/python3.7/site-packages/sklearn/preprocessing/_label.py:987: UserWarning: unknown class(es) ['Black Friday Online Buyers - Amazon', 'Pet Owners', 'Supermarket Buyers - Whole Foods Market'] will be ignored\n",
      "  .format(sorted(unknown, key=str)))\n"
     ]
    },
    {
     "name": "stderr",
     "output_type": "stream",
     "text": [
      "/Users/jonathant/anaconda3/lib/python3.7/site-packages/sklearn/preprocessing/_label.py:987: UserWarning: unknown class(es) ['Black Friday Online Buyers - Amazon', 'Supermarket Buyers - Whole Foods Market'] will be ignored\n",
      "  .format(sorted(unknown, key=str)))\n",
      "/Users/jonathant/anaconda3/lib/python3.7/site-packages/sklearn/preprocessing/_label.py:987: UserWarning: unknown class(es) ['Big Box Store Buyers - Walmart', 'Black Friday Online Buyers - Amazon', 'Cyber Monday Online Buyers - Amazon', 'Dallas Cowboys Fans', 'Heavy Holiday Buyers - Amazon', 'Houston Texans Fans', 'Last 12 Months Buyers - Walmart', 'New Chevrolet Truck Shoppers', 'New Ford Truck Shoppers', 'New Orleans Saints Fans', 'New RAM Truck Shoppers', 'Pet Owners', 'Soul & R&B Fans', 'Supermarket Buyers - Whole Foods Market', 'TV Viewers (Science Fiction & Fantasy)', 'Tampa Bay Buccaneers Fans', 'Tennessee Titans Fans', 'Vegans & Organic Foodies', 'Walmart Stores', 'eCommerce Buyers - Amazon - Heavy Buyers'] will be ignored\n",
      "  .format(sorted(unknown, key=str)))\n",
      "/Users/jonathant/anaconda3/lib/python3.7/site-packages/sklearn/preprocessing/_label.py:987: UserWarning: unknown class(es) ['Black Friday Online Buyers - Amazon', \"Men's Apparel Shoppers\", 'Mexican Food Shoppers', 'Sporting Goods Buyers - Bass Pro Shop', 'Sporting Goods Buyers - Cabelas', 'Supermarket Buyers - Whole Foods Market'] will be ignored\n",
      "  .format(sorted(unknown, key=str)))\n",
      "/Users/jonathant/anaconda3/lib/python3.7/site-packages/sklearn/preprocessing/_label.py:987: UserWarning: unknown class(es) ['Action & Thriller Genre Fans', 'Big Box Store Buyers - Walmart', 'Comedy Fans', 'Drama Genre Fans', 'Family Genre Fans', 'Horror Genre Fans', 'Last 12 Months Buyers - Walmart', \"Men's Apparel Shoppers\", 'Mexican Food Shoppers', 'Movie Theater Goers', 'Romance & Rom-Com Fans', 'Sporting Goods Buyers - Bass Pro Shop', 'Sporting Goods Buyers - Cabelas', 'Superhero Film Fans', 'Supermarket Buyers - Whole Foods Market', 'Talent & Competition Show Fans'] will be ignored\n",
      "  .format(sorted(unknown, key=str)))\n",
      "/Users/jonathant/anaconda3/lib/python3.7/site-packages/sklearn/preprocessing/_label.py:987: UserWarning: unknown class(es) ['Apparel Buyers', 'Apparel Shoppers', 'Baby & Toddler - Baby Food Buyers', 'Baby & Toddler - Baby Formula Buyers', 'Baby & Toddler - Baby HBC Buyers', 'Baby & Toddler - Baby HBC Buyers - Huggies Brands', 'Baby & Toddler - Disposable Diaper & Training Pant Buyers', 'Baby & Toddler - Disposable Diaper & Training Pant Buyers - Huggies Brands', 'Baby & Toddler - Disposable Diaper & Training Pant Buyers - Pampers Brands', 'Baby Product Buyers', 'Baby Store Buyers', 'Baby Store Buyers - Buy Buy Baby', 'Baby Store Buyers - Carters', 'Baby Store Buyers - Diapers.com', 'Black Friday & Cyber Monday Shoppers', 'Black Friday Buyers', 'Black Friday Buyers - Apparel', \"Children's Product Buyers\", \"Children's Product Shoppers\", 'Deal & Value Shoppers', 'Discount Buyers', 'Discount Store Shoppers', 'Food Buyers', 'Independence Day Buyers', 'Independence Day Buyers - Clothing Stores', 'Independence Day Buyers - Furnishing Stores', 'Independence Day Buyers - Grocery', 'Labor Day Buyers - Clothing Stores', 'Last 12 Months Buyers - Buybuy Baby', 'Money Minders', 'Post-Holiday Bargain Shoppers', 'Recent Buyers', 'Supermarket Buyers - Whole Foods Market', 'TV Network Viewers (CBS)', 'TV Network Viewers (CMT)', 'TV Network Viewers (Comedy Central)', 'TV Network Viewers (FX)', 'nln_7168'] will be ignored\n",
      "  .format(sorted(unknown, key=str)))\n",
      "/Users/jonathant/anaconda3/lib/python3.7/site-packages/sklearn/preprocessing/_label.py:987: UserWarning: unknown class(es) ['Apparel Store Buyers - Charlotte Russe', 'Apparel Store Buyers - Express', 'Apparel Store Buyers - Guess', 'Apparel Store Buyers - H & M', 'Apparel Store Buyers - Michael Kors', 'Apparel Store Buyers - TJ Maxx', 'Apparel Store Buyers - Victorias Secret', 'Baby & Toddler - Baby Food Buyers', 'Baby & Toddler - Baby Formula Buyers', 'Baby & Toddler - Baby HBC Buyers', 'Baby & Toddler - Baby HBC Buyers - Huggies Brands', 'Baby & Toddler - Disposable Diaper & Training Pant Buyers', 'Baby & Toddler - Disposable Diaper & Training Pant Buyers - Huggies Brands', 'Baby & Toddler - Disposable Diaper & Training Pant Buyers - Pampers Brands', 'Baby Product Buyers', 'Baby Store Buyers', 'Baby Store Buyers - Buy Buy Baby', 'Baby Store Buyers - Carters', 'Baby Store Buyers - Diapers.com', 'Beauty and Fragrance Shoppers', \"Children's Product Buyers\", \"Children's Product Shoppers\", 'Crime & Mystery Genre Fans', 'Cycling Enthusiasts', 'Food Buyers', 'Independence Day Buyers - Furnishing Stores', 'Independence Day Buyers - Grocery', 'Labor Day Buyers - Clothing Stores', 'Last 12 Months Buyers - Buybuy Baby', 'Recent Buyers', 'Soul & R&B Fans', 'Supermarket Buyers - Whole Foods Market', 'TV Network Viewers (Comedy Central)', 'TV Viewers (Science Fiction & Fantasy)', \"Women's Apparel Shoppers\", 'nln_7168'] will be ignored\n",
      "  .format(sorted(unknown, key=str)))\n",
      "/Users/jonathant/anaconda3/lib/python3.7/site-packages/sklearn/preprocessing/_label.py:987: UserWarning: unknown class(es) ['Big Box Store Buyers - Walmart', 'Concert Venues', 'Crime & Mystery Genre Fans', 'Cycling Enthusiasts', 'Last 12 Months Buyers - Walmart', \"Men's Apparel Shoppers\", 'Mexican Food Shoppers', 'Pet Owners', 'Sporting Goods Buyers - Bass Pro Shop', 'Sporting Goods Buyers - Cabelas'] will be ignored\n",
      "  .format(sorted(unknown, key=str)))\n",
      "/Users/jonathant/anaconda3/lib/python3.7/site-packages/sklearn/preprocessing/_label.py:987: UserWarning: unknown class(es) ['Big Box Store Buyers - Walmart', 'Independence Day Buyers - Furnishing Stores', 'Independence Day Buyers - Grocery', 'Labor Day Buyers - Clothing Stores', 'Last 12 Months Buyers - Walmart', 'Mexican Food Shoppers', 'Soul & R&B Fans', 'TV Network Viewers (Comedy Central)'] will be ignored\n",
      "  .format(sorted(unknown, key=str)))\n",
      "/Users/jonathant/anaconda3/lib/python3.7/site-packages/sklearn/preprocessing/_label.py:987: UserWarning: unknown class(es) ['Baby & Toddler - Baby Food Buyers', 'Baby & Toddler - Baby Formula Buyers', 'Baby & Toddler - Baby HBC Buyers', 'Baby & Toddler - Baby HBC Buyers - Huggies Brands', 'Baby & Toddler - Disposable Diaper & Training Pant Buyers', 'Baby & Toddler - Disposable Diaper & Training Pant Buyers - Huggies Brands', 'Baby & Toddler - Disposable Diaper & Training Pant Buyers - Pampers Brands', 'Baby Product Buyers', 'Baby Store Buyers', 'Baby Store Buyers - Buy Buy Baby', 'Baby Store Buyers - Carters', 'Baby Store Buyers - Diapers.com', \"Children's Product Buyers\", \"Children's Product Shoppers\", 'Food Buyers', 'Last 12 Months Buyers - Buybuy Baby', 'Recent Buyers', 'Soul & R&B Fans', 'Supermarket Buyers - Whole Foods Market', 'nln_7168'] will be ignored\n",
      "  .format(sorted(unknown, key=str)))\n",
      "/Users/jonathant/anaconda3/lib/python3.7/site-packages/sklearn/preprocessing/_label.py:987: UserWarning: unknown class(es) ['Black Friday & Cyber Monday Shoppers', 'Pet Owners', 'Post-Holiday Bargain Shoppers', 'TV Network Viewers (FX)'] will be ignored\n",
      "  .format(sorted(unknown, key=str)))\n",
      "/Users/jonathant/anaconda3/lib/python3.7/site-packages/sklearn/preprocessing/_label.py:987: UserWarning: unknown class(es) ['Apparel Store Buyers - Charlotte Russe', 'Apparel Store Buyers - Express', 'Apparel Store Buyers - Guess', 'Apparel Store Buyers - H & M', 'Apparel Store Buyers - Michael Kors', 'Apparel Store Buyers - TJ Maxx', 'Apparel Store Buyers - Victorias Secret', 'Beauty and Fragrance Shoppers', 'Black Friday & Cyber Monday Shoppers', 'Post-Holiday Bargain Shoppers', 'Soul & R&B Fans', 'Supermarket Buyers - Whole Foods Market', 'TV Network Viewers (FX)', 'TV Viewers (Science Fiction & Fantasy)', \"Women's Apparel Shoppers\"] will be ignored\n",
      "  .format(sorted(unknown, key=str)))\n",
      "/Users/jonathant/anaconda3/lib/python3.7/site-packages/sklearn/preprocessing/_label.py:987: UserWarning: unknown class(es) ['Black Friday & Cyber Monday Shoppers', 'Post-Holiday Bargain Shoppers', 'TV Network Viewers (FX)', 'TV Viewers (Science Fiction & Fantasy)'] will be ignored\n",
      "  .format(sorted(unknown, key=str)))\n"
     ]
    },
    {
     "name": "stdout",
     "output_type": "stream",
     "text": [
      "Mean R^2 across 100 reps: -5.7291961343206104e+16\n"
     ]
    },
    {
     "name": "stderr",
     "output_type": "stream",
     "text": [
      "/Users/jonathant/anaconda3/lib/python3.7/site-packages/sklearn/preprocessing/_label.py:987: UserWarning: unknown class(es) ['Action & Thriller Genre Fans', 'Big Box Store Buyers - Walmart', 'Comedy Fans', 'Drama Genre Fans', 'Family Genre Fans', 'Horror Genre Fans', 'Last 12 Months Buyers - Walmart', 'Movie Theater Goers', 'Romance & Rom-Com Fans', 'Soul & R&B Fans', 'Superhero Film Fans', 'Supermarket Buyers - Whole Foods Market', 'Talent & Competition Show Fans'] will be ignored\n",
      "  .format(sorted(unknown, key=str)))\n"
     ]
    }
   ],
   "source": [
    "out = []\n",
    "for _ in range(100):\n",
    "    X_tr, X_ts, y_tr, y_ts = train_test_split(X20, y20)\n",
    "    final_pl.fit(X_tr, y_tr)\n",
    "    out.append(final_pl.score(X_ts, y_ts))\n",
    "mean_r2 = np.mean(out)\n",
    "print(\"Mean R^2 across 100 reps: %s\" % mean_r2)"
   ]
  },
  {
   "cell_type": "code",
   "execution_count": 452,
   "metadata": {},
   "outputs": [
    {
     "data": {
      "text/plain": [
       "<matplotlib.axes._subplots.AxesSubplot at 0x1a20f37d90>"
      ]
     },
     "execution_count": 452,
     "metadata": {},
     "output_type": "execute_result"
    },
    {
     "data": {
      "image/png": "[encoded data removed]",
      "text/plain": [
       "<Figure size 432x288 with 1 Axes>"
      ]
     },
     "metadata": {
      "image/png": {
       "height": 276,
       "width": 388
      },
      "needs_background": "light"
     },
     "output_type": "display_data"
    }
   ],
   "source": [
    "pd.Series(out).plot(kind='hist', title='scores in 100 model builds')"
   ]
  },
  {
   "cell_type": "markdown",
   "metadata": {},
   "source": [
    "One interesting observation here is the difference in how the model predicted impressions for data on 2019 and 2020. It seems to be doing better for the year 2019 than 2020 by quite a margin. The mean R^2 value for the 2020 model is negative. One reason to explain this is probably the fact that 2020 is still the current year so there is not sufficient data to model it. Whereas 2019 data make up for most of the main dataset which created the model so it results in a higher accuracy."
   ]
  },
  {
   "cell_type": "code",
   "execution_count": null,
   "metadata": {},
   "outputs": [],
   "source": []
  }
 ],
 "metadata": {
  "kernelspec": {
   "display_name": "Python 3",
   "language": "python",
   "name": "python3"
  },
  "language_info": {
   "codemirror_mode": {
    "name": "ipython",
    "version": 3
   },
   "file_extension": ".py",
   "mimetype": "text/x-python",
   "name": "python",
   "nbconvert_exporter": "python",
   "pygments_lexer": "ipython3",
   "version": "3.7.6"
  }
 },
 "nbformat": 4,
 "nbformat_minor": 2
}
